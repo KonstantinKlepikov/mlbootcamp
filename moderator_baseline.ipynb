{
 "cells": [
  {
   "cell_type": "markdown",
   "metadata": {},
   "source": [
    "### Импорты, форматы"
   ]
  },
  {
   "cell_type": "code",
   "execution_count": 1,
   "metadata": {},
   "outputs": [],
   "source": [
    "import pandas as pd\n",
    "import matplotlib.pyplot as plt\n",
    "import numpy as np\n",
    "import seaborn as sns\n",
    "%matplotlib inline\n",
    "plt.style.use('fivethirtyeight')\n",
    "plt.rcParams[\"figure.figsize\"] = [8,5]"
   ]
  },
  {
   "cell_type": "code",
   "execution_count": 2,
   "metadata": {},
   "outputs": [
    {
     "name": "stdout",
     "output_type": "stream",
     "text": [
      "['sample_submit_zero.csv', 'test_data.csv', 'train_answers.csv', 'train_data.csv']\n"
     ]
    }
   ],
   "source": [
    "import os\n",
    "PATH=\"../input/\"\n",
    "print(os.listdir(PATH))"
   ]
  },
  {
   "cell_type": "code",
   "execution_count": 3,
   "metadata": {},
   "outputs": [
    {
     "name": "stdout",
     "output_type": "stream",
     "text": [
      "формат обучающей выборки: (5337, 6)\n",
      "формат тестовой выборки: (3615, 6)\n",
      "формат ответов по трейну: (943, 5)\n",
      "формат образца сабмишена: (630, 5)\n"
     ]
    }
   ],
   "source": [
    "train = pd.read_csv(PATH + 'train_data.csv',)\n",
    "test = pd.read_csv(PATH + 'test_data.csv',)\n",
    "train_answers = pd.read_csv(PATH + 'train_answers.csv',)\n",
    "submission = pd.read_csv(PATH + 'sample_submit_zero.csv', header=None)\n",
    "print (\"формат обучающей выборки:\", train.shape)\n",
    "print (\"формат тестовой выборки:\", test.shape) \n",
    "print (\"формат ответов по трейну:\", train_answers.shape) \n",
    "print (\"формат образца сабмишена:\", submission.shape) "
   ]
  },
  {
   "cell_type": "markdown",
   "metadata": {},
   "source": [
    "#### Трейн"
   ]
  },
  {
   "cell_type": "code",
   "execution_count": 4,
   "metadata": {},
   "outputs": [
    {
     "data": {
      "text/html": [
       "<div>\n",
       "<style scoped>\n",
       "    .dataframe tbody tr th:only-of-type {\n",
       "        vertical-align: middle;\n",
       "    }\n",
       "\n",
       "    .dataframe tbody tr th {\n",
       "        vertical-align: top;\n",
       "    }\n",
       "\n",
       "    .dataframe thead th {\n",
       "        text-align: right;\n",
       "    }\n",
       "</style>\n",
       "<table border=\"1\" class=\"dataframe\">\n",
       "  <thead>\n",
       "    <tr style=\"text-align: right;\">\n",
       "      <th></th>\n",
       "      <th>userId</th>\n",
       "      <th>itemId</th>\n",
       "      <th>Xmin</th>\n",
       "      <th>Ymin</th>\n",
       "      <th>Xmax</th>\n",
       "      <th>Ymax</th>\n",
       "    </tr>\n",
       "  </thead>\n",
       "  <tbody>\n",
       "    <tr>\n",
       "      <th>0</th>\n",
       "      <td>1164</td>\n",
       "      <td>6132</td>\n",
       "      <td>62</td>\n",
       "      <td>656</td>\n",
       "      <td>276</td>\n",
       "      <td>803</td>\n",
       "    </tr>\n",
       "    <tr>\n",
       "      <th>1</th>\n",
       "      <td>1399</td>\n",
       "      <td>6132</td>\n",
       "      <td>184</td>\n",
       "      <td>662</td>\n",
       "      <td>235</td>\n",
       "      <td>740</td>\n",
       "    </tr>\n",
       "    <tr>\n",
       "      <th>2</th>\n",
       "      <td>1694</td>\n",
       "      <td>6132</td>\n",
       "      <td>63</td>\n",
       "      <td>648</td>\n",
       "      <td>272</td>\n",
       "      <td>830</td>\n",
       "    </tr>\n",
       "    <tr>\n",
       "      <th>3</th>\n",
       "      <td>916</td>\n",
       "      <td>6132</td>\n",
       "      <td>111</td>\n",
       "      <td>637</td>\n",
       "      <td>253</td>\n",
       "      <td>831</td>\n",
       "    </tr>\n",
       "    <tr>\n",
       "      <th>4</th>\n",
       "      <td>1621</td>\n",
       "      <td>6132</td>\n",
       "      <td>60</td>\n",
       "      <td>651</td>\n",
       "      <td>242</td>\n",
       "      <td>819</td>\n",
       "    </tr>\n",
       "    <tr>\n",
       "      <th>5</th>\n",
       "      <td>1092</td>\n",
       "      <td>6132</td>\n",
       "      <td>39</td>\n",
       "      <td>649</td>\n",
       "      <td>249</td>\n",
       "      <td>825</td>\n",
       "    </tr>\n",
       "    <tr>\n",
       "      <th>6</th>\n",
       "      <td>301</td>\n",
       "      <td>31297</td>\n",
       "      <td>29</td>\n",
       "      <td>393</td>\n",
       "      <td>126</td>\n",
       "      <td>487</td>\n",
       "    </tr>\n",
       "    <tr>\n",
       "      <th>7</th>\n",
       "      <td>1508</td>\n",
       "      <td>31297</td>\n",
       "      <td>25</td>\n",
       "      <td>399</td>\n",
       "      <td>120</td>\n",
       "      <td>485</td>\n",
       "    </tr>\n",
       "    <tr>\n",
       "      <th>8</th>\n",
       "      <td>535</td>\n",
       "      <td>31297</td>\n",
       "      <td>25</td>\n",
       "      <td>399</td>\n",
       "      <td>108</td>\n",
       "      <td>472</td>\n",
       "    </tr>\n",
       "    <tr>\n",
       "      <th>9</th>\n",
       "      <td>254</td>\n",
       "      <td>18168</td>\n",
       "      <td>209</td>\n",
       "      <td>739</td>\n",
       "      <td>534</td>\n",
       "      <td>1051</td>\n",
       "    </tr>\n",
       "  </tbody>\n",
       "</table>\n",
       "</div>"
      ],
      "text/plain": [
       "   userId  itemId  Xmin  Ymin  Xmax  Ymax\n",
       "0    1164    6132    62   656   276   803\n",
       "1    1399    6132   184   662   235   740\n",
       "2    1694    6132    63   648   272   830\n",
       "3     916    6132   111   637   253   831\n",
       "4    1621    6132    60   651   242   819\n",
       "5    1092    6132    39   649   249   825\n",
       "6     301   31297    29   393   126   487\n",
       "7    1508   31297    25   399   120   485\n",
       "8     535   31297    25   399   108   472\n",
       "9     254   18168   209   739   534  1051"
      ]
     },
     "execution_count": 4,
     "metadata": {},
     "output_type": "execute_result"
    }
   ],
   "source": [
    "train.head(10)"
   ]
  },
  {
   "cell_type": "markdown",
   "metadata": {},
   "source": [
    "#### Тест"
   ]
  },
  {
   "cell_type": "code",
   "execution_count": 5,
   "metadata": {},
   "outputs": [
    {
     "data": {
      "text/html": [
       "<div>\n",
       "<style scoped>\n",
       "    .dataframe tbody tr th:only-of-type {\n",
       "        vertical-align: middle;\n",
       "    }\n",
       "\n",
       "    .dataframe tbody tr th {\n",
       "        vertical-align: top;\n",
       "    }\n",
       "\n",
       "    .dataframe thead th {\n",
       "        text-align: right;\n",
       "    }\n",
       "</style>\n",
       "<table border=\"1\" class=\"dataframe\">\n",
       "  <thead>\n",
       "    <tr style=\"text-align: right;\">\n",
       "      <th></th>\n",
       "      <th>userId</th>\n",
       "      <th>itemId</th>\n",
       "      <th>Xmin</th>\n",
       "      <th>Ymin</th>\n",
       "      <th>Xmax</th>\n",
       "      <th>Ymax</th>\n",
       "    </tr>\n",
       "  </thead>\n",
       "  <tbody>\n",
       "    <tr>\n",
       "      <th>0</th>\n",
       "      <td>1581</td>\n",
       "      <td>34804</td>\n",
       "      <td>86</td>\n",
       "      <td>640</td>\n",
       "      <td>242</td>\n",
       "      <td>743</td>\n",
       "    </tr>\n",
       "    <tr>\n",
       "      <th>1</th>\n",
       "      <td>1351</td>\n",
       "      <td>34804</td>\n",
       "      <td>85</td>\n",
       "      <td>655</td>\n",
       "      <td>273</td>\n",
       "      <td>766</td>\n",
       "    </tr>\n",
       "    <tr>\n",
       "      <th>2</th>\n",
       "      <td>161</td>\n",
       "      <td>34804</td>\n",
       "      <td>85</td>\n",
       "      <td>648</td>\n",
       "      <td>268</td>\n",
       "      <td>748</td>\n",
       "    </tr>\n",
       "    <tr>\n",
       "      <th>3</th>\n",
       "      <td>313</td>\n",
       "      <td>5704</td>\n",
       "      <td>32</td>\n",
       "      <td>618</td>\n",
       "      <td>647</td>\n",
       "      <td>1268</td>\n",
       "    </tr>\n",
       "    <tr>\n",
       "      <th>4</th>\n",
       "      <td>1097</td>\n",
       "      <td>5704</td>\n",
       "      <td>25</td>\n",
       "      <td>620</td>\n",
       "      <td>602</td>\n",
       "      <td>1242</td>\n",
       "    </tr>\n",
       "    <tr>\n",
       "      <th>5</th>\n",
       "      <td>1525</td>\n",
       "      <td>5704</td>\n",
       "      <td>118</td>\n",
       "      <td>690</td>\n",
       "      <td>583</td>\n",
       "      <td>1191</td>\n",
       "    </tr>\n",
       "    <tr>\n",
       "      <th>6</th>\n",
       "      <td>957</td>\n",
       "      <td>32082</td>\n",
       "      <td>50</td>\n",
       "      <td>437</td>\n",
       "      <td>259</td>\n",
       "      <td>575</td>\n",
       "    </tr>\n",
       "    <tr>\n",
       "      <th>7</th>\n",
       "      <td>947</td>\n",
       "      <td>32082</td>\n",
       "      <td>42</td>\n",
       "      <td>414</td>\n",
       "      <td>252</td>\n",
       "      <td>583</td>\n",
       "    </tr>\n",
       "    <tr>\n",
       "      <th>8</th>\n",
       "      <td>237</td>\n",
       "      <td>32082</td>\n",
       "      <td>63</td>\n",
       "      <td>424</td>\n",
       "      <td>250</td>\n",
       "      <td>569</td>\n",
       "    </tr>\n",
       "    <tr>\n",
       "      <th>9</th>\n",
       "      <td>191</td>\n",
       "      <td>32082</td>\n",
       "      <td>59</td>\n",
       "      <td>483</td>\n",
       "      <td>262</td>\n",
       "      <td>584</td>\n",
       "    </tr>\n",
       "  </tbody>\n",
       "</table>\n",
       "</div>"
      ],
      "text/plain": [
       "   userId  itemId  Xmin  Ymin  Xmax  Ymax\n",
       "0    1581   34804    86   640   242   743\n",
       "1    1351   34804    85   655   273   766\n",
       "2     161   34804    85   648   268   748\n",
       "3     313    5704    32   618   647  1268\n",
       "4    1097    5704    25   620   602  1242\n",
       "5    1525    5704   118   690   583  1191\n",
       "6     957   32082    50   437   259   575\n",
       "7     947   32082    42   414   252   583\n",
       "8     237   32082    63   424   250   569\n",
       "9     191   32082    59   483   262   584"
      ]
     },
     "execution_count": 5,
     "metadata": {},
     "output_type": "execute_result"
    }
   ],
   "source": [
    "test.head(10)"
   ]
  },
  {
   "cell_type": "markdown",
   "metadata": {},
   "source": [
    "#### Ответы на тест - ground truth"
   ]
  },
  {
   "cell_type": "code",
   "execution_count": 6,
   "metadata": {},
   "outputs": [
    {
     "data": {
      "text/html": [
       "<div>\n",
       "<style scoped>\n",
       "    .dataframe tbody tr th:only-of-type {\n",
       "        vertical-align: middle;\n",
       "    }\n",
       "\n",
       "    .dataframe tbody tr th {\n",
       "        vertical-align: top;\n",
       "    }\n",
       "\n",
       "    .dataframe thead th {\n",
       "        text-align: right;\n",
       "    }\n",
       "</style>\n",
       "<table border=\"1\" class=\"dataframe\">\n",
       "  <thead>\n",
       "    <tr style=\"text-align: right;\">\n",
       "      <th></th>\n",
       "      <th>itemId</th>\n",
       "      <th>Xmin_true</th>\n",
       "      <th>Ymin_true</th>\n",
       "      <th>Xmax_true</th>\n",
       "      <th>Ymax_true</th>\n",
       "    </tr>\n",
       "  </thead>\n",
       "  <tbody>\n",
       "    <tr>\n",
       "      <th>0</th>\n",
       "      <td>5</td>\n",
       "      <td>198</td>\n",
       "      <td>827</td>\n",
       "      <td>649</td>\n",
       "      <td>1340</td>\n",
       "    </tr>\n",
       "    <tr>\n",
       "      <th>1</th>\n",
       "      <td>10</td>\n",
       "      <td>26</td>\n",
       "      <td>605</td>\n",
       "      <td>433</td>\n",
       "      <td>847</td>\n",
       "    </tr>\n",
       "    <tr>\n",
       "      <th>2</th>\n",
       "      <td>13</td>\n",
       "      <td>233</td>\n",
       "      <td>698</td>\n",
       "      <td>622</td>\n",
       "      <td>920</td>\n",
       "    </tr>\n",
       "    <tr>\n",
       "      <th>3</th>\n",
       "      <td>30</td>\n",
       "      <td>61</td>\n",
       "      <td>368</td>\n",
       "      <td>329</td>\n",
       "      <td>530</td>\n",
       "    </tr>\n",
       "    <tr>\n",
       "      <th>4</th>\n",
       "      <td>32</td>\n",
       "      <td>30</td>\n",
       "      <td>536</td>\n",
       "      <td>328</td>\n",
       "      <td>813</td>\n",
       "    </tr>\n",
       "  </tbody>\n",
       "</table>\n",
       "</div>"
      ],
      "text/plain": [
       "   itemId  Xmin_true  Ymin_true  Xmax_true  Ymax_true\n",
       "0       5        198        827        649       1340\n",
       "1      10         26        605        433        847\n",
       "2      13        233        698        622        920\n",
       "3      30         61        368        329        530\n",
       "4      32         30        536        328        813"
      ]
     },
     "execution_count": 6,
     "metadata": {},
     "output_type": "execute_result"
    }
   ],
   "source": [
    "train_answers.head()"
   ]
  },
  {
   "cell_type": "markdown",
   "metadata": {},
   "source": [
    "#### Нулевой сабмишен"
   ]
  },
  {
   "cell_type": "code",
   "execution_count": 7,
   "metadata": {},
   "outputs": [
    {
     "data": {
      "text/html": [
       "<div>\n",
       "<style scoped>\n",
       "    .dataframe tbody tr th:only-of-type {\n",
       "        vertical-align: middle;\n",
       "    }\n",
       "\n",
       "    .dataframe tbody tr th {\n",
       "        vertical-align: top;\n",
       "    }\n",
       "\n",
       "    .dataframe thead th {\n",
       "        text-align: right;\n",
       "    }\n",
       "</style>\n",
       "<table border=\"1\" class=\"dataframe\">\n",
       "  <thead>\n",
       "    <tr style=\"text-align: right;\">\n",
       "      <th></th>\n",
       "      <th>0</th>\n",
       "      <th>1</th>\n",
       "      <th>2</th>\n",
       "      <th>3</th>\n",
       "      <th>4</th>\n",
       "    </tr>\n",
       "  </thead>\n",
       "  <tbody>\n",
       "    <tr>\n",
       "      <th>0</th>\n",
       "      <td>18</td>\n",
       "      <td>0</td>\n",
       "      <td>0</td>\n",
       "      <td>0</td>\n",
       "      <td>0</td>\n",
       "    </tr>\n",
       "    <tr>\n",
       "      <th>1</th>\n",
       "      <td>19</td>\n",
       "      <td>0</td>\n",
       "      <td>0</td>\n",
       "      <td>0</td>\n",
       "      <td>0</td>\n",
       "    </tr>\n",
       "    <tr>\n",
       "      <th>2</th>\n",
       "      <td>33</td>\n",
       "      <td>0</td>\n",
       "      <td>0</td>\n",
       "      <td>0</td>\n",
       "      <td>0</td>\n",
       "    </tr>\n",
       "    <tr>\n",
       "      <th>3</th>\n",
       "      <td>62</td>\n",
       "      <td>0</td>\n",
       "      <td>0</td>\n",
       "      <td>0</td>\n",
       "      <td>0</td>\n",
       "    </tr>\n",
       "    <tr>\n",
       "      <th>4</th>\n",
       "      <td>114</td>\n",
       "      <td>0</td>\n",
       "      <td>0</td>\n",
       "      <td>0</td>\n",
       "      <td>0</td>\n",
       "    </tr>\n",
       "  </tbody>\n",
       "</table>\n",
       "</div>"
      ],
      "text/plain": [
       "     0  1  2  3  4\n",
       "0   18  0  0  0  0\n",
       "1   19  0  0  0  0\n",
       "2   33  0  0  0  0\n",
       "3   62  0  0  0  0\n",
       "4  114  0  0  0  0"
      ]
     },
     "execution_count": 7,
     "metadata": {},
     "output_type": "execute_result"
    }
   ],
   "source": [
    "submission.head()"
   ]
  },
  {
   "cell_type": "markdown",
   "metadata": {},
   "source": [
    "#### исследование файлов"
   ]
  },
  {
   "cell_type": "code",
   "execution_count": 8,
   "metadata": {},
   "outputs": [
    {
     "data": {
      "text/plain": [
       "630"
      ]
     },
     "execution_count": 8,
     "metadata": {},
     "output_type": "execute_result"
    }
   ],
   "source": [
    "submission[0].nunique()"
   ]
  },
  {
   "cell_type": "code",
   "execution_count": 9,
   "metadata": {},
   "outputs": [
    {
     "data": {
      "text/plain": [
       "630"
      ]
     },
     "execution_count": 9,
     "metadata": {},
     "output_type": "execute_result"
    }
   ],
   "source": [
    "test.itemId.nunique()"
   ]
  },
  {
   "cell_type": "markdown",
   "metadata": {},
   "source": [
    "**итого уникальных айтемов в сабмишене и в тесте - 630**"
   ]
  },
  {
   "cell_type": "markdown",
   "metadata": {},
   "source": [
    "**Посмотрим распределение кол-ва оценок по каждому айтему**"
   ]
  },
  {
   "cell_type": "markdown",
   "metadata": {},
   "source": [
    "**тест**"
   ]
  },
  {
   "cell_type": "code",
   "execution_count": 10,
   "metadata": {},
   "outputs": [],
   "source": [
    "test_counts = test.groupby('itemId').count().userId"
   ]
  },
  {
   "cell_type": "code",
   "execution_count": 11,
   "metadata": {},
   "outputs": [
    {
     "data": {
      "text/plain": [
       "(array([  1., 220.,  17.,  64.,  99.,  61.,  56.,  57.,  31.,  17.,   6.,\n",
       "          1.]),\n",
       " array([ 2.,  3.,  4.,  5.,  6.,  7.,  8.,  9., 10., 11., 12., 13., 14.]),\n",
       " <a list of 12 Patch objects>)"
      ]
     },
     "execution_count": 11,
     "metadata": {},
     "output_type": "execute_result"
    },
    {
     "data": {
      "image/png": "[encoded data removed]",
      "text/plain": [
       "<Figure size 432x288 with 1 Axes>"
      ]
     },
     "metadata": {
      "needs_background": "light"
     },
     "output_type": "display_data"
    }
   ],
   "source": [
    "plt.hist(test_counts, edgecolor = 'k', bins = 12)"
   ]
  },
  {
   "cell_type": "code",
   "execution_count": 12,
   "metadata": {},
   "outputs": [
    {
     "data": {
      "text/plain": [
       "3    220\n",
       "Name: userId, dtype: int64"
      ]
     },
     "execution_count": 12,
     "metadata": {},
     "output_type": "execute_result"
    }
   ],
   "source": [
    "test_counts.value_counts()[:1]"
   ]
  },
  {
   "cell_type": "code",
   "execution_count": 13,
   "metadata": {},
   "outputs": [
    {
     "data": {
      "text/plain": [
       "410"
      ]
     },
     "execution_count": 13,
     "metadata": {},
     "output_type": "execute_result"
    }
   ],
   "source": [
    "test_counts.value_counts()[1:].sum()"
   ]
  },
  {
   "cell_type": "markdown",
   "metadata": {},
   "source": [
    "**Итого: 220 случаев 3х оценок, суммарно 410 всех  остальных оценок по тесту**"
   ]
  },
  {
   "cell_type": "markdown",
   "metadata": {},
   "source": [
    "**трейн**"
   ]
  },
  {
   "cell_type": "code",
   "execution_count": 14,
   "metadata": {},
   "outputs": [
    {
     "data": {
      "text/plain": [
       "943"
      ]
     },
     "execution_count": 14,
     "metadata": {},
     "output_type": "execute_result"
    }
   ],
   "source": [
    "train_counts = train.groupby('itemId').count().userId\n",
    "len(train_counts)"
   ]
  },
  {
   "cell_type": "code",
   "execution_count": 15,
   "metadata": {},
   "outputs": [
    {
     "data": {
      "text/plain": [
       "24"
      ]
     },
     "execution_count": 15,
     "metadata": {},
     "output_type": "execute_result"
    }
   ],
   "source": [
    "train_counts.max()"
   ]
  },
  {
   "cell_type": "code",
   "execution_count": 16,
   "metadata": {},
   "outputs": [
    {
     "data": {
      "text/plain": [
       "(array([358.,  23.,  92., 148.,  85.,  65.,  87.,  50.,  22.,   7.,   2.,\n",
       "          0.,   1.,   1.,   0.,   1.,   0.,   0.,   0.,   0.,   1.]),\n",
       " array([ 3.,  4.,  5.,  6.,  7.,  8.,  9., 10., 11., 12., 13., 14., 15.,\n",
       "        16., 17., 18., 19., 20., 21., 22., 23., 24.]),\n",
       " <a list of 21 Patch objects>)"
      ]
     },
     "execution_count": 16,
     "metadata": {},
     "output_type": "execute_result"
    },
    {
     "data": {
      "image/png": "[encoded data removed]",
      "text/plain": [
       "<Figure size 432x288 with 1 Axes>"
      ]
     },
     "metadata": {
      "needs_background": "light"
     },
     "output_type": "display_data"
    }
   ],
   "source": [
    "plt.hist(train_counts, edgecolor = 'k', bins = 21)"
   ]
  },
  {
   "cell_type": "code",
   "execution_count": 17,
   "metadata": {},
   "outputs": [
    {
     "data": {
      "text/plain": [
       "3    358\n",
       "Name: userId, dtype: int64"
      ]
     },
     "execution_count": 17,
     "metadata": {},
     "output_type": "execute_result"
    }
   ],
   "source": [
    "train_counts.value_counts()[:1]"
   ]
  },
  {
   "cell_type": "code",
   "execution_count": 18,
   "metadata": {},
   "outputs": [
    {
     "data": {
      "text/plain": [
       "585"
      ]
     },
     "execution_count": 18,
     "metadata": {},
     "output_type": "execute_result"
    }
   ],
   "source": [
    "train_counts.value_counts()[1:].sum()"
   ]
  },
  {
   "cell_type": "markdown",
   "metadata": {},
   "source": [
    "**Итого: 358 случаев 3х оценок, суммарно 585 всех  остальных оценок по трейну**"
   ]
  },
  {
   "cell_type": "markdown",
   "metadata": {},
   "source": [
    "Создадим сабмишен с mean по каждому значению"
   ]
  },
  {
   "cell_type": "code",
   "execution_count": 19,
   "metadata": {},
   "outputs": [],
   "source": [
    "submission_mean = test.groupby('itemId').mean()\n",
    "submission_mean.drop('userId', axis=1, inplace=True)\n",
    "submission_mean = submission_mean.astype(int)\n",
    "submission_mean.insert(loc=0, column='ID', value = submission_mean.index)"
   ]
  },
  {
   "cell_type": "code",
   "execution_count": 20,
   "metadata": {},
   "outputs": [
    {
     "data": {
      "text/html": [
       "<div>\n",
       "<style scoped>\n",
       "    .dataframe tbody tr th:only-of-type {\n",
       "        vertical-align: middle;\n",
       "    }\n",
       "\n",
       "    .dataframe tbody tr th {\n",
       "        vertical-align: top;\n",
       "    }\n",
       "\n",
       "    .dataframe thead th {\n",
       "        text-align: right;\n",
       "    }\n",
       "</style>\n",
       "<table border=\"1\" class=\"dataframe\">\n",
       "  <thead>\n",
       "    <tr style=\"text-align: right;\">\n",
       "      <th></th>\n",
       "      <th>ID</th>\n",
       "      <th>Xmin</th>\n",
       "      <th>Ymin</th>\n",
       "      <th>Xmax</th>\n",
       "      <th>Ymax</th>\n",
       "    </tr>\n",
       "    <tr>\n",
       "      <th>itemId</th>\n",
       "      <th></th>\n",
       "      <th></th>\n",
       "      <th></th>\n",
       "      <th></th>\n",
       "      <th></th>\n",
       "    </tr>\n",
       "  </thead>\n",
       "  <tbody>\n",
       "    <tr>\n",
       "      <th>18</th>\n",
       "      <td>18</td>\n",
       "      <td>135</td>\n",
       "      <td>704</td>\n",
       "      <td>729</td>\n",
       "      <td>1071</td>\n",
       "    </tr>\n",
       "    <tr>\n",
       "      <th>19</th>\n",
       "      <td>19</td>\n",
       "      <td>29</td>\n",
       "      <td>560</td>\n",
       "      <td>114</td>\n",
       "      <td>725</td>\n",
       "    </tr>\n",
       "    <tr>\n",
       "      <th>33</th>\n",
       "      <td>33</td>\n",
       "      <td>46</td>\n",
       "      <td>393</td>\n",
       "      <td>374</td>\n",
       "      <td>633</td>\n",
       "    </tr>\n",
       "    <tr>\n",
       "      <th>62</th>\n",
       "      <td>62</td>\n",
       "      <td>90</td>\n",
       "      <td>964</td>\n",
       "      <td>564</td>\n",
       "      <td>1167</td>\n",
       "    </tr>\n",
       "    <tr>\n",
       "      <th>114</th>\n",
       "      <td>114</td>\n",
       "      <td>63</td>\n",
       "      <td>575</td>\n",
       "      <td>207</td>\n",
       "      <td>767</td>\n",
       "    </tr>\n",
       "  </tbody>\n",
       "</table>\n",
       "</div>"
      ],
      "text/plain": [
       "         ID  Xmin  Ymin  Xmax  Ymax\n",
       "itemId                             \n",
       "18       18   135   704   729  1071\n",
       "19       19    29   560   114   725\n",
       "33       33    46   393   374   633\n",
       "62       62    90   964   564  1167\n",
       "114     114    63   575   207   767"
      ]
     },
     "execution_count": 20,
     "metadata": {},
     "output_type": "execute_result"
    }
   ],
   "source": [
    "submission_mean.head()"
   ]
  },
  {
   "cell_type": "code",
   "execution_count": 21,
   "metadata": {},
   "outputs": [],
   "source": [
    "submission_mean.to_csv('submission_mean.csv', index=False, header=False)"
   ]
  },
  {
   "cell_type": "markdown",
   "metadata": {},
   "source": [
    "**результат посылки средних значений П: 0.5037841**"
   ]
  },
  {
   "cell_type": "markdown",
   "metadata": {},
   "source": [
    "**сравним юзеров по тесту и трейну**"
   ]
  },
  {
   "cell_type": "code",
   "execution_count": 22,
   "metadata": {},
   "outputs": [
    {
     "name": "stdout",
     "output_type": "stream",
     "text": [
      "юзеров в трейне:  1357\n",
      "юзеров в тесте:  1192\n"
     ]
    }
   ],
   "source": [
    "print(\"юзеров в трейне: \", train.userId.nunique())\n",
    "print(\"юзеров в тесте: \", test.userId.nunique())"
   ]
  },
  {
   "cell_type": "code",
   "execution_count": 23,
   "metadata": {},
   "outputs": [],
   "source": [
    "train_users = train.groupby('userId').count().index\n",
    "test_users = test.groupby('userId').count().index"
   ]
  },
  {
   "cell_type": "code",
   "execution_count": 24,
   "metadata": {},
   "outputs": [
    {
     "name": "stdout",
     "output_type": "stream",
     "text": [
      "уникальных юзеров в тесте:  191\n",
      "уникальных юзеров в трейне:  356\n"
     ]
    }
   ],
   "source": [
    "unique_users_test = []\n",
    "unique_users_train = []\n",
    "\n",
    "for i in test_users:\n",
    "    if not (i in train_users):\n",
    "        unique_users_test.append(i)\n",
    "        \n",
    "for i in train_users:\n",
    "    if not (i in test_users):\n",
    "        unique_users_train.append(i)\n",
    "        \n",
    "print(\"уникальных юзеров в тесте: \", len(unique_users_test))\n",
    "print(\"уникальных юзеров в трейне: \",len(unique_users_train))   "
   ]
  },
  {
   "cell_type": "markdown",
   "metadata": {},
   "source": [
    "**таким образом, юзеры теста и трейна пересекаются, но не совпадают.**"
   ]
  },
  {
   "cell_type": "markdown",
   "metadata": {},
   "source": [
    "**попробуем очистить данные, устранив выбросы**"
   ]
  },
  {
   "cell_type": "code",
   "execution_count": 25,
   "metadata": {},
   "outputs": [],
   "source": [
    "#функция считает среднее по оценкам, и исключает \n",
    "\n",
    "def mymean(data):\n",
    "    \n",
    "    # сюда будем писать результаты\n",
    "    \n",
    "    df_ans = data.max()\n",
    "\n",
    "    for col in ['Xmin', 'Ymin', 'Xmax', 'Ymax']:\n",
    "        # data[col] - pandas series, набор значений по координате. Задача - вычислить его mean без аутлаеров\n",
    "        \n",
    "        std = data[col].std()\n",
    "        mean = data[col].mean()\n",
    "        temp_col = []\n",
    "        \n",
    "        # пройдем по значениям столбца и если значение лежит меньше, чем в std*0.85 - то добавим его во временный столбец        \n",
    "        \n",
    "        for i in data[col]:\n",
    "            if abs(mean - i) < std*0.8:\n",
    "                temp_col.append(i)\n",
    "                \n",
    "        #если в столбец ниего вообще не попало - возьмем среднее как есть. Если там что-то есть - то возьмем то, что нашли\n",
    "                \n",
    "        if len(temp_col) > 0:\n",
    "            ans = np.array(temp_col).mean()\n",
    "        else:\n",
    "            ans = data[col].mean()\n",
    "                   \n",
    "        \n",
    "        # ans нужно в итоге присвоить то, что пойдет в таблицу\n",
    "        #ans = data[col].mean()\n",
    "        \n",
    "        df_ans[col] = ans\n",
    "        \n",
    "    return df_ans"
   ]
  },
  {
   "cell_type": "code",
   "execution_count": 26,
   "metadata": {
    "scrolled": true
   },
   "outputs": [],
   "source": [
    "submission_mymean = test.groupby('itemId').apply(mymean)\n",
    "submission_mymean.drop('userId', axis=1, inplace=True)\n",
    "submission_mymean = submission_mymean.astype(int)\n",
    "#submission_mymean.insert(loc=0, column='ID', value = submission_mymean.index)"
   ]
  },
  {
   "cell_type": "code",
   "execution_count": 27,
   "metadata": {},
   "outputs": [
    {
     "data": {
      "text/html": [
       "<div>\n",
       "<style scoped>\n",
       "    .dataframe tbody tr th:only-of-type {\n",
       "        vertical-align: middle;\n",
       "    }\n",
       "\n",
       "    .dataframe tbody tr th {\n",
       "        vertical-align: top;\n",
       "    }\n",
       "\n",
       "    .dataframe thead th {\n",
       "        text-align: right;\n",
       "    }\n",
       "</style>\n",
       "<table border=\"1\" class=\"dataframe\">\n",
       "  <thead>\n",
       "    <tr style=\"text-align: right;\">\n",
       "      <th></th>\n",
       "      <th>itemId</th>\n",
       "      <th>Xmin</th>\n",
       "      <th>Ymin</th>\n",
       "      <th>Xmax</th>\n",
       "      <th>Ymax</th>\n",
       "    </tr>\n",
       "    <tr>\n",
       "      <th>itemId</th>\n",
       "      <th></th>\n",
       "      <th></th>\n",
       "      <th></th>\n",
       "      <th></th>\n",
       "      <th></th>\n",
       "    </tr>\n",
       "  </thead>\n",
       "  <tbody>\n",
       "    <tr>\n",
       "      <th>18</th>\n",
       "      <td>18</td>\n",
       "      <td>135</td>\n",
       "      <td>704</td>\n",
       "      <td>729</td>\n",
       "      <td>1071</td>\n",
       "    </tr>\n",
       "    <tr>\n",
       "      <th>19</th>\n",
       "      <td>19</td>\n",
       "      <td>27</td>\n",
       "      <td>559</td>\n",
       "      <td>112</td>\n",
       "      <td>727</td>\n",
       "    </tr>\n",
       "    <tr>\n",
       "      <th>33</th>\n",
       "      <td>33</td>\n",
       "      <td>43</td>\n",
       "      <td>384</td>\n",
       "      <td>365</td>\n",
       "      <td>629</td>\n",
       "    </tr>\n",
       "    <tr>\n",
       "      <th>62</th>\n",
       "      <td>62</td>\n",
       "      <td>90</td>\n",
       "      <td>975</td>\n",
       "      <td>613</td>\n",
       "      <td>1166</td>\n",
       "    </tr>\n",
       "    <tr>\n",
       "      <th>114</th>\n",
       "      <td>114</td>\n",
       "      <td>69</td>\n",
       "      <td>575</td>\n",
       "      <td>210</td>\n",
       "      <td>760</td>\n",
       "    </tr>\n",
       "    <tr>\n",
       "      <th>146</th>\n",
       "      <td>146</td>\n",
       "      <td>72</td>\n",
       "      <td>481</td>\n",
       "      <td>559</td>\n",
       "      <td>816</td>\n",
       "    </tr>\n",
       "    <tr>\n",
       "      <th>156</th>\n",
       "      <td>156</td>\n",
       "      <td>87</td>\n",
       "      <td>802</td>\n",
       "      <td>155</td>\n",
       "      <td>879</td>\n",
       "    </tr>\n",
       "    <tr>\n",
       "      <th>163</th>\n",
       "      <td>163</td>\n",
       "      <td>30</td>\n",
       "      <td>322</td>\n",
       "      <td>212</td>\n",
       "      <td>461</td>\n",
       "    </tr>\n",
       "    <tr>\n",
       "      <th>164</th>\n",
       "      <td>164</td>\n",
       "      <td>5</td>\n",
       "      <td>149</td>\n",
       "      <td>349</td>\n",
       "      <td>649</td>\n",
       "    </tr>\n",
       "    <tr>\n",
       "      <th>179</th>\n",
       "      <td>179</td>\n",
       "      <td>127</td>\n",
       "      <td>515</td>\n",
       "      <td>321</td>\n",
       "      <td>732</td>\n",
       "    </tr>\n",
       "  </tbody>\n",
       "</table>\n",
       "</div>"
      ],
      "text/plain": [
       "        itemId  Xmin  Ymin  Xmax  Ymax\n",
       "itemId                                \n",
       "18          18   135   704   729  1071\n",
       "19          19    27   559   112   727\n",
       "33          33    43   384   365   629\n",
       "62          62    90   975   613  1166\n",
       "114        114    69   575   210   760\n",
       "146        146    72   481   559   816\n",
       "156        156    87   802   155   879\n",
       "163        163    30   322   212   461\n",
       "164        164     5   149   349   649\n",
       "179        179   127   515   321   732"
      ]
     },
     "execution_count": 27,
     "metadata": {},
     "output_type": "execute_result"
    }
   ],
   "source": [
    "submission_mymean.head(10)"
   ]
  },
  {
   "cell_type": "code",
   "execution_count": 28,
   "metadata": {},
   "outputs": [],
   "source": [
    "submission_mymean.to_csv('submission0-8.csv', index=False, header=False)"
   ]
  },
  {
   "cell_type": "markdown",
   "metadata": {},
   "source": [
    "**Решение с обрезкой по 0.8 (наилучшее) дает П: 0.5115125**"
   ]
  },
  {
   "cell_type": "markdown",
   "metadata": {},
   "source": [
    "**Мимакс - возьмем минимальное Xmin Ymin и максимальное Xmax Ymax в тесте**"
   ]
  },
  {
   "cell_type": "code",
   "execution_count": 29,
   "metadata": {},
   "outputs": [],
   "source": [
    "#функция берет минимальное и максимальное по разным столбцам \n",
    "\n",
    "def myminmax(data):\n",
    "    \n",
    "    # сюда будем писать результаты\n",
    "\n",
    "    df_ans = data.max()\n",
    "    \n",
    "    # банально выберем минимумы и максимумы\n",
    "\n",
    "    for col in ['Xmin', 'Ymin', 'Xmax', 'Ymax']:\n",
    "        # data[col] - pandas series, набор значений по координате. Задача - вычислить его mean без аутлаеров\n",
    "        \n",
    "        if col == 'Xmin' or col == \"Ymin\":\n",
    "            df_ans[col] = data[col].min()\n",
    "            \n",
    "        if col == 'Xmax' or col == \"Ymax\":\n",
    "            df_ans[col] = data[col].max()\n",
    "\n",
    "    return df_ans"
   ]
  },
  {
   "cell_type": "code",
   "execution_count": 30,
   "metadata": {},
   "outputs": [],
   "source": [
    "submission_myminmax = test.groupby('itemId').apply(myminmax)\n",
    "submission_myminmax.drop('userId', axis=1, inplace=True)\n",
    "submission_myminmax = submission_myminmax.astype(int)"
   ]
  },
  {
   "cell_type": "markdown",
   "metadata": {},
   "source": [
    "**посмотрим визуально, что получилось**"
   ]
  },
  {
   "cell_type": "code",
   "execution_count": 31,
   "metadata": {},
   "outputs": [
    {
     "data": {
      "text/html": [
       "<div>\n",
       "<style scoped>\n",
       "    .dataframe tbody tr th:only-of-type {\n",
       "        vertical-align: middle;\n",
       "    }\n",
       "\n",
       "    .dataframe tbody tr th {\n",
       "        vertical-align: top;\n",
       "    }\n",
       "\n",
       "    .dataframe thead th {\n",
       "        text-align: right;\n",
       "    }\n",
       "</style>\n",
       "<table border=\"1\" class=\"dataframe\">\n",
       "  <thead>\n",
       "    <tr style=\"text-align: right;\">\n",
       "      <th></th>\n",
       "      <th>userId</th>\n",
       "      <th>itemId</th>\n",
       "      <th>Xmin</th>\n",
       "      <th>Ymin</th>\n",
       "      <th>Xmax</th>\n",
       "      <th>Ymax</th>\n",
       "    </tr>\n",
       "  </thead>\n",
       "  <tbody>\n",
       "    <tr>\n",
       "      <th>1230</th>\n",
       "      <td>903</td>\n",
       "      <td>18</td>\n",
       "      <td>126</td>\n",
       "      <td>774</td>\n",
       "      <td>694</td>\n",
       "      <td>1010</td>\n",
       "    </tr>\n",
       "    <tr>\n",
       "      <th>1231</th>\n",
       "      <td>1723</td>\n",
       "      <td>18</td>\n",
       "      <td>144</td>\n",
       "      <td>634</td>\n",
       "      <td>764</td>\n",
       "      <td>1132</td>\n",
       "    </tr>\n",
       "    <tr>\n",
       "      <th>523</th>\n",
       "      <td>903</td>\n",
       "      <td>19</td>\n",
       "      <td>28</td>\n",
       "      <td>559</td>\n",
       "      <td>113</td>\n",
       "      <td>721</td>\n",
       "    </tr>\n",
       "    <tr>\n",
       "      <th>522</th>\n",
       "      <td>141</td>\n",
       "      <td>19</td>\n",
       "      <td>34</td>\n",
       "      <td>564</td>\n",
       "      <td>119</td>\n",
       "      <td>729</td>\n",
       "    </tr>\n",
       "    <tr>\n",
       "      <th>521</th>\n",
       "      <td>1723</td>\n",
       "      <td>19</td>\n",
       "      <td>27</td>\n",
       "      <td>559</td>\n",
       "      <td>112</td>\n",
       "      <td>727</td>\n",
       "    </tr>\n",
       "    <tr>\n",
       "      <th>2034</th>\n",
       "      <td>366</td>\n",
       "      <td>33</td>\n",
       "      <td>21</td>\n",
       "      <td>380</td>\n",
       "      <td>414</td>\n",
       "      <td>652</td>\n",
       "    </tr>\n",
       "    <tr>\n",
       "      <th>2035</th>\n",
       "      <td>1565</td>\n",
       "      <td>33</td>\n",
       "      <td>43</td>\n",
       "      <td>388</td>\n",
       "      <td>365</td>\n",
       "      <td>629</td>\n",
       "    </tr>\n",
       "    <tr>\n",
       "      <th>2036</th>\n",
       "      <td>141</td>\n",
       "      <td>33</td>\n",
       "      <td>75</td>\n",
       "      <td>413</td>\n",
       "      <td>345</td>\n",
       "      <td>620</td>\n",
       "    </tr>\n",
       "    <tr>\n",
       "      <th>2890</th>\n",
       "      <td>1508</td>\n",
       "      <td>62</td>\n",
       "      <td>98</td>\n",
       "      <td>1054</td>\n",
       "      <td>553</td>\n",
       "      <td>1259</td>\n",
       "    </tr>\n",
       "    <tr>\n",
       "      <th>2893</th>\n",
       "      <td>141</td>\n",
       "      <td>62</td>\n",
       "      <td>125</td>\n",
       "      <td>980</td>\n",
       "      <td>623</td>\n",
       "      <td>1130</td>\n",
       "    </tr>\n",
       "  </tbody>\n",
       "</table>\n",
       "</div>"
      ],
      "text/plain": [
       "      userId  itemId  Xmin  Ymin  Xmax  Ymax\n",
       "1230     903      18   126   774   694  1010\n",
       "1231    1723      18   144   634   764  1132\n",
       "523      903      19    28   559   113   721\n",
       "522      141      19    34   564   119   729\n",
       "521     1723      19    27   559   112   727\n",
       "2034     366      33    21   380   414   652\n",
       "2035    1565      33    43   388   365   629\n",
       "2036     141      33    75   413   345   620\n",
       "2890    1508      62    98  1054   553  1259\n",
       "2893     141      62   125   980   623  1130"
      ]
     },
     "execution_count": 31,
     "metadata": {},
     "output_type": "execute_result"
    }
   ],
   "source": [
    "test.sort_values(by=\"itemId\").head(10)"
   ]
  },
  {
   "cell_type": "code",
   "execution_count": 32,
   "metadata": {},
   "outputs": [
    {
     "data": {
      "text/html": [
       "<div>\n",
       "<style scoped>\n",
       "    .dataframe tbody tr th:only-of-type {\n",
       "        vertical-align: middle;\n",
       "    }\n",
       "\n",
       "    .dataframe tbody tr th {\n",
       "        vertical-align: top;\n",
       "    }\n",
       "\n",
       "    .dataframe thead th {\n",
       "        text-align: right;\n",
       "    }\n",
       "</style>\n",
       "<table border=\"1\" class=\"dataframe\">\n",
       "  <thead>\n",
       "    <tr style=\"text-align: right;\">\n",
       "      <th></th>\n",
       "      <th>itemId</th>\n",
       "      <th>Xmin</th>\n",
       "      <th>Ymin</th>\n",
       "      <th>Xmax</th>\n",
       "      <th>Ymax</th>\n",
       "    </tr>\n",
       "    <tr>\n",
       "      <th>itemId</th>\n",
       "      <th></th>\n",
       "      <th></th>\n",
       "      <th></th>\n",
       "      <th></th>\n",
       "      <th></th>\n",
       "    </tr>\n",
       "  </thead>\n",
       "  <tbody>\n",
       "    <tr>\n",
       "      <th>18</th>\n",
       "      <td>18</td>\n",
       "      <td>126</td>\n",
       "      <td>634</td>\n",
       "      <td>764</td>\n",
       "      <td>1132</td>\n",
       "    </tr>\n",
       "    <tr>\n",
       "      <th>19</th>\n",
       "      <td>19</td>\n",
       "      <td>27</td>\n",
       "      <td>559</td>\n",
       "      <td>119</td>\n",
       "      <td>729</td>\n",
       "    </tr>\n",
       "    <tr>\n",
       "      <th>33</th>\n",
       "      <td>33</td>\n",
       "      <td>21</td>\n",
       "      <td>380</td>\n",
       "      <td>414</td>\n",
       "      <td>652</td>\n",
       "    </tr>\n",
       "    <tr>\n",
       "      <th>62</th>\n",
       "      <td>62</td>\n",
       "      <td>35</td>\n",
       "      <td>824</td>\n",
       "      <td>639</td>\n",
       "      <td>1262</td>\n",
       "    </tr>\n",
       "    <tr>\n",
       "      <th>114</th>\n",
       "      <td>114</td>\n",
       "      <td>41</td>\n",
       "      <td>570</td>\n",
       "      <td>216</td>\n",
       "      <td>780</td>\n",
       "    </tr>\n",
       "    <tr>\n",
       "      <th>146</th>\n",
       "      <td>146</td>\n",
       "      <td>17</td>\n",
       "      <td>211</td>\n",
       "      <td>643</td>\n",
       "      <td>1118</td>\n",
       "    </tr>\n",
       "    <tr>\n",
       "      <th>156</th>\n",
       "      <td>156</td>\n",
       "      <td>74</td>\n",
       "      <td>802</td>\n",
       "      <td>160</td>\n",
       "      <td>887</td>\n",
       "    </tr>\n",
       "    <tr>\n",
       "      <th>163</th>\n",
       "      <td>163</td>\n",
       "      <td>21</td>\n",
       "      <td>317</td>\n",
       "      <td>213</td>\n",
       "      <td>465</td>\n",
       "    </tr>\n",
       "    <tr>\n",
       "      <th>164</th>\n",
       "      <td>164</td>\n",
       "      <td>4</td>\n",
       "      <td>146</td>\n",
       "      <td>401</td>\n",
       "      <td>681</td>\n",
       "    </tr>\n",
       "    <tr>\n",
       "      <th>179</th>\n",
       "      <td>179</td>\n",
       "      <td>116</td>\n",
       "      <td>490</td>\n",
       "      <td>330</td>\n",
       "      <td>733</td>\n",
       "    </tr>\n",
       "  </tbody>\n",
       "</table>\n",
       "</div>"
      ],
      "text/plain": [
       "        itemId  Xmin  Ymin  Xmax  Ymax\n",
       "itemId                                \n",
       "18          18   126   634   764  1132\n",
       "19          19    27   559   119   729\n",
       "33          33    21   380   414   652\n",
       "62          62    35   824   639  1262\n",
       "114        114    41   570   216   780\n",
       "146        146    17   211   643  1118\n",
       "156        156    74   802   160   887\n",
       "163        163    21   317   213   465\n",
       "164        164     4   146   401   681\n",
       "179        179   116   490   330   733"
      ]
     },
     "execution_count": 32,
     "metadata": {},
     "output_type": "execute_result"
    }
   ],
   "source": [
    "submission_myminmax.head(10)"
   ]
  },
  {
   "cell_type": "markdown",
   "metadata": {},
   "source": [
    "**вроде работает. Загрузим**"
   ]
  },
  {
   "cell_type": "code",
   "execution_count": 33,
   "metadata": {},
   "outputs": [],
   "source": [
    "submission_myminmax.to_csv('submission_minmax_simple.csv', index=False, header=False)"
   ]
  },
  {
   "cell_type": "markdown",
   "metadata": {},
   "source": [
    "**результат простого минмакса - П: 0.5678444** (и таких результатов довольно много)"
   ]
  },
  {
   "cell_type": "markdown",
   "metadata": {},
   "source": [
    "**Напишем тот же минмакс, но с выкидыванием аутлаеров свыше 0,8std**"
   ]
  },
  {
   "cell_type": "code",
   "execution_count": 34,
   "metadata": {},
   "outputs": [],
   "source": [
    "#функция берет минимальное и максимальное по разным столбцам, выкидываая аутлаеров \n",
    "\n",
    "def myminmax_filtered(data):\n",
    "    \n",
    "    # сюда будем писать результаты\n",
    "\n",
    "    df_ans = data.max()\n",
    "    \n",
    "    # банально выберем минимумы и максимумы\n",
    "\n",
    "    for col in ['Xmin', 'Ymin', 'Xmax', 'Ymax']:\n",
    "        # data[col] - pandas series, набор значений по координате. Задача - вычислить его mean без аутлаеров\n",
    "        \n",
    "        std = data[col].std()\n",
    "        mean = data[col].mean()\n",
    "        temp_col = []\n",
    "        \n",
    "        # пройдем по значениям столбца и если значение лежит меньше, чем в std*0.85 - то добавим его во временный столбец        \n",
    "        \n",
    "        for i in data[col]:\n",
    "            if abs(mean - i) < std*0.8:\n",
    "                temp_col.append(i)\n",
    "                \n",
    "        # Если в итоге в темп ничего не залетело - возьмем как есть\n",
    "        \n",
    "        if len(temp_col) < 1:\n",
    "        \n",
    "            if col == 'Xmin' or col == \"Ymin\":\n",
    "                df_ans[col] = data[col].min()\n",
    "\n",
    "            if col == 'Xmax' or col == \"Ymax\":\n",
    "                df_ans[col] = data[col].max()\n",
    "                \n",
    "        else:\n",
    "            \n",
    "            if col == 'Xmin' or col == \"Ymin\":\n",
    "                df_ans[col] = min(temp_col)\n",
    "\n",
    "            if col == 'Xmax' or col == \"Ymax\":\n",
    "                df_ans[col] =  max(temp_col)\n",
    "\n",
    "    return df_ans"
   ]
  },
  {
   "cell_type": "code",
   "execution_count": 35,
   "metadata": {},
   "outputs": [],
   "source": [
    "submission_myminmax_filtered = test.groupby('itemId').apply(myminmax_filtered)\n",
    "submission_myminmax_filtered.drop('userId', axis=1, inplace=True)\n",
    "submission_myminmax_filtered = submission_myminmax_filtered.astype(int)"
   ]
  },
  {
   "cell_type": "code",
   "execution_count": 36,
   "metadata": {},
   "outputs": [],
   "source": [
    "submission_myminmax_filtered.to_csv('submission_minmax_filtered_0-8.csv', index=False, header=False)"
   ]
  },
  {
   "cell_type": "markdown",
   "metadata": {},
   "source": [
    "**результат П: 0.5270054 - снижение**"
   ]
  },
  {
   "cell_type": "markdown",
   "metadata": {},
   "source": [
    "**вычислим по трейну юзеров, которые ошибаются сильнее всего**"
   ]
  },
  {
   "cell_type": "code",
   "execution_count": 37,
   "metadata": {},
   "outputs": [],
   "source": [
    "train_merged = pd.merge(train, train_answers, how='inner', on = 'itemId')"
   ]
  },
  {
   "cell_type": "code",
   "execution_count": 38,
   "metadata": {},
   "outputs": [
    {
     "data": {
      "text/html": [
       "<div>\n",
       "<style scoped>\n",
       "    .dataframe tbody tr th:only-of-type {\n",
       "        vertical-align: middle;\n",
       "    }\n",
       "\n",
       "    .dataframe tbody tr th {\n",
       "        vertical-align: top;\n",
       "    }\n",
       "\n",
       "    .dataframe thead th {\n",
       "        text-align: right;\n",
       "    }\n",
       "</style>\n",
       "<table border=\"1\" class=\"dataframe\">\n",
       "  <thead>\n",
       "    <tr style=\"text-align: right;\">\n",
       "      <th></th>\n",
       "      <th>userId</th>\n",
       "      <th>itemId</th>\n",
       "      <th>Xmin</th>\n",
       "      <th>Ymin</th>\n",
       "      <th>Xmax</th>\n",
       "      <th>Ymax</th>\n",
       "      <th>Xmin_true</th>\n",
       "      <th>Ymin_true</th>\n",
       "      <th>Xmax_true</th>\n",
       "      <th>Ymax_true</th>\n",
       "    </tr>\n",
       "  </thead>\n",
       "  <tbody>\n",
       "    <tr>\n",
       "      <th>0</th>\n",
       "      <td>1164</td>\n",
       "      <td>6132</td>\n",
       "      <td>62</td>\n",
       "      <td>656</td>\n",
       "      <td>276</td>\n",
       "      <td>803</td>\n",
       "      <td>47</td>\n",
       "      <td>650</td>\n",
       "      <td>213</td>\n",
       "      <td>812</td>\n",
       "    </tr>\n",
       "    <tr>\n",
       "      <th>1</th>\n",
       "      <td>1399</td>\n",
       "      <td>6132</td>\n",
       "      <td>184</td>\n",
       "      <td>662</td>\n",
       "      <td>235</td>\n",
       "      <td>740</td>\n",
       "      <td>47</td>\n",
       "      <td>650</td>\n",
       "      <td>213</td>\n",
       "      <td>812</td>\n",
       "    </tr>\n",
       "    <tr>\n",
       "      <th>2</th>\n",
       "      <td>1694</td>\n",
       "      <td>6132</td>\n",
       "      <td>63</td>\n",
       "      <td>648</td>\n",
       "      <td>272</td>\n",
       "      <td>830</td>\n",
       "      <td>47</td>\n",
       "      <td>650</td>\n",
       "      <td>213</td>\n",
       "      <td>812</td>\n",
       "    </tr>\n",
       "    <tr>\n",
       "      <th>3</th>\n",
       "      <td>916</td>\n",
       "      <td>6132</td>\n",
       "      <td>111</td>\n",
       "      <td>637</td>\n",
       "      <td>253</td>\n",
       "      <td>831</td>\n",
       "      <td>47</td>\n",
       "      <td>650</td>\n",
       "      <td>213</td>\n",
       "      <td>812</td>\n",
       "    </tr>\n",
       "    <tr>\n",
       "      <th>4</th>\n",
       "      <td>1621</td>\n",
       "      <td>6132</td>\n",
       "      <td>60</td>\n",
       "      <td>651</td>\n",
       "      <td>242</td>\n",
       "      <td>819</td>\n",
       "      <td>47</td>\n",
       "      <td>650</td>\n",
       "      <td>213</td>\n",
       "      <td>812</td>\n",
       "    </tr>\n",
       "    <tr>\n",
       "      <th>5</th>\n",
       "      <td>1092</td>\n",
       "      <td>6132</td>\n",
       "      <td>39</td>\n",
       "      <td>649</td>\n",
       "      <td>249</td>\n",
       "      <td>825</td>\n",
       "      <td>47</td>\n",
       "      <td>650</td>\n",
       "      <td>213</td>\n",
       "      <td>812</td>\n",
       "    </tr>\n",
       "    <tr>\n",
       "      <th>6</th>\n",
       "      <td>301</td>\n",
       "      <td>31297</td>\n",
       "      <td>29</td>\n",
       "      <td>393</td>\n",
       "      <td>126</td>\n",
       "      <td>487</td>\n",
       "      <td>18</td>\n",
       "      <td>390</td>\n",
       "      <td>122</td>\n",
       "      <td>472</td>\n",
       "    </tr>\n",
       "    <tr>\n",
       "      <th>7</th>\n",
       "      <td>1508</td>\n",
       "      <td>31297</td>\n",
       "      <td>25</td>\n",
       "      <td>399</td>\n",
       "      <td>120</td>\n",
       "      <td>485</td>\n",
       "      <td>18</td>\n",
       "      <td>390</td>\n",
       "      <td>122</td>\n",
       "      <td>472</td>\n",
       "    </tr>\n",
       "    <tr>\n",
       "      <th>8</th>\n",
       "      <td>535</td>\n",
       "      <td>31297</td>\n",
       "      <td>25</td>\n",
       "      <td>399</td>\n",
       "      <td>108</td>\n",
       "      <td>472</td>\n",
       "      <td>18</td>\n",
       "      <td>390</td>\n",
       "      <td>122</td>\n",
       "      <td>472</td>\n",
       "    </tr>\n",
       "    <tr>\n",
       "      <th>9</th>\n",
       "      <td>254</td>\n",
       "      <td>18168</td>\n",
       "      <td>209</td>\n",
       "      <td>739</td>\n",
       "      <td>534</td>\n",
       "      <td>1051</td>\n",
       "      <td>35</td>\n",
       "      <td>713</td>\n",
       "      <td>656</td>\n",
       "      <td>1082</td>\n",
       "    </tr>\n",
       "  </tbody>\n",
       "</table>\n",
       "</div>"
      ],
      "text/plain": [
       "   userId  itemId  Xmin  Ymin  Xmax  Ymax  Xmin_true  Ymin_true  Xmax_true  \\\n",
       "0    1164    6132    62   656   276   803         47        650        213   \n",
       "1    1399    6132   184   662   235   740         47        650        213   \n",
       "2    1694    6132    63   648   272   830         47        650        213   \n",
       "3     916    6132   111   637   253   831         47        650        213   \n",
       "4    1621    6132    60   651   242   819         47        650        213   \n",
       "5    1092    6132    39   649   249   825         47        650        213   \n",
       "6     301   31297    29   393   126   487         18        390        122   \n",
       "7    1508   31297    25   399   120   485         18        390        122   \n",
       "8     535   31297    25   399   108   472         18        390        122   \n",
       "9     254   18168   209   739   534  1051         35        713        656   \n",
       "\n",
       "   Ymax_true  \n",
       "0        812  \n",
       "1        812  \n",
       "2        812  \n",
       "3        812  \n",
       "4        812  \n",
       "5        812  \n",
       "6        472  \n",
       "7        472  \n",
       "8        472  \n",
       "9       1082  "
      ]
     },
     "execution_count": 38,
     "metadata": {},
     "output_type": "execute_result"
    }
   ],
   "source": [
    "train_merged.head(10)"
   ]
  },
  {
   "cell_type": "code",
   "execution_count": 39,
   "metadata": {},
   "outputs": [],
   "source": [
    "train_merged[\"mse\"] = ((train_merged.Xmin - train_merged.Xmin_true)**2 + (train_merged.Xmax - train_merged.Xmax_true)**2\\\n",
    "                       + (train_merged.Ymin - train_merged.Ymin_true)**2 + (train_merged.Ymax - train_merged.Ymax_true)**2)/4"
   ]
  },
  {
   "cell_type": "code",
   "execution_count": 40,
   "metadata": {},
   "outputs": [
    {
     "data": {
      "text/html": [
       "<div>\n",
       "<style scoped>\n",
       "    .dataframe tbody tr th:only-of-type {\n",
       "        vertical-align: middle;\n",
       "    }\n",
       "\n",
       "    .dataframe tbody tr th {\n",
       "        vertical-align: top;\n",
       "    }\n",
       "\n",
       "    .dataframe thead th {\n",
       "        text-align: right;\n",
       "    }\n",
       "</style>\n",
       "<table border=\"1\" class=\"dataframe\">\n",
       "  <thead>\n",
       "    <tr style=\"text-align: right;\">\n",
       "      <th></th>\n",
       "      <th>userId</th>\n",
       "      <th>itemId</th>\n",
       "      <th>Xmin</th>\n",
       "      <th>Ymin</th>\n",
       "      <th>Xmax</th>\n",
       "      <th>Ymax</th>\n",
       "      <th>Xmin_true</th>\n",
       "      <th>Ymin_true</th>\n",
       "      <th>Xmax_true</th>\n",
       "      <th>Ymax_true</th>\n",
       "      <th>mse</th>\n",
       "    </tr>\n",
       "  </thead>\n",
       "  <tbody>\n",
       "    <tr>\n",
       "      <th>0</th>\n",
       "      <td>1164</td>\n",
       "      <td>6132</td>\n",
       "      <td>62</td>\n",
       "      <td>656</td>\n",
       "      <td>276</td>\n",
       "      <td>803</td>\n",
       "      <td>47</td>\n",
       "      <td>650</td>\n",
       "      <td>213</td>\n",
       "      <td>812</td>\n",
       "      <td>1077.75</td>\n",
       "    </tr>\n",
       "    <tr>\n",
       "      <th>1</th>\n",
       "      <td>1399</td>\n",
       "      <td>6132</td>\n",
       "      <td>184</td>\n",
       "      <td>662</td>\n",
       "      <td>235</td>\n",
       "      <td>740</td>\n",
       "      <td>47</td>\n",
       "      <td>650</td>\n",
       "      <td>213</td>\n",
       "      <td>812</td>\n",
       "      <td>6145.25</td>\n",
       "    </tr>\n",
       "    <tr>\n",
       "      <th>2</th>\n",
       "      <td>1694</td>\n",
       "      <td>6132</td>\n",
       "      <td>63</td>\n",
       "      <td>648</td>\n",
       "      <td>272</td>\n",
       "      <td>830</td>\n",
       "      <td>47</td>\n",
       "      <td>650</td>\n",
       "      <td>213</td>\n",
       "      <td>812</td>\n",
       "      <td>1016.25</td>\n",
       "    </tr>\n",
       "    <tr>\n",
       "      <th>3</th>\n",
       "      <td>916</td>\n",
       "      <td>6132</td>\n",
       "      <td>111</td>\n",
       "      <td>637</td>\n",
       "      <td>253</td>\n",
       "      <td>831</td>\n",
       "      <td>47</td>\n",
       "      <td>650</td>\n",
       "      <td>213</td>\n",
       "      <td>812</td>\n",
       "      <td>1556.50</td>\n",
       "    </tr>\n",
       "    <tr>\n",
       "      <th>4</th>\n",
       "      <td>1621</td>\n",
       "      <td>6132</td>\n",
       "      <td>60</td>\n",
       "      <td>651</td>\n",
       "      <td>242</td>\n",
       "      <td>819</td>\n",
       "      <td>47</td>\n",
       "      <td>650</td>\n",
       "      <td>213</td>\n",
       "      <td>812</td>\n",
       "      <td>265.00</td>\n",
       "    </tr>\n",
       "  </tbody>\n",
       "</table>\n",
       "</div>"
      ],
      "text/plain": [
       "   userId  itemId  Xmin  Ymin  Xmax  Ymax  Xmin_true  Ymin_true  Xmax_true  \\\n",
       "0    1164    6132    62   656   276   803         47        650        213   \n",
       "1    1399    6132   184   662   235   740         47        650        213   \n",
       "2    1694    6132    63   648   272   830         47        650        213   \n",
       "3     916    6132   111   637   253   831         47        650        213   \n",
       "4    1621    6132    60   651   242   819         47        650        213   \n",
       "\n",
       "   Ymax_true      mse  \n",
       "0        812  1077.75  \n",
       "1        812  6145.25  \n",
       "2        812  1016.25  \n",
       "3        812  1556.50  \n",
       "4        812   265.00  "
      ]
     },
     "execution_count": 40,
     "metadata": {},
     "output_type": "execute_result"
    }
   ],
   "source": [
    "train_merged.head()"
   ]
  },
  {
   "cell_type": "markdown",
   "metadata": {},
   "source": [
    "**юзеры трейна, отранжированные по фейлам**"
   ]
  },
  {
   "cell_type": "code",
   "execution_count": 41,
   "metadata": {},
   "outputs": [
    {
     "data": {
      "text/plain": [
       "userId\n",
       "1019    217615.750000\n",
       "671     202095.000000\n",
       "388     174108.625000\n",
       "344     147222.250000\n",
       "533     127838.750000\n",
       "1615    126893.500000\n",
       "569     121956.750000\n",
       "333     118177.500000\n",
       "688     109075.250000\n",
       "1002    103343.750000\n",
       "915      98982.625000\n",
       "417      83625.375000\n",
       "921      81811.833333\n",
       "862      78676.750000\n",
       "1494     78217.250000\n",
       "797      77012.250000\n",
       "1546     72952.083333\n",
       "719      72224.750000\n",
       "1364     71290.750000\n",
       "305      70077.125000\n",
       "Name: mse, dtype: float64"
      ]
     },
     "execution_count": 41,
     "metadata": {},
     "output_type": "execute_result"
    }
   ],
   "source": [
    "user_fails = train_merged.groupby('userId').mean().mse.sort_values(ascending=False)\n",
    "user_fails.head(20)"
   ]
  },
  {
   "cell_type": "code",
   "execution_count": 42,
   "metadata": {},
   "outputs": [
    {
     "data": {
      "text/plain": [
       "Int64Index([1019,  671,  388,  344,  533, 1615,  569,  333,  688, 1002,\n",
       "            ...\n",
       "             361,  718,  758, 1050,  693,   35, 1230,   41, 1539,   77],\n",
       "           dtype='int64', name='userId', length=1357)"
      ]
     },
     "execution_count": 42,
     "metadata": {},
     "output_type": "execute_result"
    }
   ],
   "source": [
    "user_fails.index"
   ]
  },
  {
   "cell_type": "markdown",
   "metadata": {},
   "source": [
    "**sanity check - то же самое, но без квадрата, по модулю**"
   ]
  },
  {
   "cell_type": "code",
   "execution_count": 43,
   "metadata": {},
   "outputs": [
    {
     "data": {
      "text/plain": [
       "26"
      ]
     },
     "execution_count": 43,
     "metadata": {},
     "output_type": "execute_result"
    }
   ],
   "source": [
    "train_merged2 = pd.merge(train, train_answers, how='inner', on = 'itemId')\n",
    "train_merged2[\"mse\"] = (abs(train_merged.Xmin - train_merged.Xmin_true) + abs(train_merged.Xmax - train_merged.Xmax_true)\\\n",
    "                       + abs(train_merged.Ymin - train_merged.Ymin_true) + abs(train_merged.Ymax - train_merged.Ymax_true))/4\n",
    "user_fails2 = train_merged2.groupby('userId').mean().mse.sort_values(ascending=False)\n",
    "sum(user_fails2.index == user_fails.index)"
   ]
  },
  {
   "cell_type": "markdown",
   "metadata": {},
   "source": [
    "**удалим из теста 10 самых фейлящих юзеров**"
   ]
  },
  {
   "cell_type": "code",
   "execution_count": 44,
   "metadata": {},
   "outputs": [
    {
     "data": {
      "text/plain": [
       "(3615, 6)"
      ]
     },
     "execution_count": 44,
     "metadata": {},
     "output_type": "execute_result"
    }
   ],
   "source": [
    "test.shape"
   ]
  },
  {
   "cell_type": "code",
   "execution_count": 45,
   "metadata": {},
   "outputs": [
    {
     "data": {
      "text/plain": [
       "(3605, 6)"
      ]
     },
     "execution_count": 45,
     "metadata": {},
     "output_type": "execute_result"
    }
   ],
   "source": [
    "test_nofails10 = test[~test[\"userId\"].isin(user_fails.index[0:10])]\n",
    "\n",
    "test_nofails10.shape"
   ]
  },
  {
   "cell_type": "code",
   "execution_count": 46,
   "metadata": {},
   "outputs": [],
   "source": [
    "submission_nofails = test.groupby('itemId').apply(myminmax)\n",
    "submission_nofails.drop('userId', axis=1, inplace=True)\n",
    "submission_nofails = submission_nofails.astype(int)\n",
    "submission_nofails.to_csv('submission_nofails10.csv', index=False, header=False)"
   ]
  },
  {
   "cell_type": "markdown",
   "metadata": {},
   "source": [
    "**10 - нет улучшения. !!! ошибка!!! перезалить!!!**"
   ]
  },
  {
   "cell_type": "code",
   "execution_count": 47,
   "metadata": {},
   "outputs": [],
   "source": [
    "def save_nofails(threshold, test=test, user_fails=user_fails):\n",
    "    test_nofails = test[~test[\"userId\"].isin(user_fails.index[0:threshold])]\n",
    "    submission_nofails = test_nofails.groupby('itemId').apply(myminmax)\n",
    "    submission_nofails.drop('userId', axis=1, inplace=True)\n",
    "    submission_nofails = submission_nofails.astype(int)\n",
    "    submission_nofails.to_csv('submission_nofails' + str(threshold) + '.csv', index=False, header=False)\n",
    "    print(threshold, test_nofails.shape)"
   ]
  },
  {
   "cell_type": "code",
   "execution_count": 48,
   "metadata": {},
   "outputs": [
    {
     "name": "stdout",
     "output_type": "stream",
     "text": [
      "10 (3605, 6)\n",
      "100 (3467, 6)\n"
     ]
    }
   ],
   "source": [
    "for i in [10, 100]:\n",
    "    save_nofails(i)"
   ]
  },
  {
   "cell_type": "markdown",
   "metadata": {},
   "source": [
    "- 10 - П: 0.5678450 !!!\n",
    "- 20 - П: 0.5678450 !!\n",
    "- 30 - П: 0.5677362\n",
    "- 40 - П: 0.5677362\n",
    "- 50 - П: 0.5678378"
   ]
  },
  {
   "cell_type": "code",
   "execution_count": 49,
   "metadata": {},
   "outputs": [
    {
     "name": "stdout",
     "output_type": "stream",
     "text": [
      "4 (3610, 6)\n",
      "5 (3608, 6)\n",
      "6 (3607, 6)\n",
      "9 (3606, 6)\n"
     ]
    }
   ],
   "source": [
    "for i in [4, 5, 6, 9]:\n",
    "    save_nofails(i)"
   ]
  },
  {
   "cell_type": "code",
   "execution_count": 50,
   "metadata": {},
   "outputs": [
    {
     "data": {
      "text/html": [
       "<div>\n",
       "<style scoped>\n",
       "    .dataframe tbody tr th:only-of-type {\n",
       "        vertical-align: middle;\n",
       "    }\n",
       "\n",
       "    .dataframe tbody tr th {\n",
       "        vertical-align: top;\n",
       "    }\n",
       "\n",
       "    .dataframe thead th {\n",
       "        text-align: right;\n",
       "    }\n",
       "</style>\n",
       "<table border=\"1\" class=\"dataframe\">\n",
       "  <thead>\n",
       "    <tr style=\"text-align: right;\">\n",
       "      <th></th>\n",
       "      <th>itemId</th>\n",
       "      <th>Xmin</th>\n",
       "      <th>Ymin</th>\n",
       "      <th>Xmax</th>\n",
       "      <th>Ymax</th>\n",
       "    </tr>\n",
       "    <tr>\n",
       "      <th>itemId</th>\n",
       "      <th></th>\n",
       "      <th></th>\n",
       "      <th></th>\n",
       "      <th></th>\n",
       "      <th></th>\n",
       "    </tr>\n",
       "  </thead>\n",
       "  <tbody>\n",
       "    <tr>\n",
       "      <th>18</th>\n",
       "      <td>18</td>\n",
       "      <td>126</td>\n",
       "      <td>634</td>\n",
       "      <td>764</td>\n",
       "      <td>1132</td>\n",
       "    </tr>\n",
       "    <tr>\n",
       "      <th>19</th>\n",
       "      <td>19</td>\n",
       "      <td>27</td>\n",
       "      <td>559</td>\n",
       "      <td>119</td>\n",
       "      <td>729</td>\n",
       "    </tr>\n",
       "    <tr>\n",
       "      <th>33</th>\n",
       "      <td>33</td>\n",
       "      <td>21</td>\n",
       "      <td>380</td>\n",
       "      <td>414</td>\n",
       "      <td>652</td>\n",
       "    </tr>\n",
       "    <tr>\n",
       "      <th>62</th>\n",
       "      <td>62</td>\n",
       "      <td>35</td>\n",
       "      <td>824</td>\n",
       "      <td>639</td>\n",
       "      <td>1262</td>\n",
       "    </tr>\n",
       "    <tr>\n",
       "      <th>114</th>\n",
       "      <td>114</td>\n",
       "      <td>41</td>\n",
       "      <td>570</td>\n",
       "      <td>216</td>\n",
       "      <td>780</td>\n",
       "    </tr>\n",
       "    <tr>\n",
       "      <th>146</th>\n",
       "      <td>146</td>\n",
       "      <td>17</td>\n",
       "      <td>211</td>\n",
       "      <td>643</td>\n",
       "      <td>1118</td>\n",
       "    </tr>\n",
       "    <tr>\n",
       "      <th>156</th>\n",
       "      <td>156</td>\n",
       "      <td>74</td>\n",
       "      <td>802</td>\n",
       "      <td>160</td>\n",
       "      <td>887</td>\n",
       "    </tr>\n",
       "    <tr>\n",
       "      <th>163</th>\n",
       "      <td>163</td>\n",
       "      <td>21</td>\n",
       "      <td>317</td>\n",
       "      <td>213</td>\n",
       "      <td>465</td>\n",
       "    </tr>\n",
       "    <tr>\n",
       "      <th>164</th>\n",
       "      <td>164</td>\n",
       "      <td>4</td>\n",
       "      <td>146</td>\n",
       "      <td>401</td>\n",
       "      <td>681</td>\n",
       "    </tr>\n",
       "    <tr>\n",
       "      <th>179</th>\n",
       "      <td>179</td>\n",
       "      <td>116</td>\n",
       "      <td>490</td>\n",
       "      <td>330</td>\n",
       "      <td>733</td>\n",
       "    </tr>\n",
       "  </tbody>\n",
       "</table>\n",
       "</div>"
      ],
      "text/plain": [
       "        itemId  Xmin  Ymin  Xmax  Ymax\n",
       "itemId                                \n",
       "18          18   126   634   764  1132\n",
       "19          19    27   559   119   729\n",
       "33          33    21   380   414   652\n",
       "62          62    35   824   639  1262\n",
       "114        114    41   570   216   780\n",
       "146        146    17   211   643  1118\n",
       "156        156    74   802   160   887\n",
       "163        163    21   317   213   465\n",
       "164        164     4   146   401   681\n",
       "179        179   116   490   330   733"
      ]
     },
     "execution_count": 50,
     "metadata": {},
     "output_type": "execute_result"
    }
   ],
   "source": [
    "submission_nofails.head(10)"
   ]
  },
  {
   "cell_type": "code",
   "execution_count": 51,
   "metadata": {},
   "outputs": [],
   "source": [
    "submission_nofails.Ymax -= 1"
   ]
  },
  {
   "cell_type": "code",
   "execution_count": 52,
   "metadata": {},
   "outputs": [
    {
     "data": {
      "text/html": [
       "<div>\n",
       "<style scoped>\n",
       "    .dataframe tbody tr th:only-of-type {\n",
       "        vertical-align: middle;\n",
       "    }\n",
       "\n",
       "    .dataframe tbody tr th {\n",
       "        vertical-align: top;\n",
       "    }\n",
       "\n",
       "    .dataframe thead th {\n",
       "        text-align: right;\n",
       "    }\n",
       "</style>\n",
       "<table border=\"1\" class=\"dataframe\">\n",
       "  <thead>\n",
       "    <tr style=\"text-align: right;\">\n",
       "      <th></th>\n",
       "      <th>itemId</th>\n",
       "      <th>Xmin</th>\n",
       "      <th>Ymin</th>\n",
       "      <th>Xmax</th>\n",
       "      <th>Ymax</th>\n",
       "    </tr>\n",
       "    <tr>\n",
       "      <th>itemId</th>\n",
       "      <th></th>\n",
       "      <th></th>\n",
       "      <th></th>\n",
       "      <th></th>\n",
       "      <th></th>\n",
       "    </tr>\n",
       "  </thead>\n",
       "  <tbody>\n",
       "    <tr>\n",
       "      <th>18</th>\n",
       "      <td>18</td>\n",
       "      <td>126</td>\n",
       "      <td>634</td>\n",
       "      <td>764</td>\n",
       "      <td>1131</td>\n",
       "    </tr>\n",
       "    <tr>\n",
       "      <th>19</th>\n",
       "      <td>19</td>\n",
       "      <td>27</td>\n",
       "      <td>559</td>\n",
       "      <td>119</td>\n",
       "      <td>728</td>\n",
       "    </tr>\n",
       "    <tr>\n",
       "      <th>33</th>\n",
       "      <td>33</td>\n",
       "      <td>21</td>\n",
       "      <td>380</td>\n",
       "      <td>414</td>\n",
       "      <td>651</td>\n",
       "    </tr>\n",
       "    <tr>\n",
       "      <th>62</th>\n",
       "      <td>62</td>\n",
       "      <td>35</td>\n",
       "      <td>824</td>\n",
       "      <td>639</td>\n",
       "      <td>1261</td>\n",
       "    </tr>\n",
       "    <tr>\n",
       "      <th>114</th>\n",
       "      <td>114</td>\n",
       "      <td>41</td>\n",
       "      <td>570</td>\n",
       "      <td>216</td>\n",
       "      <td>779</td>\n",
       "    </tr>\n",
       "    <tr>\n",
       "      <th>146</th>\n",
       "      <td>146</td>\n",
       "      <td>17</td>\n",
       "      <td>211</td>\n",
       "      <td>643</td>\n",
       "      <td>1117</td>\n",
       "    </tr>\n",
       "    <tr>\n",
       "      <th>156</th>\n",
       "      <td>156</td>\n",
       "      <td>74</td>\n",
       "      <td>802</td>\n",
       "      <td>160</td>\n",
       "      <td>886</td>\n",
       "    </tr>\n",
       "    <tr>\n",
       "      <th>163</th>\n",
       "      <td>163</td>\n",
       "      <td>21</td>\n",
       "      <td>317</td>\n",
       "      <td>213</td>\n",
       "      <td>464</td>\n",
       "    </tr>\n",
       "    <tr>\n",
       "      <th>164</th>\n",
       "      <td>164</td>\n",
       "      <td>4</td>\n",
       "      <td>146</td>\n",
       "      <td>401</td>\n",
       "      <td>680</td>\n",
       "    </tr>\n",
       "    <tr>\n",
       "      <th>179</th>\n",
       "      <td>179</td>\n",
       "      <td>116</td>\n",
       "      <td>490</td>\n",
       "      <td>330</td>\n",
       "      <td>732</td>\n",
       "    </tr>\n",
       "  </tbody>\n",
       "</table>\n",
       "</div>"
      ],
      "text/plain": [
       "        itemId  Xmin  Ymin  Xmax  Ymax\n",
       "itemId                                \n",
       "18          18   126   634   764  1131\n",
       "19          19    27   559   119   728\n",
       "33          33    21   380   414   651\n",
       "62          62    35   824   639  1261\n",
       "114        114    41   570   216   779\n",
       "146        146    17   211   643  1117\n",
       "156        156    74   802   160   886\n",
       "163        163    21   317   213   464\n",
       "164        164     4   146   401   680\n",
       "179        179   116   490   330   732"
      ]
     },
     "execution_count": 52,
     "metadata": {},
     "output_type": "execute_result"
    }
   ],
   "source": [
    "submission_nofails.head(10)"
   ]
  },
  {
   "cell_type": "code",
   "execution_count": 53,
   "metadata": {},
   "outputs": [],
   "source": [
    "submission_nofails.to_csv('submission_nofails10_minus1.csv', index=False, header=False)"
   ]
  },
  {
   "cell_type": "code",
   "execution_count": null,
   "metadata": {},
   "outputs": [],
   "source": []
  },
  {
   "cell_type": "code",
   "execution_count": null,
   "metadata": {},
   "outputs": [],
   "source": []
  }
 ],
 "metadata": {
  "kernelspec": {
   "display_name": "Python 3",
   "language": "python",
   "name": "python3"
  },
  "language_info": {
   "codemirror_mode": {
    "name": "ipython",
    "version": 3
   },
   "file_extension": ".py",
   "mimetype": "text/x-python",
   "name": "python",
   "nbconvert_exporter": "python",
   "pygments_lexer": "ipython3",
   "version": "3.6.6"
  }
 },
 "nbformat": 4,
 "nbformat_minor": 2
}
