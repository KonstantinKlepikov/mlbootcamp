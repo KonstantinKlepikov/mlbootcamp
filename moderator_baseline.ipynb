{
 "cells": [
  {
   "cell_type": "markdown",
   "metadata": {},
   "source": [
    "### Импорты, форматы"
   ]
  },
  {
   "cell_type": "code",
   "execution_count": 819,
   "metadata": {},
   "outputs": [],
   "source": [
    "import pandas as pd\n",
    "import matplotlib.pyplot as plt\n",
    "import numpy as np\n",
    "import seaborn as sns\n",
    "%matplotlib inline\n",
    "plt.style.use('fivethirtyeight')\n",
    "plt.rcParams[\"figure.figsize\"] = [8,5]\n",
    "import gc\n",
    "from lightgbm import LGBMRegressor\n",
    "from sklearn.model_selection import StratifiedKFold\n",
    "from sklearn.model_selection import RepeatedStratifiedKFold\n",
    "import lightgbm as lgb"
   ]
  },
  {
   "cell_type": "code",
   "execution_count": 693,
   "metadata": {},
   "outputs": [
    {
     "name": "stdout",
     "output_type": "stream",
     "text": [
      "['sample_submit_zero.csv', 'test_data.csv', 'train_answers.csv', 'train_data.csv']\n"
     ]
    }
   ],
   "source": [
    "import os\n",
    "PATH=\"../input/\"\n",
    "print(os.listdir(PATH))"
   ]
  },
  {
   "cell_type": "code",
   "execution_count": 694,
   "metadata": {},
   "outputs": [
    {
     "name": "stdout",
     "output_type": "stream",
     "text": [
      "формат обучающей выборки: (5337, 6)\n",
      "формат тестовой выборки: (3615, 6)\n",
      "формат ответов по трейну: (943, 5)\n",
      "формат образца сабмишена: (630, 5)\n"
     ]
    }
   ],
   "source": [
    "train = pd.read_csv(PATH + 'train_data.csv',)\n",
    "test = pd.read_csv(PATH + 'test_data.csv',)\n",
    "train_answers = pd.read_csv(PATH + 'train_answers.csv',)\n",
    "submission = pd.read_csv(PATH + 'sample_submit_zero.csv', header=None)\n",
    "print (\"формат обучающей выборки:\", train.shape)\n",
    "print (\"формат тестовой выборки:\", test.shape) \n",
    "print (\"формат ответов по трейну:\", train_answers.shape) \n",
    "print (\"формат образца сабмишена:\", submission.shape) "
   ]
  },
  {
   "cell_type": "markdown",
   "metadata": {},
   "source": [
    "#### Трейн"
   ]
  },
  {
   "cell_type": "code",
   "execution_count": 695,
   "metadata": {},
   "outputs": [
    {
     "data": {
      "text/html": [
       "<div>\n",
       "<style scoped>\n",
       "    .dataframe tbody tr th:only-of-type {\n",
       "        vertical-align: middle;\n",
       "    }\n",
       "\n",
       "    .dataframe tbody tr th {\n",
       "        vertical-align: top;\n",
       "    }\n",
       "\n",
       "    .dataframe thead th {\n",
       "        text-align: right;\n",
       "    }\n",
       "</style>\n",
       "<table border=\"1\" class=\"dataframe\">\n",
       "  <thead>\n",
       "    <tr style=\"text-align: right;\">\n",
       "      <th></th>\n",
       "      <th>userId</th>\n",
       "      <th>itemId</th>\n",
       "      <th>Xmin</th>\n",
       "      <th>Ymin</th>\n",
       "      <th>Xmax</th>\n",
       "      <th>Ymax</th>\n",
       "    </tr>\n",
       "  </thead>\n",
       "  <tbody>\n",
       "    <tr>\n",
       "      <th>0</th>\n",
       "      <td>1164</td>\n",
       "      <td>6132</td>\n",
       "      <td>62</td>\n",
       "      <td>656</td>\n",
       "      <td>276</td>\n",
       "      <td>803</td>\n",
       "    </tr>\n",
       "    <tr>\n",
       "      <th>1</th>\n",
       "      <td>1399</td>\n",
       "      <td>6132</td>\n",
       "      <td>184</td>\n",
       "      <td>662</td>\n",
       "      <td>235</td>\n",
       "      <td>740</td>\n",
       "    </tr>\n",
       "    <tr>\n",
       "      <th>2</th>\n",
       "      <td>1694</td>\n",
       "      <td>6132</td>\n",
       "      <td>63</td>\n",
       "      <td>648</td>\n",
       "      <td>272</td>\n",
       "      <td>830</td>\n",
       "    </tr>\n",
       "    <tr>\n",
       "      <th>3</th>\n",
       "      <td>916</td>\n",
       "      <td>6132</td>\n",
       "      <td>111</td>\n",
       "      <td>637</td>\n",
       "      <td>253</td>\n",
       "      <td>831</td>\n",
       "    </tr>\n",
       "    <tr>\n",
       "      <th>4</th>\n",
       "      <td>1621</td>\n",
       "      <td>6132</td>\n",
       "      <td>60</td>\n",
       "      <td>651</td>\n",
       "      <td>242</td>\n",
       "      <td>819</td>\n",
       "    </tr>\n",
       "    <tr>\n",
       "      <th>5</th>\n",
       "      <td>1092</td>\n",
       "      <td>6132</td>\n",
       "      <td>39</td>\n",
       "      <td>649</td>\n",
       "      <td>249</td>\n",
       "      <td>825</td>\n",
       "    </tr>\n",
       "    <tr>\n",
       "      <th>6</th>\n",
       "      <td>301</td>\n",
       "      <td>31297</td>\n",
       "      <td>29</td>\n",
       "      <td>393</td>\n",
       "      <td>126</td>\n",
       "      <td>487</td>\n",
       "    </tr>\n",
       "    <tr>\n",
       "      <th>7</th>\n",
       "      <td>1508</td>\n",
       "      <td>31297</td>\n",
       "      <td>25</td>\n",
       "      <td>399</td>\n",
       "      <td>120</td>\n",
       "      <td>485</td>\n",
       "    </tr>\n",
       "    <tr>\n",
       "      <th>8</th>\n",
       "      <td>535</td>\n",
       "      <td>31297</td>\n",
       "      <td>25</td>\n",
       "      <td>399</td>\n",
       "      <td>108</td>\n",
       "      <td>472</td>\n",
       "    </tr>\n",
       "    <tr>\n",
       "      <th>9</th>\n",
       "      <td>254</td>\n",
       "      <td>18168</td>\n",
       "      <td>209</td>\n",
       "      <td>739</td>\n",
       "      <td>534</td>\n",
       "      <td>1051</td>\n",
       "    </tr>\n",
       "  </tbody>\n",
       "</table>\n",
       "</div>"
      ],
      "text/plain": [
       "   userId  itemId  Xmin  Ymin  Xmax  Ymax\n",
       "0    1164    6132    62   656   276   803\n",
       "1    1399    6132   184   662   235   740\n",
       "2    1694    6132    63   648   272   830\n",
       "3     916    6132   111   637   253   831\n",
       "4    1621    6132    60   651   242   819\n",
       "5    1092    6132    39   649   249   825\n",
       "6     301   31297    29   393   126   487\n",
       "7    1508   31297    25   399   120   485\n",
       "8     535   31297    25   399   108   472\n",
       "9     254   18168   209   739   534  1051"
      ]
     },
     "execution_count": 695,
     "metadata": {},
     "output_type": "execute_result"
    }
   ],
   "source": [
    "train.head(10)"
   ]
  },
  {
   "cell_type": "markdown",
   "metadata": {},
   "source": [
    "#### Тест"
   ]
  },
  {
   "cell_type": "code",
   "execution_count": 696,
   "metadata": {},
   "outputs": [
    {
     "data": {
      "text/html": [
       "<div>\n",
       "<style scoped>\n",
       "    .dataframe tbody tr th:only-of-type {\n",
       "        vertical-align: middle;\n",
       "    }\n",
       "\n",
       "    .dataframe tbody tr th {\n",
       "        vertical-align: top;\n",
       "    }\n",
       "\n",
       "    .dataframe thead th {\n",
       "        text-align: right;\n",
       "    }\n",
       "</style>\n",
       "<table border=\"1\" class=\"dataframe\">\n",
       "  <thead>\n",
       "    <tr style=\"text-align: right;\">\n",
       "      <th></th>\n",
       "      <th>userId</th>\n",
       "      <th>itemId</th>\n",
       "      <th>Xmin</th>\n",
       "      <th>Ymin</th>\n",
       "      <th>Xmax</th>\n",
       "      <th>Ymax</th>\n",
       "    </tr>\n",
       "  </thead>\n",
       "  <tbody>\n",
       "    <tr>\n",
       "      <th>0</th>\n",
       "      <td>1581</td>\n",
       "      <td>34804</td>\n",
       "      <td>86</td>\n",
       "      <td>640</td>\n",
       "      <td>242</td>\n",
       "      <td>743</td>\n",
       "    </tr>\n",
       "    <tr>\n",
       "      <th>1</th>\n",
       "      <td>1351</td>\n",
       "      <td>34804</td>\n",
       "      <td>85</td>\n",
       "      <td>655</td>\n",
       "      <td>273</td>\n",
       "      <td>766</td>\n",
       "    </tr>\n",
       "    <tr>\n",
       "      <th>2</th>\n",
       "      <td>161</td>\n",
       "      <td>34804</td>\n",
       "      <td>85</td>\n",
       "      <td>648</td>\n",
       "      <td>268</td>\n",
       "      <td>748</td>\n",
       "    </tr>\n",
       "    <tr>\n",
       "      <th>3</th>\n",
       "      <td>313</td>\n",
       "      <td>5704</td>\n",
       "      <td>32</td>\n",
       "      <td>618</td>\n",
       "      <td>647</td>\n",
       "      <td>1268</td>\n",
       "    </tr>\n",
       "    <tr>\n",
       "      <th>4</th>\n",
       "      <td>1097</td>\n",
       "      <td>5704</td>\n",
       "      <td>25</td>\n",
       "      <td>620</td>\n",
       "      <td>602</td>\n",
       "      <td>1242</td>\n",
       "    </tr>\n",
       "    <tr>\n",
       "      <th>5</th>\n",
       "      <td>1525</td>\n",
       "      <td>5704</td>\n",
       "      <td>118</td>\n",
       "      <td>690</td>\n",
       "      <td>583</td>\n",
       "      <td>1191</td>\n",
       "    </tr>\n",
       "    <tr>\n",
       "      <th>6</th>\n",
       "      <td>957</td>\n",
       "      <td>32082</td>\n",
       "      <td>50</td>\n",
       "      <td>437</td>\n",
       "      <td>259</td>\n",
       "      <td>575</td>\n",
       "    </tr>\n",
       "    <tr>\n",
       "      <th>7</th>\n",
       "      <td>947</td>\n",
       "      <td>32082</td>\n",
       "      <td>42</td>\n",
       "      <td>414</td>\n",
       "      <td>252</td>\n",
       "      <td>583</td>\n",
       "    </tr>\n",
       "    <tr>\n",
       "      <th>8</th>\n",
       "      <td>237</td>\n",
       "      <td>32082</td>\n",
       "      <td>63</td>\n",
       "      <td>424</td>\n",
       "      <td>250</td>\n",
       "      <td>569</td>\n",
       "    </tr>\n",
       "    <tr>\n",
       "      <th>9</th>\n",
       "      <td>191</td>\n",
       "      <td>32082</td>\n",
       "      <td>59</td>\n",
       "      <td>483</td>\n",
       "      <td>262</td>\n",
       "      <td>584</td>\n",
       "    </tr>\n",
       "  </tbody>\n",
       "</table>\n",
       "</div>"
      ],
      "text/plain": [
       "   userId  itemId  Xmin  Ymin  Xmax  Ymax\n",
       "0    1581   34804    86   640   242   743\n",
       "1    1351   34804    85   655   273   766\n",
       "2     161   34804    85   648   268   748\n",
       "3     313    5704    32   618   647  1268\n",
       "4    1097    5704    25   620   602  1242\n",
       "5    1525    5704   118   690   583  1191\n",
       "6     957   32082    50   437   259   575\n",
       "7     947   32082    42   414   252   583\n",
       "8     237   32082    63   424   250   569\n",
       "9     191   32082    59   483   262   584"
      ]
     },
     "execution_count": 696,
     "metadata": {},
     "output_type": "execute_result"
    }
   ],
   "source": [
    "test.head(10)"
   ]
  },
  {
   "cell_type": "markdown",
   "metadata": {},
   "source": [
    "#### Ответы на тест - ground truth"
   ]
  },
  {
   "cell_type": "code",
   "execution_count": 697,
   "metadata": {},
   "outputs": [
    {
     "data": {
      "text/html": [
       "<div>\n",
       "<style scoped>\n",
       "    .dataframe tbody tr th:only-of-type {\n",
       "        vertical-align: middle;\n",
       "    }\n",
       "\n",
       "    .dataframe tbody tr th {\n",
       "        vertical-align: top;\n",
       "    }\n",
       "\n",
       "    .dataframe thead th {\n",
       "        text-align: right;\n",
       "    }\n",
       "</style>\n",
       "<table border=\"1\" class=\"dataframe\">\n",
       "  <thead>\n",
       "    <tr style=\"text-align: right;\">\n",
       "      <th></th>\n",
       "      <th>itemId</th>\n",
       "      <th>Xmin_true</th>\n",
       "      <th>Ymin_true</th>\n",
       "      <th>Xmax_true</th>\n",
       "      <th>Ymax_true</th>\n",
       "    </tr>\n",
       "  </thead>\n",
       "  <tbody>\n",
       "    <tr>\n",
       "      <th>0</th>\n",
       "      <td>5</td>\n",
       "      <td>198</td>\n",
       "      <td>827</td>\n",
       "      <td>649</td>\n",
       "      <td>1340</td>\n",
       "    </tr>\n",
       "    <tr>\n",
       "      <th>1</th>\n",
       "      <td>10</td>\n",
       "      <td>26</td>\n",
       "      <td>605</td>\n",
       "      <td>433</td>\n",
       "      <td>847</td>\n",
       "    </tr>\n",
       "    <tr>\n",
       "      <th>2</th>\n",
       "      <td>13</td>\n",
       "      <td>233</td>\n",
       "      <td>698</td>\n",
       "      <td>622</td>\n",
       "      <td>920</td>\n",
       "    </tr>\n",
       "    <tr>\n",
       "      <th>3</th>\n",
       "      <td>30</td>\n",
       "      <td>61</td>\n",
       "      <td>368</td>\n",
       "      <td>329</td>\n",
       "      <td>530</td>\n",
       "    </tr>\n",
       "    <tr>\n",
       "      <th>4</th>\n",
       "      <td>32</td>\n",
       "      <td>30</td>\n",
       "      <td>536</td>\n",
       "      <td>328</td>\n",
       "      <td>813</td>\n",
       "    </tr>\n",
       "  </tbody>\n",
       "</table>\n",
       "</div>"
      ],
      "text/plain": [
       "   itemId  Xmin_true  Ymin_true  Xmax_true  Ymax_true\n",
       "0       5        198        827        649       1340\n",
       "1      10         26        605        433        847\n",
       "2      13        233        698        622        920\n",
       "3      30         61        368        329        530\n",
       "4      32         30        536        328        813"
      ]
     },
     "execution_count": 697,
     "metadata": {},
     "output_type": "execute_result"
    }
   ],
   "source": [
    "train_answers.head()"
   ]
  },
  {
   "cell_type": "markdown",
   "metadata": {},
   "source": [
    "#### Нулевой сабмишен"
   ]
  },
  {
   "cell_type": "code",
   "execution_count": 698,
   "metadata": {},
   "outputs": [
    {
     "data": {
      "text/html": [
       "<div>\n",
       "<style scoped>\n",
       "    .dataframe tbody tr th:only-of-type {\n",
       "        vertical-align: middle;\n",
       "    }\n",
       "\n",
       "    .dataframe tbody tr th {\n",
       "        vertical-align: top;\n",
       "    }\n",
       "\n",
       "    .dataframe thead th {\n",
       "        text-align: right;\n",
       "    }\n",
       "</style>\n",
       "<table border=\"1\" class=\"dataframe\">\n",
       "  <thead>\n",
       "    <tr style=\"text-align: right;\">\n",
       "      <th></th>\n",
       "      <th>0</th>\n",
       "      <th>1</th>\n",
       "      <th>2</th>\n",
       "      <th>3</th>\n",
       "      <th>4</th>\n",
       "    </tr>\n",
       "  </thead>\n",
       "  <tbody>\n",
       "    <tr>\n",
       "      <th>0</th>\n",
       "      <td>18</td>\n",
       "      <td>0</td>\n",
       "      <td>0</td>\n",
       "      <td>0</td>\n",
       "      <td>0</td>\n",
       "    </tr>\n",
       "    <tr>\n",
       "      <th>1</th>\n",
       "      <td>19</td>\n",
       "      <td>0</td>\n",
       "      <td>0</td>\n",
       "      <td>0</td>\n",
       "      <td>0</td>\n",
       "    </tr>\n",
       "    <tr>\n",
       "      <th>2</th>\n",
       "      <td>33</td>\n",
       "      <td>0</td>\n",
       "      <td>0</td>\n",
       "      <td>0</td>\n",
       "      <td>0</td>\n",
       "    </tr>\n",
       "    <tr>\n",
       "      <th>3</th>\n",
       "      <td>62</td>\n",
       "      <td>0</td>\n",
       "      <td>0</td>\n",
       "      <td>0</td>\n",
       "      <td>0</td>\n",
       "    </tr>\n",
       "    <tr>\n",
       "      <th>4</th>\n",
       "      <td>114</td>\n",
       "      <td>0</td>\n",
       "      <td>0</td>\n",
       "      <td>0</td>\n",
       "      <td>0</td>\n",
       "    </tr>\n",
       "  </tbody>\n",
       "</table>\n",
       "</div>"
      ],
      "text/plain": [
       "     0  1  2  3  4\n",
       "0   18  0  0  0  0\n",
       "1   19  0  0  0  0\n",
       "2   33  0  0  0  0\n",
       "3   62  0  0  0  0\n",
       "4  114  0  0  0  0"
      ]
     },
     "execution_count": 698,
     "metadata": {},
     "output_type": "execute_result"
    }
   ],
   "source": [
    "submission.head()"
   ]
  },
  {
   "cell_type": "markdown",
   "metadata": {},
   "source": [
    "#### исследование файлов"
   ]
  },
  {
   "cell_type": "code",
   "execution_count": 699,
   "metadata": {},
   "outputs": [
    {
     "data": {
      "text/plain": [
       "630"
      ]
     },
     "execution_count": 699,
     "metadata": {},
     "output_type": "execute_result"
    }
   ],
   "source": [
    "submission[0].nunique()"
   ]
  },
  {
   "cell_type": "code",
   "execution_count": 700,
   "metadata": {},
   "outputs": [
    {
     "data": {
      "text/plain": [
       "630"
      ]
     },
     "execution_count": 700,
     "metadata": {},
     "output_type": "execute_result"
    }
   ],
   "source": [
    "test.itemId.nunique()"
   ]
  },
  {
   "cell_type": "markdown",
   "metadata": {},
   "source": [
    "**итого уникальных айтемов в сабмишене и в тесте - 630**"
   ]
  },
  {
   "cell_type": "markdown",
   "metadata": {},
   "source": [
    "**Посмотрим распределение кол-ва оценок по каждому айтему**"
   ]
  },
  {
   "cell_type": "markdown",
   "metadata": {},
   "source": [
    "**тест**"
   ]
  },
  {
   "cell_type": "code",
   "execution_count": 701,
   "metadata": {},
   "outputs": [],
   "source": [
    "test_counts = test.groupby('itemId').count().userId"
   ]
  },
  {
   "cell_type": "code",
   "execution_count": 702,
   "metadata": {},
   "outputs": [
    {
     "data": {
      "text/plain": [
       "(array([  1., 220.,  17.,  64.,  99.,  61.,  56.,  57.,  31.,  17.,   6.,\n",
       "          1.]),\n",
       " array([ 2.,  3.,  4.,  5.,  6.,  7.,  8.,  9., 10., 11., 12., 13., 14.]),\n",
       " <a list of 12 Patch objects>)"
      ]
     },
     "execution_count": 702,
     "metadata": {},
     "output_type": "execute_result"
    },
    {
     "data": {
      "image/png": "[encoded data removed]",
      "text/plain": [
       "<Figure size 576x360 with 1 Axes>"
      ]
     },
     "metadata": {},
     "output_type": "display_data"
    }
   ],
   "source": [
    "plt.hist(test_counts, edgecolor = 'k', bins = 12)"
   ]
  },
  {
   "cell_type": "code",
   "execution_count": 703,
   "metadata": {},
   "outputs": [
    {
     "data": {
      "text/plain": [
       "3    220\n",
       "Name: userId, dtype: int64"
      ]
     },
     "execution_count": 703,
     "metadata": {},
     "output_type": "execute_result"
    }
   ],
   "source": [
    "test_counts.value_counts()[:1]"
   ]
  },
  {
   "cell_type": "code",
   "execution_count": 704,
   "metadata": {},
   "outputs": [
    {
     "data": {
      "text/plain": [
       "410"
      ]
     },
     "execution_count": 704,
     "metadata": {},
     "output_type": "execute_result"
    }
   ],
   "source": [
    "test_counts.value_counts()[1:].sum()"
   ]
  },
  {
   "cell_type": "markdown",
   "metadata": {},
   "source": [
    "**Итого: 220 случаев 3х оценок, суммарно 410 всех  остальных оценок по тесту**"
   ]
  },
  {
   "cell_type": "markdown",
   "metadata": {},
   "source": [
    "**трейн**"
   ]
  },
  {
   "cell_type": "code",
   "execution_count": 705,
   "metadata": {},
   "outputs": [
    {
     "data": {
      "text/plain": [
       "943"
      ]
     },
     "execution_count": 705,
     "metadata": {},
     "output_type": "execute_result"
    }
   ],
   "source": [
    "train_counts = train.groupby('itemId').count().userId\n",
    "len(train_counts)"
   ]
  },
  {
   "cell_type": "code",
   "execution_count": 706,
   "metadata": {},
   "outputs": [
    {
     "data": {
      "text/plain": [
       "24"
      ]
     },
     "execution_count": 706,
     "metadata": {},
     "output_type": "execute_result"
    }
   ],
   "source": [
    "train_counts.max()"
   ]
  },
  {
   "cell_type": "code",
   "execution_count": 707,
   "metadata": {},
   "outputs": [
    {
     "data": {
      "text/plain": [
       "(array([358.,  23.,  92., 148.,  85.,  65.,  87.,  50.,  22.,   7.,   2.,\n",
       "          0.,   1.,   1.,   0.,   1.,   0.,   0.,   0.,   0.,   1.]),\n",
       " array([ 3.,  4.,  5.,  6.,  7.,  8.,  9., 10., 11., 12., 13., 14., 15.,\n",
       "        16., 17., 18., 19., 20., 21., 22., 23., 24.]),\n",
       " <a list of 21 Patch objects>)"
      ]
     },
     "execution_count": 707,
     "metadata": {},
     "output_type": "execute_result"
    },
    {
     "data": {
      "image/png": "[encoded data removed]",
      "text/plain": [
       "<Figure size 576x360 with 1 Axes>"
      ]
     },
     "metadata": {},
     "output_type": "display_data"
    }
   ],
   "source": [
    "plt.hist(train_counts, edgecolor = 'k', bins = 21)"
   ]
  },
  {
   "cell_type": "code",
   "execution_count": 708,
   "metadata": {},
   "outputs": [
    {
     "data": {
      "text/plain": [
       "3    358\n",
       "Name: userId, dtype: int64"
      ]
     },
     "execution_count": 708,
     "metadata": {},
     "output_type": "execute_result"
    }
   ],
   "source": [
    "train_counts.value_counts()[:1]"
   ]
  },
  {
   "cell_type": "code",
   "execution_count": 709,
   "metadata": {},
   "outputs": [
    {
     "data": {
      "text/plain": [
       "585"
      ]
     },
     "execution_count": 709,
     "metadata": {},
     "output_type": "execute_result"
    }
   ],
   "source": [
    "train_counts.value_counts()[1:].sum()"
   ]
  },
  {
   "cell_type": "markdown",
   "metadata": {},
   "source": [
    "**Итого: 358 случаев 3х оценок, суммарно 585 всех  остальных оценок по трейну**"
   ]
  },
  {
   "cell_type": "markdown",
   "metadata": {},
   "source": [
    "Создадим сабмишен с mean по каждому значению"
   ]
  },
  {
   "cell_type": "code",
   "execution_count": 710,
   "metadata": {},
   "outputs": [],
   "source": [
    "submission_mean = test.groupby('itemId').mean()\n",
    "submission_mean.drop('userId', axis=1, inplace=True)\n",
    "submission_mean = submission_mean.astype(int)\n",
    "submission_mean.insert(loc=0, column='ID', value = submission_mean.index)"
   ]
  },
  {
   "cell_type": "code",
   "execution_count": 711,
   "metadata": {},
   "outputs": [
    {
     "data": {
      "text/html": [
       "<div>\n",
       "<style scoped>\n",
       "    .dataframe tbody tr th:only-of-type {\n",
       "        vertical-align: middle;\n",
       "    }\n",
       "\n",
       "    .dataframe tbody tr th {\n",
       "        vertical-align: top;\n",
       "    }\n",
       "\n",
       "    .dataframe thead th {\n",
       "        text-align: right;\n",
       "    }\n",
       "</style>\n",
       "<table border=\"1\" class=\"dataframe\">\n",
       "  <thead>\n",
       "    <tr style=\"text-align: right;\">\n",
       "      <th></th>\n",
       "      <th>ID</th>\n",
       "      <th>Xmin</th>\n",
       "      <th>Ymin</th>\n",
       "      <th>Xmax</th>\n",
       "      <th>Ymax</th>\n",
       "    </tr>\n",
       "    <tr>\n",
       "      <th>itemId</th>\n",
       "      <th></th>\n",
       "      <th></th>\n",
       "      <th></th>\n",
       "      <th></th>\n",
       "      <th></th>\n",
       "    </tr>\n",
       "  </thead>\n",
       "  <tbody>\n",
       "    <tr>\n",
       "      <th>18</th>\n",
       "      <td>18</td>\n",
       "      <td>135</td>\n",
       "      <td>704</td>\n",
       "      <td>729</td>\n",
       "      <td>1071</td>\n",
       "    </tr>\n",
       "    <tr>\n",
       "      <th>19</th>\n",
       "      <td>19</td>\n",
       "      <td>29</td>\n",
       "      <td>560</td>\n",
       "      <td>114</td>\n",
       "      <td>725</td>\n",
       "    </tr>\n",
       "    <tr>\n",
       "      <th>33</th>\n",
       "      <td>33</td>\n",
       "      <td>46</td>\n",
       "      <td>393</td>\n",
       "      <td>374</td>\n",
       "      <td>633</td>\n",
       "    </tr>\n",
       "    <tr>\n",
       "      <th>62</th>\n",
       "      <td>62</td>\n",
       "      <td>90</td>\n",
       "      <td>964</td>\n",
       "      <td>564</td>\n",
       "      <td>1167</td>\n",
       "    </tr>\n",
       "    <tr>\n",
       "      <th>114</th>\n",
       "      <td>114</td>\n",
       "      <td>63</td>\n",
       "      <td>575</td>\n",
       "      <td>207</td>\n",
       "      <td>767</td>\n",
       "    </tr>\n",
       "  </tbody>\n",
       "</table>\n",
       "</div>"
      ],
      "text/plain": [
       "         ID  Xmin  Ymin  Xmax  Ymax\n",
       "itemId                             \n",
       "18       18   135   704   729  1071\n",
       "19       19    29   560   114   725\n",
       "33       33    46   393   374   633\n",
       "62       62    90   964   564  1167\n",
       "114     114    63   575   207   767"
      ]
     },
     "execution_count": 711,
     "metadata": {},
     "output_type": "execute_result"
    }
   ],
   "source": [
    "submission_mean.head()"
   ]
  },
  {
   "cell_type": "code",
   "execution_count": 712,
   "metadata": {},
   "outputs": [],
   "source": [
    "submission_mean.to_csv('submission_mean.csv', index=False, header=False)"
   ]
  },
  {
   "cell_type": "markdown",
   "metadata": {},
   "source": [
    "**результат посылки средних значений П: 0.5037841**"
   ]
  },
  {
   "cell_type": "markdown",
   "metadata": {},
   "source": [
    "**сравним юзеров по тесту и трейну**"
   ]
  },
  {
   "cell_type": "code",
   "execution_count": 713,
   "metadata": {},
   "outputs": [
    {
     "name": "stdout",
     "output_type": "stream",
     "text": [
      "юзеров в трейне:  1357\n",
      "юзеров в тесте:  1192\n"
     ]
    }
   ],
   "source": [
    "print(\"юзеров в трейне: \", train.userId.nunique())\n",
    "print(\"юзеров в тесте: \", test.userId.nunique())"
   ]
  },
  {
   "cell_type": "code",
   "execution_count": 714,
   "metadata": {},
   "outputs": [],
   "source": [
    "train_users = train.groupby('userId').count().index\n",
    "test_users = test.groupby('userId').count().index"
   ]
  },
  {
   "cell_type": "code",
   "execution_count": 715,
   "metadata": {},
   "outputs": [
    {
     "name": "stdout",
     "output_type": "stream",
     "text": [
      "уникальных юзеров в тесте:  191\n",
      "уникальных юзеров в трейне:  356\n"
     ]
    }
   ],
   "source": [
    "unique_users_test = []\n",
    "unique_users_train = []\n",
    "\n",
    "for i in test_users:\n",
    "    if not (i in train_users):\n",
    "        unique_users_test.append(i)\n",
    "        \n",
    "for i in train_users:\n",
    "    if not (i in test_users):\n",
    "        unique_users_train.append(i)\n",
    "        \n",
    "print(\"уникальных юзеров в тесте: \", len(unique_users_test))\n",
    "print(\"уникальных юзеров в трейне: \",len(unique_users_train))   "
   ]
  },
  {
   "cell_type": "markdown",
   "metadata": {},
   "source": [
    "**таким образом, юзеры теста и трейна пересекаются, но не совпадают.**"
   ]
  },
  {
   "cell_type": "markdown",
   "metadata": {},
   "source": [
    "**попробуем очистить данные, устранив выбросы**"
   ]
  },
  {
   "cell_type": "code",
   "execution_count": 716,
   "metadata": {},
   "outputs": [],
   "source": [
    "#функция считает среднее по оценкам, и исключает \n",
    "\n",
    "def mymean(data):\n",
    "    \n",
    "    # сюда будем писать результаты\n",
    "    \n",
    "    df_ans = data.max()\n",
    "\n",
    "    for col in ['Xmin', 'Ymin', 'Xmax', 'Ymax']:\n",
    "        # data[col] - pandas series, набор значений по координате. Задача - вычислить его mean без аутлаеров\n",
    "        \n",
    "        std = data[col].std()\n",
    "        mean = data[col].mean()\n",
    "        temp_col = []\n",
    "        \n",
    "        # пройдем по значениям столбца и если значение лежит меньше, чем в std*0.85 - то добавим его во временный столбец        \n",
    "        \n",
    "        for i in data[col]:\n",
    "            if abs(mean - i) < std*0.8:\n",
    "                temp_col.append(i)\n",
    "                \n",
    "        #если в столбец ниего вообще не попало - возьмем среднее как есть. Если там что-то есть - то возьмем то, что нашли\n",
    "                \n",
    "        if len(temp_col) > 0:\n",
    "            ans = np.array(temp_col).mean()\n",
    "        else:\n",
    "            ans = data[col].mean()\n",
    "                   \n",
    "        \n",
    "        # ans нужно в итоге присвоить то, что пойдет в таблицу\n",
    "        #ans = data[col].mean()\n",
    "        \n",
    "        df_ans[col] = ans\n",
    "        \n",
    "    return df_ans"
   ]
  },
  {
   "cell_type": "code",
   "execution_count": 717,
   "metadata": {
    "scrolled": true
   },
   "outputs": [],
   "source": [
    "submission_mymean = test.groupby('itemId').apply(mymean)\n",
    "submission_mymean.drop('userId', axis=1, inplace=True)\n",
    "submission_mymean = submission_mymean.astype(int)\n",
    "#submission_mymean.insert(loc=0, column='ID', value = submission_mymean.index)"
   ]
  },
  {
   "cell_type": "code",
   "execution_count": 718,
   "metadata": {},
   "outputs": [
    {
     "data": {
      "text/html": [
       "<div>\n",
       "<style scoped>\n",
       "    .dataframe tbody tr th:only-of-type {\n",
       "        vertical-align: middle;\n",
       "    }\n",
       "\n",
       "    .dataframe tbody tr th {\n",
       "        vertical-align: top;\n",
       "    }\n",
       "\n",
       "    .dataframe thead th {\n",
       "        text-align: right;\n",
       "    }\n",
       "</style>\n",
       "<table border=\"1\" class=\"dataframe\">\n",
       "  <thead>\n",
       "    <tr style=\"text-align: right;\">\n",
       "      <th></th>\n",
       "      <th>itemId</th>\n",
       "      <th>Xmin</th>\n",
       "      <th>Ymin</th>\n",
       "      <th>Xmax</th>\n",
       "      <th>Ymax</th>\n",
       "    </tr>\n",
       "    <tr>\n",
       "      <th>itemId</th>\n",
       "      <th></th>\n",
       "      <th></th>\n",
       "      <th></th>\n",
       "      <th></th>\n",
       "      <th></th>\n",
       "    </tr>\n",
       "  </thead>\n",
       "  <tbody>\n",
       "    <tr>\n",
       "      <th>18</th>\n",
       "      <td>18</td>\n",
       "      <td>135</td>\n",
       "      <td>704</td>\n",
       "      <td>729</td>\n",
       "      <td>1071</td>\n",
       "    </tr>\n",
       "    <tr>\n",
       "      <th>19</th>\n",
       "      <td>19</td>\n",
       "      <td>27</td>\n",
       "      <td>559</td>\n",
       "      <td>112</td>\n",
       "      <td>727</td>\n",
       "    </tr>\n",
       "    <tr>\n",
       "      <th>33</th>\n",
       "      <td>33</td>\n",
       "      <td>43</td>\n",
       "      <td>384</td>\n",
       "      <td>365</td>\n",
       "      <td>629</td>\n",
       "    </tr>\n",
       "    <tr>\n",
       "      <th>62</th>\n",
       "      <td>62</td>\n",
       "      <td>90</td>\n",
       "      <td>975</td>\n",
       "      <td>613</td>\n",
       "      <td>1166</td>\n",
       "    </tr>\n",
       "    <tr>\n",
       "      <th>114</th>\n",
       "      <td>114</td>\n",
       "      <td>69</td>\n",
       "      <td>575</td>\n",
       "      <td>210</td>\n",
       "      <td>760</td>\n",
       "    </tr>\n",
       "    <tr>\n",
       "      <th>146</th>\n",
       "      <td>146</td>\n",
       "      <td>72</td>\n",
       "      <td>481</td>\n",
       "      <td>559</td>\n",
       "      <td>816</td>\n",
       "    </tr>\n",
       "    <tr>\n",
       "      <th>156</th>\n",
       "      <td>156</td>\n",
       "      <td>87</td>\n",
       "      <td>802</td>\n",
       "      <td>155</td>\n",
       "      <td>879</td>\n",
       "    </tr>\n",
       "    <tr>\n",
       "      <th>163</th>\n",
       "      <td>163</td>\n",
       "      <td>30</td>\n",
       "      <td>322</td>\n",
       "      <td>212</td>\n",
       "      <td>461</td>\n",
       "    </tr>\n",
       "    <tr>\n",
       "      <th>164</th>\n",
       "      <td>164</td>\n",
       "      <td>5</td>\n",
       "      <td>149</td>\n",
       "      <td>349</td>\n",
       "      <td>649</td>\n",
       "    </tr>\n",
       "    <tr>\n",
       "      <th>179</th>\n",
       "      <td>179</td>\n",
       "      <td>127</td>\n",
       "      <td>515</td>\n",
       "      <td>321</td>\n",
       "      <td>732</td>\n",
       "    </tr>\n",
       "  </tbody>\n",
       "</table>\n",
       "</div>"
      ],
      "text/plain": [
       "        itemId  Xmin  Ymin  Xmax  Ymax\n",
       "itemId                                \n",
       "18          18   135   704   729  1071\n",
       "19          19    27   559   112   727\n",
       "33          33    43   384   365   629\n",
       "62          62    90   975   613  1166\n",
       "114        114    69   575   210   760\n",
       "146        146    72   481   559   816\n",
       "156        156    87   802   155   879\n",
       "163        163    30   322   212   461\n",
       "164        164     5   149   349   649\n",
       "179        179   127   515   321   732"
      ]
     },
     "execution_count": 718,
     "metadata": {},
     "output_type": "execute_result"
    }
   ],
   "source": [
    "submission_mymean.head(10)"
   ]
  },
  {
   "cell_type": "code",
   "execution_count": 719,
   "metadata": {},
   "outputs": [],
   "source": [
    "submission_mymean.to_csv('submission0-8.csv', index=False, header=False)"
   ]
  },
  {
   "cell_type": "markdown",
   "metadata": {},
   "source": [
    "**Решение с обрезкой по 0.8 (наилучшее) дает П: 0.5115125**"
   ]
  },
  {
   "cell_type": "markdown",
   "metadata": {},
   "source": [
    "**Мимакс - возьмем минимальное Xmin Ymin и максимальное Xmax Ymax в тесте**"
   ]
  },
  {
   "cell_type": "code",
   "execution_count": 720,
   "metadata": {},
   "outputs": [],
   "source": [
    "#функция берет минимальное и максимальное по разным столбцам \n",
    "\n",
    "def myminmax(data):\n",
    "    \n",
    "    # сюда будем писать результаты\n",
    "\n",
    "    df_ans = data.max()\n",
    "    \n",
    "    # банально выберем минимумы и максимумы\n",
    "\n",
    "    for col in ['Xmin', 'Ymin', 'Xmax', 'Ymax']:\n",
    "        # data[col] - pandas series, набор значений по координате. Задача - вычислить его mean без аутлаеров\n",
    "        \n",
    "        if col == 'Xmin' or col == \"Ymin\":\n",
    "            df_ans[col] = data[col].min()\n",
    "            \n",
    "        if col == 'Xmax' or col == \"Ymax\":\n",
    "            df_ans[col] = data[col].max()\n",
    "\n",
    "    return df_ans"
   ]
  },
  {
   "cell_type": "code",
   "execution_count": 721,
   "metadata": {},
   "outputs": [],
   "source": [
    "submission_myminmax = test.groupby('itemId').apply(myminmax)\n",
    "submission_myminmax.drop('userId', axis=1, inplace=True)\n",
    "submission_myminmax = submission_myminmax.astype(int)"
   ]
  },
  {
   "cell_type": "markdown",
   "metadata": {},
   "source": [
    "**посмотрим визуально, что получилось**"
   ]
  },
  {
   "cell_type": "code",
   "execution_count": 722,
   "metadata": {},
   "outputs": [
    {
     "data": {
      "text/html": [
       "<div>\n",
       "<style scoped>\n",
       "    .dataframe tbody tr th:only-of-type {\n",
       "        vertical-align: middle;\n",
       "    }\n",
       "\n",
       "    .dataframe tbody tr th {\n",
       "        vertical-align: top;\n",
       "    }\n",
       "\n",
       "    .dataframe thead th {\n",
       "        text-align: right;\n",
       "    }\n",
       "</style>\n",
       "<table border=\"1\" class=\"dataframe\">\n",
       "  <thead>\n",
       "    <tr style=\"text-align: right;\">\n",
       "      <th></th>\n",
       "      <th>userId</th>\n",
       "      <th>itemId</th>\n",
       "      <th>Xmin</th>\n",
       "      <th>Ymin</th>\n",
       "      <th>Xmax</th>\n",
       "      <th>Ymax</th>\n",
       "    </tr>\n",
       "  </thead>\n",
       "  <tbody>\n",
       "    <tr>\n",
       "      <th>1230</th>\n",
       "      <td>903</td>\n",
       "      <td>18</td>\n",
       "      <td>126</td>\n",
       "      <td>774</td>\n",
       "      <td>694</td>\n",
       "      <td>1010</td>\n",
       "    </tr>\n",
       "    <tr>\n",
       "      <th>1231</th>\n",
       "      <td>1723</td>\n",
       "      <td>18</td>\n",
       "      <td>144</td>\n",
       "      <td>634</td>\n",
       "      <td>764</td>\n",
       "      <td>1132</td>\n",
       "    </tr>\n",
       "    <tr>\n",
       "      <th>523</th>\n",
       "      <td>903</td>\n",
       "      <td>19</td>\n",
       "      <td>28</td>\n",
       "      <td>559</td>\n",
       "      <td>113</td>\n",
       "      <td>721</td>\n",
       "    </tr>\n",
       "    <tr>\n",
       "      <th>522</th>\n",
       "      <td>141</td>\n",
       "      <td>19</td>\n",
       "      <td>34</td>\n",
       "      <td>564</td>\n",
       "      <td>119</td>\n",
       "      <td>729</td>\n",
       "    </tr>\n",
       "    <tr>\n",
       "      <th>521</th>\n",
       "      <td>1723</td>\n",
       "      <td>19</td>\n",
       "      <td>27</td>\n",
       "      <td>559</td>\n",
       "      <td>112</td>\n",
       "      <td>727</td>\n",
       "    </tr>\n",
       "    <tr>\n",
       "      <th>2034</th>\n",
       "      <td>366</td>\n",
       "      <td>33</td>\n",
       "      <td>21</td>\n",
       "      <td>380</td>\n",
       "      <td>414</td>\n",
       "      <td>652</td>\n",
       "    </tr>\n",
       "    <tr>\n",
       "      <th>2035</th>\n",
       "      <td>1565</td>\n",
       "      <td>33</td>\n",
       "      <td>43</td>\n",
       "      <td>388</td>\n",
       "      <td>365</td>\n",
       "      <td>629</td>\n",
       "    </tr>\n",
       "    <tr>\n",
       "      <th>2036</th>\n",
       "      <td>141</td>\n",
       "      <td>33</td>\n",
       "      <td>75</td>\n",
       "      <td>413</td>\n",
       "      <td>345</td>\n",
       "      <td>620</td>\n",
       "    </tr>\n",
       "    <tr>\n",
       "      <th>2890</th>\n",
       "      <td>1508</td>\n",
       "      <td>62</td>\n",
       "      <td>98</td>\n",
       "      <td>1054</td>\n",
       "      <td>553</td>\n",
       "      <td>1259</td>\n",
       "    </tr>\n",
       "    <tr>\n",
       "      <th>2893</th>\n",
       "      <td>141</td>\n",
       "      <td>62</td>\n",
       "      <td>125</td>\n",
       "      <td>980</td>\n",
       "      <td>623</td>\n",
       "      <td>1130</td>\n",
       "    </tr>\n",
       "  </tbody>\n",
       "</table>\n",
       "</div>"
      ],
      "text/plain": [
       "      userId  itemId  Xmin  Ymin  Xmax  Ymax\n",
       "1230     903      18   126   774   694  1010\n",
       "1231    1723      18   144   634   764  1132\n",
       "523      903      19    28   559   113   721\n",
       "522      141      19    34   564   119   729\n",
       "521     1723      19    27   559   112   727\n",
       "2034     366      33    21   380   414   652\n",
       "2035    1565      33    43   388   365   629\n",
       "2036     141      33    75   413   345   620\n",
       "2890    1508      62    98  1054   553  1259\n",
       "2893     141      62   125   980   623  1130"
      ]
     },
     "execution_count": 722,
     "metadata": {},
     "output_type": "execute_result"
    }
   ],
   "source": [
    "test.sort_values(by=\"itemId\").head(10)"
   ]
  },
  {
   "cell_type": "code",
   "execution_count": 723,
   "metadata": {},
   "outputs": [
    {
     "data": {
      "text/html": [
       "<div>\n",
       "<style scoped>\n",
       "    .dataframe tbody tr th:only-of-type {\n",
       "        vertical-align: middle;\n",
       "    }\n",
       "\n",
       "    .dataframe tbody tr th {\n",
       "        vertical-align: top;\n",
       "    }\n",
       "\n",
       "    .dataframe thead th {\n",
       "        text-align: right;\n",
       "    }\n",
       "</style>\n",
       "<table border=\"1\" class=\"dataframe\">\n",
       "  <thead>\n",
       "    <tr style=\"text-align: right;\">\n",
       "      <th></th>\n",
       "      <th>itemId</th>\n",
       "      <th>Xmin</th>\n",
       "      <th>Ymin</th>\n",
       "      <th>Xmax</th>\n",
       "      <th>Ymax</th>\n",
       "    </tr>\n",
       "    <tr>\n",
       "      <th>itemId</th>\n",
       "      <th></th>\n",
       "      <th></th>\n",
       "      <th></th>\n",
       "      <th></th>\n",
       "      <th></th>\n",
       "    </tr>\n",
       "  </thead>\n",
       "  <tbody>\n",
       "    <tr>\n",
       "      <th>18</th>\n",
       "      <td>18</td>\n",
       "      <td>126</td>\n",
       "      <td>634</td>\n",
       "      <td>764</td>\n",
       "      <td>1132</td>\n",
       "    </tr>\n",
       "    <tr>\n",
       "      <th>19</th>\n",
       "      <td>19</td>\n",
       "      <td>27</td>\n",
       "      <td>559</td>\n",
       "      <td>119</td>\n",
       "      <td>729</td>\n",
       "    </tr>\n",
       "    <tr>\n",
       "      <th>33</th>\n",
       "      <td>33</td>\n",
       "      <td>21</td>\n",
       "      <td>380</td>\n",
       "      <td>414</td>\n",
       "      <td>652</td>\n",
       "    </tr>\n",
       "    <tr>\n",
       "      <th>62</th>\n",
       "      <td>62</td>\n",
       "      <td>35</td>\n",
       "      <td>824</td>\n",
       "      <td>639</td>\n",
       "      <td>1262</td>\n",
       "    </tr>\n",
       "    <tr>\n",
       "      <th>114</th>\n",
       "      <td>114</td>\n",
       "      <td>41</td>\n",
       "      <td>570</td>\n",
       "      <td>216</td>\n",
       "      <td>780</td>\n",
       "    </tr>\n",
       "    <tr>\n",
       "      <th>146</th>\n",
       "      <td>146</td>\n",
       "      <td>17</td>\n",
       "      <td>211</td>\n",
       "      <td>643</td>\n",
       "      <td>1118</td>\n",
       "    </tr>\n",
       "    <tr>\n",
       "      <th>156</th>\n",
       "      <td>156</td>\n",
       "      <td>74</td>\n",
       "      <td>802</td>\n",
       "      <td>160</td>\n",
       "      <td>887</td>\n",
       "    </tr>\n",
       "    <tr>\n",
       "      <th>163</th>\n",
       "      <td>163</td>\n",
       "      <td>21</td>\n",
       "      <td>317</td>\n",
       "      <td>213</td>\n",
       "      <td>465</td>\n",
       "    </tr>\n",
       "    <tr>\n",
       "      <th>164</th>\n",
       "      <td>164</td>\n",
       "      <td>4</td>\n",
       "      <td>146</td>\n",
       "      <td>401</td>\n",
       "      <td>681</td>\n",
       "    </tr>\n",
       "    <tr>\n",
       "      <th>179</th>\n",
       "      <td>179</td>\n",
       "      <td>116</td>\n",
       "      <td>490</td>\n",
       "      <td>330</td>\n",
       "      <td>733</td>\n",
       "    </tr>\n",
       "  </tbody>\n",
       "</table>\n",
       "</div>"
      ],
      "text/plain": [
       "        itemId  Xmin  Ymin  Xmax  Ymax\n",
       "itemId                                \n",
       "18          18   126   634   764  1132\n",
       "19          19    27   559   119   729\n",
       "33          33    21   380   414   652\n",
       "62          62    35   824   639  1262\n",
       "114        114    41   570   216   780\n",
       "146        146    17   211   643  1118\n",
       "156        156    74   802   160   887\n",
       "163        163    21   317   213   465\n",
       "164        164     4   146   401   681\n",
       "179        179   116   490   330   733"
      ]
     },
     "execution_count": 723,
     "metadata": {},
     "output_type": "execute_result"
    }
   ],
   "source": [
    "submission_myminmax.head(10)"
   ]
  },
  {
   "cell_type": "markdown",
   "metadata": {},
   "source": [
    "**вроде работает. Загрузим**"
   ]
  },
  {
   "cell_type": "code",
   "execution_count": 724,
   "metadata": {},
   "outputs": [],
   "source": [
    "submission_myminmax.to_csv('submission_minmax_simple.csv', index=False, header=False)"
   ]
  },
  {
   "cell_type": "markdown",
   "metadata": {},
   "source": [
    "**результат простого минмакса - П: 0.5678444** (и таких результатов довольно много)"
   ]
  },
  {
   "cell_type": "markdown",
   "metadata": {},
   "source": [
    "**Напишем тот же минмакс, но с выкидыванием аутлаеров свыше 0,8std**"
   ]
  },
  {
   "cell_type": "code",
   "execution_count": 725,
   "metadata": {},
   "outputs": [],
   "source": [
    "#функция берет минимальное и максимальное по разным столбцам, выкидываая аутлаеров \n",
    "\n",
    "def myminmax_filtered(data):\n",
    "    \n",
    "    # сюда будем писать результаты\n",
    "\n",
    "    df_ans = data.max()\n",
    "    \n",
    "    # банально выберем минимумы и максимумы\n",
    "\n",
    "    for col in ['Xmin', 'Ymin', 'Xmax', 'Ymax']:\n",
    "        # data[col] - pandas series, набор значений по координате. Задача - вычислить его mean без аутлаеров\n",
    "        \n",
    "        std = data[col].std()\n",
    "        mean = data[col].mean()\n",
    "        temp_col = []\n",
    "        \n",
    "        # пройдем по значениям столбца и если значение лежит меньше, чем в std*0.85 - то добавим его во временный столбец        \n",
    "        \n",
    "        for i in data[col]:\n",
    "            if abs(mean - i) < std*0.8:\n",
    "                temp_col.append(i)\n",
    "                \n",
    "        # Если в итоге в темп ничего не залетело - возьмем как есть\n",
    "        \n",
    "        if len(temp_col) < 1:\n",
    "        \n",
    "            if col == 'Xmin' or col == \"Ymin\":\n",
    "                df_ans[col] = data[col].min()\n",
    "\n",
    "            if col == 'Xmax' or col == \"Ymax\":\n",
    "                df_ans[col] = data[col].max()\n",
    "                \n",
    "        else:\n",
    "            \n",
    "            if col == 'Xmin' or col == \"Ymin\":\n",
    "                df_ans[col] = min(temp_col)\n",
    "\n",
    "            if col == 'Xmax' or col == \"Ymax\":\n",
    "                df_ans[col] =  max(temp_col)\n",
    "\n",
    "    return df_ans"
   ]
  },
  {
   "cell_type": "code",
   "execution_count": 726,
   "metadata": {},
   "outputs": [],
   "source": [
    "submission_myminmax_filtered = test.groupby('itemId').apply(myminmax_filtered)\n",
    "submission_myminmax_filtered.drop('userId', axis=1, inplace=True)\n",
    "submission_myminmax_filtered = submission_myminmax_filtered.astype(int)"
   ]
  },
  {
   "cell_type": "code",
   "execution_count": 727,
   "metadata": {},
   "outputs": [],
   "source": [
    "submission_myminmax_filtered.to_csv('submission_minmax_filtered_0-8.csv', index=False, header=False)"
   ]
  },
  {
   "cell_type": "markdown",
   "metadata": {},
   "source": [
    "**результат П: 0.5270054 - снижение**"
   ]
  },
  {
   "cell_type": "markdown",
   "metadata": {},
   "source": [
    "**вычислим по трейну юзеров, которые ошибаются сильнее всего**"
   ]
  },
  {
   "cell_type": "code",
   "execution_count": 728,
   "metadata": {},
   "outputs": [],
   "source": [
    "train_merged = pd.merge(train, train_answers, how='inner', on = 'itemId')"
   ]
  },
  {
   "cell_type": "code",
   "execution_count": 729,
   "metadata": {},
   "outputs": [
    {
     "data": {
      "text/html": [
       "<div>\n",
       "<style scoped>\n",
       "    .dataframe tbody tr th:only-of-type {\n",
       "        vertical-align: middle;\n",
       "    }\n",
       "\n",
       "    .dataframe tbody tr th {\n",
       "        vertical-align: top;\n",
       "    }\n",
       "\n",
       "    .dataframe thead th {\n",
       "        text-align: right;\n",
       "    }\n",
       "</style>\n",
       "<table border=\"1\" class=\"dataframe\">\n",
       "  <thead>\n",
       "    <tr style=\"text-align: right;\">\n",
       "      <th></th>\n",
       "      <th>userId</th>\n",
       "      <th>itemId</th>\n",
       "      <th>Xmin</th>\n",
       "      <th>Ymin</th>\n",
       "      <th>Xmax</th>\n",
       "      <th>Ymax</th>\n",
       "      <th>Xmin_true</th>\n",
       "      <th>Ymin_true</th>\n",
       "      <th>Xmax_true</th>\n",
       "      <th>Ymax_true</th>\n",
       "    </tr>\n",
       "  </thead>\n",
       "  <tbody>\n",
       "    <tr>\n",
       "      <th>0</th>\n",
       "      <td>1164</td>\n",
       "      <td>6132</td>\n",
       "      <td>62</td>\n",
       "      <td>656</td>\n",
       "      <td>276</td>\n",
       "      <td>803</td>\n",
       "      <td>47</td>\n",
       "      <td>650</td>\n",
       "      <td>213</td>\n",
       "      <td>812</td>\n",
       "    </tr>\n",
       "    <tr>\n",
       "      <th>1</th>\n",
       "      <td>1399</td>\n",
       "      <td>6132</td>\n",
       "      <td>184</td>\n",
       "      <td>662</td>\n",
       "      <td>235</td>\n",
       "      <td>740</td>\n",
       "      <td>47</td>\n",
       "      <td>650</td>\n",
       "      <td>213</td>\n",
       "      <td>812</td>\n",
       "    </tr>\n",
       "    <tr>\n",
       "      <th>2</th>\n",
       "      <td>1694</td>\n",
       "      <td>6132</td>\n",
       "      <td>63</td>\n",
       "      <td>648</td>\n",
       "      <td>272</td>\n",
       "      <td>830</td>\n",
       "      <td>47</td>\n",
       "      <td>650</td>\n",
       "      <td>213</td>\n",
       "      <td>812</td>\n",
       "    </tr>\n",
       "    <tr>\n",
       "      <th>3</th>\n",
       "      <td>916</td>\n",
       "      <td>6132</td>\n",
       "      <td>111</td>\n",
       "      <td>637</td>\n",
       "      <td>253</td>\n",
       "      <td>831</td>\n",
       "      <td>47</td>\n",
       "      <td>650</td>\n",
       "      <td>213</td>\n",
       "      <td>812</td>\n",
       "    </tr>\n",
       "    <tr>\n",
       "      <th>4</th>\n",
       "      <td>1621</td>\n",
       "      <td>6132</td>\n",
       "      <td>60</td>\n",
       "      <td>651</td>\n",
       "      <td>242</td>\n",
       "      <td>819</td>\n",
       "      <td>47</td>\n",
       "      <td>650</td>\n",
       "      <td>213</td>\n",
       "      <td>812</td>\n",
       "    </tr>\n",
       "    <tr>\n",
       "      <th>5</th>\n",
       "      <td>1092</td>\n",
       "      <td>6132</td>\n",
       "      <td>39</td>\n",
       "      <td>649</td>\n",
       "      <td>249</td>\n",
       "      <td>825</td>\n",
       "      <td>47</td>\n",
       "      <td>650</td>\n",
       "      <td>213</td>\n",
       "      <td>812</td>\n",
       "    </tr>\n",
       "    <tr>\n",
       "      <th>6</th>\n",
       "      <td>301</td>\n",
       "      <td>31297</td>\n",
       "      <td>29</td>\n",
       "      <td>393</td>\n",
       "      <td>126</td>\n",
       "      <td>487</td>\n",
       "      <td>18</td>\n",
       "      <td>390</td>\n",
       "      <td>122</td>\n",
       "      <td>472</td>\n",
       "    </tr>\n",
       "    <tr>\n",
       "      <th>7</th>\n",
       "      <td>1508</td>\n",
       "      <td>31297</td>\n",
       "      <td>25</td>\n",
       "      <td>399</td>\n",
       "      <td>120</td>\n",
       "      <td>485</td>\n",
       "      <td>18</td>\n",
       "      <td>390</td>\n",
       "      <td>122</td>\n",
       "      <td>472</td>\n",
       "    </tr>\n",
       "    <tr>\n",
       "      <th>8</th>\n",
       "      <td>535</td>\n",
       "      <td>31297</td>\n",
       "      <td>25</td>\n",
       "      <td>399</td>\n",
       "      <td>108</td>\n",
       "      <td>472</td>\n",
       "      <td>18</td>\n",
       "      <td>390</td>\n",
       "      <td>122</td>\n",
       "      <td>472</td>\n",
       "    </tr>\n",
       "    <tr>\n",
       "      <th>9</th>\n",
       "      <td>254</td>\n",
       "      <td>18168</td>\n",
       "      <td>209</td>\n",
       "      <td>739</td>\n",
       "      <td>534</td>\n",
       "      <td>1051</td>\n",
       "      <td>35</td>\n",
       "      <td>713</td>\n",
       "      <td>656</td>\n",
       "      <td>1082</td>\n",
       "    </tr>\n",
       "  </tbody>\n",
       "</table>\n",
       "</div>"
      ],
      "text/plain": [
       "   userId  itemId  Xmin  Ymin  Xmax  Ymax  Xmin_true  Ymin_true  Xmax_true  \\\n",
       "0    1164    6132    62   656   276   803         47        650        213   \n",
       "1    1399    6132   184   662   235   740         47        650        213   \n",
       "2    1694    6132    63   648   272   830         47        650        213   \n",
       "3     916    6132   111   637   253   831         47        650        213   \n",
       "4    1621    6132    60   651   242   819         47        650        213   \n",
       "5    1092    6132    39   649   249   825         47        650        213   \n",
       "6     301   31297    29   393   126   487         18        390        122   \n",
       "7    1508   31297    25   399   120   485         18        390        122   \n",
       "8     535   31297    25   399   108   472         18        390        122   \n",
       "9     254   18168   209   739   534  1051         35        713        656   \n",
       "\n",
       "   Ymax_true  \n",
       "0        812  \n",
       "1        812  \n",
       "2        812  \n",
       "3        812  \n",
       "4        812  \n",
       "5        812  \n",
       "6        472  \n",
       "7        472  \n",
       "8        472  \n",
       "9       1082  "
      ]
     },
     "execution_count": 729,
     "metadata": {},
     "output_type": "execute_result"
    }
   ],
   "source": [
    "train_merged.head(10)"
   ]
  },
  {
   "cell_type": "code",
   "execution_count": 730,
   "metadata": {},
   "outputs": [],
   "source": [
    "train_merged[\"mse\"] = ((train_merged.Xmin - train_merged.Xmin_true)**2 + (train_merged.Xmax - train_merged.Xmax_true)**2\\\n",
    "                       + (train_merged.Ymin - train_merged.Ymin_true)**2 + (train_merged.Ymax - train_merged.Ymax_true)**2)/4"
   ]
  },
  {
   "cell_type": "code",
   "execution_count": 731,
   "metadata": {},
   "outputs": [
    {
     "data": {
      "text/html": [
       "<div>\n",
       "<style scoped>\n",
       "    .dataframe tbody tr th:only-of-type {\n",
       "        vertical-align: middle;\n",
       "    }\n",
       "\n",
       "    .dataframe tbody tr th {\n",
       "        vertical-align: top;\n",
       "    }\n",
       "\n",
       "    .dataframe thead th {\n",
       "        text-align: right;\n",
       "    }\n",
       "</style>\n",
       "<table border=\"1\" class=\"dataframe\">\n",
       "  <thead>\n",
       "    <tr style=\"text-align: right;\">\n",
       "      <th></th>\n",
       "      <th>userId</th>\n",
       "      <th>itemId</th>\n",
       "      <th>Xmin</th>\n",
       "      <th>Ymin</th>\n",
       "      <th>Xmax</th>\n",
       "      <th>Ymax</th>\n",
       "      <th>Xmin_true</th>\n",
       "      <th>Ymin_true</th>\n",
       "      <th>Xmax_true</th>\n",
       "      <th>Ymax_true</th>\n",
       "      <th>mse</th>\n",
       "    </tr>\n",
       "  </thead>\n",
       "  <tbody>\n",
       "    <tr>\n",
       "      <th>0</th>\n",
       "      <td>1164</td>\n",
       "      <td>6132</td>\n",
       "      <td>62</td>\n",
       "      <td>656</td>\n",
       "      <td>276</td>\n",
       "      <td>803</td>\n",
       "      <td>47</td>\n",
       "      <td>650</td>\n",
       "      <td>213</td>\n",
       "      <td>812</td>\n",
       "      <td>1077.75</td>\n",
       "    </tr>\n",
       "    <tr>\n",
       "      <th>1</th>\n",
       "      <td>1399</td>\n",
       "      <td>6132</td>\n",
       "      <td>184</td>\n",
       "      <td>662</td>\n",
       "      <td>235</td>\n",
       "      <td>740</td>\n",
       "      <td>47</td>\n",
       "      <td>650</td>\n",
       "      <td>213</td>\n",
       "      <td>812</td>\n",
       "      <td>6145.25</td>\n",
       "    </tr>\n",
       "    <tr>\n",
       "      <th>2</th>\n",
       "      <td>1694</td>\n",
       "      <td>6132</td>\n",
       "      <td>63</td>\n",
       "      <td>648</td>\n",
       "      <td>272</td>\n",
       "      <td>830</td>\n",
       "      <td>47</td>\n",
       "      <td>650</td>\n",
       "      <td>213</td>\n",
       "      <td>812</td>\n",
       "      <td>1016.25</td>\n",
       "    </tr>\n",
       "    <tr>\n",
       "      <th>3</th>\n",
       "      <td>916</td>\n",
       "      <td>6132</td>\n",
       "      <td>111</td>\n",
       "      <td>637</td>\n",
       "      <td>253</td>\n",
       "      <td>831</td>\n",
       "      <td>47</td>\n",
       "      <td>650</td>\n",
       "      <td>213</td>\n",
       "      <td>812</td>\n",
       "      <td>1556.50</td>\n",
       "    </tr>\n",
       "    <tr>\n",
       "      <th>4</th>\n",
       "      <td>1621</td>\n",
       "      <td>6132</td>\n",
       "      <td>60</td>\n",
       "      <td>651</td>\n",
       "      <td>242</td>\n",
       "      <td>819</td>\n",
       "      <td>47</td>\n",
       "      <td>650</td>\n",
       "      <td>213</td>\n",
       "      <td>812</td>\n",
       "      <td>265.00</td>\n",
       "    </tr>\n",
       "  </tbody>\n",
       "</table>\n",
       "</div>"
      ],
      "text/plain": [
       "   userId  itemId  Xmin  Ymin  Xmax  Ymax  Xmin_true  Ymin_true  Xmax_true  \\\n",
       "0    1164    6132    62   656   276   803         47        650        213   \n",
       "1    1399    6132   184   662   235   740         47        650        213   \n",
       "2    1694    6132    63   648   272   830         47        650        213   \n",
       "3     916    6132   111   637   253   831         47        650        213   \n",
       "4    1621    6132    60   651   242   819         47        650        213   \n",
       "\n",
       "   Ymax_true      mse  \n",
       "0        812  1077.75  \n",
       "1        812  6145.25  \n",
       "2        812  1016.25  \n",
       "3        812  1556.50  \n",
       "4        812   265.00  "
      ]
     },
     "execution_count": 731,
     "metadata": {},
     "output_type": "execute_result"
    }
   ],
   "source": [
    "train_merged.head()"
   ]
  },
  {
   "cell_type": "markdown",
   "metadata": {},
   "source": [
    "**юзеры трейна, отранжированные по фейлам**"
   ]
  },
  {
   "cell_type": "code",
   "execution_count": 732,
   "metadata": {},
   "outputs": [
    {
     "data": {
      "text/plain": [
       "userId\n",
       "1019    217615.750000\n",
       "671     202095.000000\n",
       "388     174108.625000\n",
       "344     147222.250000\n",
       "533     127838.750000\n",
       "1615    126893.500000\n",
       "569     121956.750000\n",
       "333     118177.500000\n",
       "688     109075.250000\n",
       "1002    103343.750000\n",
       "915      98982.625000\n",
       "417      83625.375000\n",
       "921      81811.833333\n",
       "862      78676.750000\n",
       "1494     78217.250000\n",
       "797      77012.250000\n",
       "1546     72952.083333\n",
       "719      72224.750000\n",
       "1364     71290.750000\n",
       "305      70077.125000\n",
       "Name: mse, dtype: float64"
      ]
     },
     "execution_count": 732,
     "metadata": {},
     "output_type": "execute_result"
    }
   ],
   "source": [
    "user_fails = train_merged.groupby('userId').mean().mse.sort_values(ascending=False)\n",
    "user_fails.head(20)"
   ]
  },
  {
   "cell_type": "code",
   "execution_count": 733,
   "metadata": {},
   "outputs": [
    {
     "data": {
      "text/plain": [
       "Int64Index([1019,  671,  388,  344,  533, 1615,  569,  333,  688, 1002,\n",
       "            ...\n",
       "             361,  718,  758, 1050,  693,   35, 1230,   41, 1539,   77],\n",
       "           dtype='int64', name='userId', length=1357)"
      ]
     },
     "execution_count": 733,
     "metadata": {},
     "output_type": "execute_result"
    }
   ],
   "source": [
    "user_fails.index"
   ]
  },
  {
   "cell_type": "markdown",
   "metadata": {},
   "source": [
    "**sanity check - то же самое, но без квадрата, по модулю**"
   ]
  },
  {
   "cell_type": "code",
   "execution_count": 734,
   "metadata": {},
   "outputs": [
    {
     "data": {
      "text/plain": [
       "26"
      ]
     },
     "execution_count": 734,
     "metadata": {},
     "output_type": "execute_result"
    }
   ],
   "source": [
    "train_merged2 = pd.merge(train, train_answers, how='inner', on = 'itemId')\n",
    "train_merged2[\"mse\"] = (abs(train_merged.Xmin - train_merged.Xmin_true) + abs(train_merged.Xmax - train_merged.Xmax_true)\\\n",
    "                       + abs(train_merged.Ymin - train_merged.Ymin_true) + abs(train_merged.Ymax - train_merged.Ymax_true))/4\n",
    "user_fails2 = train_merged2.groupby('userId').mean().mse.sort_values(ascending=False)\n",
    "sum(user_fails2.index == user_fails.index)"
   ]
  },
  {
   "cell_type": "markdown",
   "metadata": {},
   "source": [
    "**удалим из теста 10 самых фейлящих юзеров**"
   ]
  },
  {
   "cell_type": "code",
   "execution_count": 735,
   "metadata": {},
   "outputs": [
    {
     "data": {
      "text/plain": [
       "(3615, 6)"
      ]
     },
     "execution_count": 735,
     "metadata": {},
     "output_type": "execute_result"
    }
   ],
   "source": [
    "test.shape"
   ]
  },
  {
   "cell_type": "code",
   "execution_count": 736,
   "metadata": {},
   "outputs": [
    {
     "data": {
      "text/plain": [
       "(3605, 6)"
      ]
     },
     "execution_count": 736,
     "metadata": {},
     "output_type": "execute_result"
    }
   ],
   "source": [
    "test_nofails10 = test[~test[\"userId\"].isin(user_fails.index[0:10])]\n",
    "\n",
    "test_nofails10.shape"
   ]
  },
  {
   "cell_type": "code",
   "execution_count": 737,
   "metadata": {},
   "outputs": [],
   "source": [
    "submission_nofails = test.groupby('itemId').apply(myminmax)\n",
    "submission_nofails.drop('userId', axis=1, inplace=True)\n",
    "submission_nofails = submission_nofails.astype(int)\n",
    "submission_nofails.to_csv('submission_nofails10.csv', index=False, header=False)"
   ]
  },
  {
   "cell_type": "code",
   "execution_count": 738,
   "metadata": {},
   "outputs": [],
   "source": [
    "def save_nofails(threshold, test=test, user_fails=user_fails):\n",
    "    test_nofails = test[~test[\"userId\"].isin(user_fails.index[0:threshold])]\n",
    "    submission_nofails = test_nofails.groupby('itemId').apply(myminmax)\n",
    "    submission_nofails.drop('userId', axis=1, inplace=True)\n",
    "    submission_nofails = submission_nofails.astype(int)\n",
    "    submission_nofails.to_csv('submission_nofails' + str(threshold) + '.csv', index=False, header=False)\n",
    "    print(threshold, test_nofails.shape)"
   ]
  },
  {
   "cell_type": "code",
   "execution_count": 739,
   "metadata": {},
   "outputs": [
    {
     "name": "stdout",
     "output_type": "stream",
     "text": [
      "10 (3605, 6)\n",
      "100 (3467, 6)\n"
     ]
    }
   ],
   "source": [
    "for i in [10, 100]:\n",
    "    save_nofails(i)"
   ]
  },
  {
   "cell_type": "markdown",
   "metadata": {},
   "source": [
    "- 10 - П: 0.5678450 !!!\n",
    "- 20 - П: 0.5678450 !!\n",
    "- 30 - П: 0.5677362\n",
    "- 40 - П: 0.5677362\n",
    "- 50 - П: 0.5678378"
   ]
  },
  {
   "cell_type": "code",
   "execution_count": 740,
   "metadata": {},
   "outputs": [
    {
     "name": "stdout",
     "output_type": "stream",
     "text": [
      "4 (3610, 6)\n",
      "5 (3608, 6)\n",
      "6 (3607, 6)\n",
      "9 (3606, 6)\n"
     ]
    }
   ],
   "source": [
    "for i in [4, 5, 6, 9]:\n",
    "    save_nofails(i)"
   ]
  },
  {
   "cell_type": "markdown",
   "metadata": {},
   "source": [
    "**Предположение - юзеры не дотягивают рамку вправо. Вычтем 1 пиксель из Ymax**"
   ]
  },
  {
   "cell_type": "code",
   "execution_count": 741,
   "metadata": {},
   "outputs": [],
   "source": [
    "submission_nofails.Ymax -= 1"
   ]
  },
  {
   "cell_type": "code",
   "execution_count": 742,
   "metadata": {},
   "outputs": [],
   "source": [
    "submission_nofails.to_csv('submission_nofails10_minus1.csv', index=False, header=False)"
   ]
  },
  {
   "cell_type": "markdown",
   "metadata": {},
   "source": [
    "итог - ухудшение рещультата"
   ]
  },
  {
   "cell_type": "markdown",
   "metadata": {},
   "source": [
    "**Провалидируемся на трейн выборке. Для этого надо определить функцию iou**"
   ]
  },
  {
   "cell_type": "code",
   "execution_count": 743,
   "metadata": {},
   "outputs": [],
   "source": [
    "def area(box):\n",
    "    return (box[2] - box[0]) * (box[3] - box[1])\n",
    "\n",
    "\n",
    "def intersection_over_union(boxes):\n",
    "    assert(len(boxes) == 8)\n",
    "    boxA = boxes[:4].values\n",
    "    boxB = boxes[4:].values\n",
    "    \n",
    "    boxAArea = area(boxA)\n",
    "    boxBArea = area(boxB)\n",
    "    \n",
    "    if (boxAArea == 0 or boxBArea == 0):\n",
    "        return 0\n",
    "        \n",
    "    xA = max(boxA[0], boxB[0])\n",
    "    yA = max(boxA[1], boxB[1])\n",
    "    xB = min(boxA[2], boxB[2])\n",
    "    yB = min(boxA[3], boxB[3])\n",
    "\n",
    "    interArea = max(0, xB - xA) * max(0, yB - yA)\n",
    "\n",
    "    \n",
    "    iou = interArea / float(boxAArea + boxBArea - interArea)\n",
    "    return iou"
   ]
  },
  {
   "cell_type": "code",
   "execution_count": 744,
   "metadata": {},
   "outputs": [],
   "source": [
    "train_merged[\"iou\"] = train_merged[['Xmin','Ymin', 'Xmax', 'Ymax', 'Xmin_true',\\\n",
    "      'Ymin_true', 'Xmax_true','Ymax_true']].apply(intersection_over_union, axis=1)"
   ]
  },
  {
   "cell_type": "code",
   "execution_count": 745,
   "metadata": {},
   "outputs": [
    {
     "data": {
      "text/plain": [
       "0.4528736712170044"
      ]
     },
     "execution_count": 745,
     "metadata": {},
     "output_type": "execute_result"
    }
   ],
   "source": [
    "train_merged.iou.mean()"
   ]
  },
  {
   "cell_type": "markdown",
   "metadata": {},
   "source": [
    "- объединить тест и трейн по образцу Алисы\n",
    "- закодировать категориальные признаки\n",
    "- придумать еще признаки\n",
    "- прогнать лгбм"
   ]
  },
  {
   "cell_type": "markdown",
   "metadata": {},
   "source": [
    "**Слияние теста и трейна, запомнить индексы**"
   ]
  },
  {
   "cell_type": "code",
   "execution_count": 746,
   "metadata": {},
   "outputs": [],
   "source": [
    "# Объединение датафреймов\n",
    "full = pd.concat([train, test])\n",
    "\n",
    "# Запомним индекс для разделения датасета\n",
    "idx_split = train.shape[0]"
   ]
  },
  {
   "cell_type": "code",
   "execution_count": 747,
   "metadata": {
    "scrolled": true
   },
   "outputs": [
    {
     "data": {
      "text/html": [
       "<div>\n",
       "<style scoped>\n",
       "    .dataframe tbody tr th:only-of-type {\n",
       "        vertical-align: middle;\n",
       "    }\n",
       "\n",
       "    .dataframe tbody tr th {\n",
       "        vertical-align: top;\n",
       "    }\n",
       "\n",
       "    .dataframe thead th {\n",
       "        text-align: right;\n",
       "    }\n",
       "</style>\n",
       "<table border=\"1\" class=\"dataframe\">\n",
       "  <thead>\n",
       "    <tr style=\"text-align: right;\">\n",
       "      <th></th>\n",
       "      <th>userId</th>\n",
       "      <th>itemId</th>\n",
       "      <th>Xmin</th>\n",
       "      <th>Ymin</th>\n",
       "      <th>Xmax</th>\n",
       "      <th>Ymax</th>\n",
       "    </tr>\n",
       "  </thead>\n",
       "  <tbody>\n",
       "    <tr>\n",
       "      <th>0</th>\n",
       "      <td>1164</td>\n",
       "      <td>6132</td>\n",
       "      <td>62</td>\n",
       "      <td>656</td>\n",
       "      <td>276</td>\n",
       "      <td>803</td>\n",
       "    </tr>\n",
       "    <tr>\n",
       "      <th>1</th>\n",
       "      <td>1399</td>\n",
       "      <td>6132</td>\n",
       "      <td>184</td>\n",
       "      <td>662</td>\n",
       "      <td>235</td>\n",
       "      <td>740</td>\n",
       "    </tr>\n",
       "    <tr>\n",
       "      <th>2</th>\n",
       "      <td>1694</td>\n",
       "      <td>6132</td>\n",
       "      <td>63</td>\n",
       "      <td>648</td>\n",
       "      <td>272</td>\n",
       "      <td>830</td>\n",
       "    </tr>\n",
       "    <tr>\n",
       "      <th>3</th>\n",
       "      <td>916</td>\n",
       "      <td>6132</td>\n",
       "      <td>111</td>\n",
       "      <td>637</td>\n",
       "      <td>253</td>\n",
       "      <td>831</td>\n",
       "    </tr>\n",
       "    <tr>\n",
       "      <th>4</th>\n",
       "      <td>1621</td>\n",
       "      <td>6132</td>\n",
       "      <td>60</td>\n",
       "      <td>651</td>\n",
       "      <td>242</td>\n",
       "      <td>819</td>\n",
       "    </tr>\n",
       "  </tbody>\n",
       "</table>\n",
       "</div>"
      ],
      "text/plain": [
       "   userId  itemId  Xmin  Ymin  Xmax  Ymax\n",
       "0    1164    6132    62   656   276   803\n",
       "1    1399    6132   184   662   235   740\n",
       "2    1694    6132    63   648   272   830\n",
       "3     916    6132   111   637   253   831\n",
       "4    1621    6132    60   651   242   819"
      ]
     },
     "execution_count": 747,
     "metadata": {},
     "output_type": "execute_result"
    }
   ],
   "source": [
    "full.head()"
   ]
  },
  {
   "cell_type": "markdown",
   "metadata": {},
   "source": [
    "**заполнение объединенного датафрейма с фичами - full_features**"
   ]
  },
  {
   "cell_type": "markdown",
   "metadata": {},
   "source": [
    "добавим фичи \n",
    "- средние значения Y Y X X по разметке юзеров\n",
    "- средние значения по моему расчету в пределах 0,8 стд\n",
    "- периметр\n",
    "- периметр минмакс\n",
    "- средняя mse юзера\n",
    "- количество сабмитов, совершенное данным юзером всего\n",
    "- количество сабмитов по данному айтему\n",
    "- юзеры как категориальные фичи"
   ]
  },
  {
   "cell_type": "markdown",
   "metadata": {},
   "source": [
    "**приделаем минмакс как фичи**"
   ]
  },
  {
   "cell_type": "code",
   "execution_count": 748,
   "metadata": {},
   "outputs": [
    {
     "data": {
      "text/plain": [
       "0"
      ]
     },
     "execution_count": 748,
     "metadata": {},
     "output_type": "execute_result"
    }
   ],
   "source": [
    "full_features = full.copy()\n",
    "#Sanity check\n",
    "sum(full_features.index - full.index)"
   ]
  },
  {
   "cell_type": "code",
   "execution_count": 749,
   "metadata": {},
   "outputs": [],
   "source": [
    "df_myminmax = full.groupby('itemId').apply(myminmax)\n",
    "df_myminmax.drop(\"userId\", axis=1, inplace=True)\n",
    "df_myminmax.columns = ['itemId', 'Xmin_mm', 'Ymin_mm', 'Xmax_mm', 'Ymax_mm']\n",
    "df_myminmax.drop(\"itemId\", axis=1, inplace=True)"
   ]
  },
  {
   "cell_type": "code",
   "execution_count": 750,
   "metadata": {},
   "outputs": [
    {
     "data": {
      "text/html": [
       "<div>\n",
       "<style scoped>\n",
       "    .dataframe tbody tr th:only-of-type {\n",
       "        vertical-align: middle;\n",
       "    }\n",
       "\n",
       "    .dataframe tbody tr th {\n",
       "        vertical-align: top;\n",
       "    }\n",
       "\n",
       "    .dataframe thead th {\n",
       "        text-align: right;\n",
       "    }\n",
       "</style>\n",
       "<table border=\"1\" class=\"dataframe\">\n",
       "  <thead>\n",
       "    <tr style=\"text-align: right;\">\n",
       "      <th></th>\n",
       "      <th>Xmin_mm</th>\n",
       "      <th>Ymin_mm</th>\n",
       "      <th>Xmax_mm</th>\n",
       "      <th>Ymax_mm</th>\n",
       "    </tr>\n",
       "    <tr>\n",
       "      <th>itemId</th>\n",
       "      <th></th>\n",
       "      <th></th>\n",
       "      <th></th>\n",
       "      <th></th>\n",
       "    </tr>\n",
       "  </thead>\n",
       "  <tbody>\n",
       "    <tr>\n",
       "      <th>5</th>\n",
       "      <td>151</td>\n",
       "      <td>914</td>\n",
       "      <td>511</td>\n",
       "      <td>1331</td>\n",
       "    </tr>\n",
       "    <tr>\n",
       "      <th>10</th>\n",
       "      <td>72</td>\n",
       "      <td>559</td>\n",
       "      <td>427</td>\n",
       "      <td>858</td>\n",
       "    </tr>\n",
       "    <tr>\n",
       "      <th>13</th>\n",
       "      <td>46</td>\n",
       "      <td>600</td>\n",
       "      <td>621</td>\n",
       "      <td>981</td>\n",
       "    </tr>\n",
       "    <tr>\n",
       "      <th>18</th>\n",
       "      <td>126</td>\n",
       "      <td>634</td>\n",
       "      <td>764</td>\n",
       "      <td>1132</td>\n",
       "    </tr>\n",
       "    <tr>\n",
       "      <th>19</th>\n",
       "      <td>27</td>\n",
       "      <td>559</td>\n",
       "      <td>119</td>\n",
       "      <td>729</td>\n",
       "    </tr>\n",
       "  </tbody>\n",
       "</table>\n",
       "</div>"
      ],
      "text/plain": [
       "        Xmin_mm  Ymin_mm  Xmax_mm  Ymax_mm\n",
       "itemId                                    \n",
       "5           151      914      511     1331\n",
       "10           72      559      427      858\n",
       "13           46      600      621      981\n",
       "18          126      634      764     1132\n",
       "19           27      559      119      729"
      ]
     },
     "execution_count": 750,
     "metadata": {},
     "output_type": "execute_result"
    }
   ],
   "source": [
    "df_myminmax.head()"
   ]
  },
  {
   "cell_type": "code",
   "execution_count": 751,
   "metadata": {},
   "outputs": [],
   "source": [
    "full_features = pd.merge(full, df_myminmax, how='left', left_on= 'itemId', right_index=True, sort=False)"
   ]
  },
  {
   "cell_type": "code",
   "execution_count": 752,
   "metadata": {},
   "outputs": [
    {
     "data": {
      "text/plain": [
       "0"
      ]
     },
     "execution_count": 752,
     "metadata": {},
     "output_type": "execute_result"
    }
   ],
   "source": [
    "#Sanity check\n",
    "sum(full_features.index - full.index)"
   ]
  },
  {
   "cell_type": "code",
   "execution_count": 753,
   "metadata": {},
   "outputs": [
    {
     "data": {
      "text/html": [
       "<div>\n",
       "<style scoped>\n",
       "    .dataframe tbody tr th:only-of-type {\n",
       "        vertical-align: middle;\n",
       "    }\n",
       "\n",
       "    .dataframe tbody tr th {\n",
       "        vertical-align: top;\n",
       "    }\n",
       "\n",
       "    .dataframe thead th {\n",
       "        text-align: right;\n",
       "    }\n",
       "</style>\n",
       "<table border=\"1\" class=\"dataframe\">\n",
       "  <thead>\n",
       "    <tr style=\"text-align: right;\">\n",
       "      <th></th>\n",
       "      <th>userId</th>\n",
       "      <th>itemId</th>\n",
       "      <th>Xmin</th>\n",
       "      <th>Ymin</th>\n",
       "      <th>Xmax</th>\n",
       "      <th>Ymax</th>\n",
       "      <th>Xmin_mm</th>\n",
       "      <th>Ymin_mm</th>\n",
       "      <th>Xmax_mm</th>\n",
       "      <th>Ymax_mm</th>\n",
       "    </tr>\n",
       "  </thead>\n",
       "  <tbody>\n",
       "    <tr>\n",
       "      <th>0</th>\n",
       "      <td>1164</td>\n",
       "      <td>6132</td>\n",
       "      <td>62</td>\n",
       "      <td>656</td>\n",
       "      <td>276</td>\n",
       "      <td>803</td>\n",
       "      <td>39</td>\n",
       "      <td>637</td>\n",
       "      <td>276</td>\n",
       "      <td>831</td>\n",
       "    </tr>\n",
       "    <tr>\n",
       "      <th>1</th>\n",
       "      <td>1399</td>\n",
       "      <td>6132</td>\n",
       "      <td>184</td>\n",
       "      <td>662</td>\n",
       "      <td>235</td>\n",
       "      <td>740</td>\n",
       "      <td>39</td>\n",
       "      <td>637</td>\n",
       "      <td>276</td>\n",
       "      <td>831</td>\n",
       "    </tr>\n",
       "    <tr>\n",
       "      <th>2</th>\n",
       "      <td>1694</td>\n",
       "      <td>6132</td>\n",
       "      <td>63</td>\n",
       "      <td>648</td>\n",
       "      <td>272</td>\n",
       "      <td>830</td>\n",
       "      <td>39</td>\n",
       "      <td>637</td>\n",
       "      <td>276</td>\n",
       "      <td>831</td>\n",
       "    </tr>\n",
       "    <tr>\n",
       "      <th>3</th>\n",
       "      <td>916</td>\n",
       "      <td>6132</td>\n",
       "      <td>111</td>\n",
       "      <td>637</td>\n",
       "      <td>253</td>\n",
       "      <td>831</td>\n",
       "      <td>39</td>\n",
       "      <td>637</td>\n",
       "      <td>276</td>\n",
       "      <td>831</td>\n",
       "    </tr>\n",
       "    <tr>\n",
       "      <th>4</th>\n",
       "      <td>1621</td>\n",
       "      <td>6132</td>\n",
       "      <td>60</td>\n",
       "      <td>651</td>\n",
       "      <td>242</td>\n",
       "      <td>819</td>\n",
       "      <td>39</td>\n",
       "      <td>637</td>\n",
       "      <td>276</td>\n",
       "      <td>831</td>\n",
       "    </tr>\n",
       "  </tbody>\n",
       "</table>\n",
       "</div>"
      ],
      "text/plain": [
       "   userId  itemId  Xmin  Ymin  Xmax  Ymax  Xmin_mm  Ymin_mm  Xmax_mm  Ymax_mm\n",
       "0    1164    6132    62   656   276   803       39      637      276      831\n",
       "1    1399    6132   184   662   235   740       39      637      276      831\n",
       "2    1694    6132    63   648   272   830       39      637      276      831\n",
       "3     916    6132   111   637   253   831       39      637      276      831\n",
       "4    1621    6132    60   651   242   819       39      637      276      831"
      ]
     },
     "execution_count": 753,
     "metadata": {},
     "output_type": "execute_result"
    }
   ],
   "source": [
    "full_features.head()"
   ]
  },
  {
   "cell_type": "code",
   "execution_count": 754,
   "metadata": {},
   "outputs": [
    {
     "data": {
      "text/plain": [
       "74874"
      ]
     },
     "execution_count": 754,
     "metadata": {},
     "output_type": "execute_result"
    }
   ],
   "source": [
    "del(df_myminmax)\n",
    "gc.collect()"
   ]
  },
  {
   "cell_type": "markdown",
   "metadata": {},
   "source": [
    "**простой mean**"
   ]
  },
  {
   "cell_type": "code",
   "execution_count": 755,
   "metadata": {},
   "outputs": [
    {
     "data": {
      "text/plain": [
       "Index(['Xmin', 'Ymin', 'Xmax', 'Ymax'], dtype='object')"
      ]
     },
     "execution_count": 755,
     "metadata": {},
     "output_type": "execute_result"
    }
   ],
   "source": [
    "df_mean = full.groupby('itemId').mean()\n",
    "df_mean.drop(\"userId\", axis=1, inplace=True)\n",
    "df_mean.columns"
   ]
  },
  {
   "cell_type": "code",
   "execution_count": 756,
   "metadata": {},
   "outputs": [],
   "source": [
    "df_mean.columns = ['Xmin_mean', 'Ymin_mean', 'Xmax_mean', 'Ymax_mean']"
   ]
  },
  {
   "cell_type": "code",
   "execution_count": 757,
   "metadata": {},
   "outputs": [
    {
     "data": {
      "text/html": [
       "<div>\n",
       "<style scoped>\n",
       "    .dataframe tbody tr th:only-of-type {\n",
       "        vertical-align: middle;\n",
       "    }\n",
       "\n",
       "    .dataframe tbody tr th {\n",
       "        vertical-align: top;\n",
       "    }\n",
       "\n",
       "    .dataframe thead th {\n",
       "        text-align: right;\n",
       "    }\n",
       "</style>\n",
       "<table border=\"1\" class=\"dataframe\">\n",
       "  <thead>\n",
       "    <tr style=\"text-align: right;\">\n",
       "      <th></th>\n",
       "      <th>Xmin_mean</th>\n",
       "      <th>Ymin_mean</th>\n",
       "      <th>Xmax_mean</th>\n",
       "      <th>Ymax_mean</th>\n",
       "    </tr>\n",
       "    <tr>\n",
       "      <th>itemId</th>\n",
       "      <th></th>\n",
       "      <th></th>\n",
       "      <th></th>\n",
       "      <th></th>\n",
       "    </tr>\n",
       "  </thead>\n",
       "  <tbody>\n",
       "    <tr>\n",
       "      <th>5</th>\n",
       "      <td>184.333333</td>\n",
       "      <td>918.666667</td>\n",
       "      <td>501.333333</td>\n",
       "      <td>1248.666667</td>\n",
       "    </tr>\n",
       "    <tr>\n",
       "      <th>10</th>\n",
       "      <td>87.666667</td>\n",
       "      <td>562.666667</td>\n",
       "      <td>416.333333</td>\n",
       "      <td>855.333333</td>\n",
       "    </tr>\n",
       "    <tr>\n",
       "      <th>13</th>\n",
       "      <td>69.666667</td>\n",
       "      <td>603.000000</td>\n",
       "      <td>596.666667</td>\n",
       "      <td>966.666667</td>\n",
       "    </tr>\n",
       "    <tr>\n",
       "      <th>18</th>\n",
       "      <td>135.000000</td>\n",
       "      <td>704.000000</td>\n",
       "      <td>729.000000</td>\n",
       "      <td>1071.000000</td>\n",
       "    </tr>\n",
       "    <tr>\n",
       "      <th>19</th>\n",
       "      <td>29.666667</td>\n",
       "      <td>560.666667</td>\n",
       "      <td>114.666667</td>\n",
       "      <td>725.666667</td>\n",
       "    </tr>\n",
       "  </tbody>\n",
       "</table>\n",
       "</div>"
      ],
      "text/plain": [
       "         Xmin_mean   Ymin_mean   Xmax_mean    Ymax_mean\n",
       "itemId                                                 \n",
       "5       184.333333  918.666667  501.333333  1248.666667\n",
       "10       87.666667  562.666667  416.333333   855.333333\n",
       "13       69.666667  603.000000  596.666667   966.666667\n",
       "18      135.000000  704.000000  729.000000  1071.000000\n",
       "19       29.666667  560.666667  114.666667   725.666667"
      ]
     },
     "execution_count": 757,
     "metadata": {},
     "output_type": "execute_result"
    }
   ],
   "source": [
    "df_mean.head()"
   ]
  },
  {
   "cell_type": "code",
   "execution_count": 758,
   "metadata": {},
   "outputs": [
    {
     "data": {
      "text/plain": [
       "0"
      ]
     },
     "execution_count": 758,
     "metadata": {},
     "output_type": "execute_result"
    }
   ],
   "source": [
    "full_features = pd.merge(full_features, df_mean, how='left', left_on= 'itemId', right_index=True, sort=False)\n",
    "#Sanity check\n",
    "sum(full_features.index - full.index)"
   ]
  },
  {
   "cell_type": "code",
   "execution_count": 759,
   "metadata": {},
   "outputs": [
    {
     "data": {
      "text/html": [
       "<div>\n",
       "<style scoped>\n",
       "    .dataframe tbody tr th:only-of-type {\n",
       "        vertical-align: middle;\n",
       "    }\n",
       "\n",
       "    .dataframe tbody tr th {\n",
       "        vertical-align: top;\n",
       "    }\n",
       "\n",
       "    .dataframe thead th {\n",
       "        text-align: right;\n",
       "    }\n",
       "</style>\n",
       "<table border=\"1\" class=\"dataframe\">\n",
       "  <thead>\n",
       "    <tr style=\"text-align: right;\">\n",
       "      <th></th>\n",
       "      <th>userId</th>\n",
       "      <th>itemId</th>\n",
       "      <th>Xmin</th>\n",
       "      <th>Ymin</th>\n",
       "      <th>Xmax</th>\n",
       "      <th>Ymax</th>\n",
       "      <th>Xmin_mm</th>\n",
       "      <th>Ymin_mm</th>\n",
       "      <th>Xmax_mm</th>\n",
       "      <th>Ymax_mm</th>\n",
       "      <th>Xmin_mean</th>\n",
       "      <th>Ymin_mean</th>\n",
       "      <th>Xmax_mean</th>\n",
       "      <th>Ymax_mean</th>\n",
       "    </tr>\n",
       "  </thead>\n",
       "  <tbody>\n",
       "    <tr>\n",
       "      <th>0</th>\n",
       "      <td>1164</td>\n",
       "      <td>6132</td>\n",
       "      <td>62</td>\n",
       "      <td>656</td>\n",
       "      <td>276</td>\n",
       "      <td>803</td>\n",
       "      <td>39</td>\n",
       "      <td>637</td>\n",
       "      <td>276</td>\n",
       "      <td>831</td>\n",
       "      <td>86.5</td>\n",
       "      <td>650.5</td>\n",
       "      <td>254.5</td>\n",
       "      <td>808.0</td>\n",
       "    </tr>\n",
       "    <tr>\n",
       "      <th>1</th>\n",
       "      <td>1399</td>\n",
       "      <td>6132</td>\n",
       "      <td>184</td>\n",
       "      <td>662</td>\n",
       "      <td>235</td>\n",
       "      <td>740</td>\n",
       "      <td>39</td>\n",
       "      <td>637</td>\n",
       "      <td>276</td>\n",
       "      <td>831</td>\n",
       "      <td>86.5</td>\n",
       "      <td>650.5</td>\n",
       "      <td>254.5</td>\n",
       "      <td>808.0</td>\n",
       "    </tr>\n",
       "    <tr>\n",
       "      <th>2</th>\n",
       "      <td>1694</td>\n",
       "      <td>6132</td>\n",
       "      <td>63</td>\n",
       "      <td>648</td>\n",
       "      <td>272</td>\n",
       "      <td>830</td>\n",
       "      <td>39</td>\n",
       "      <td>637</td>\n",
       "      <td>276</td>\n",
       "      <td>831</td>\n",
       "      <td>86.5</td>\n",
       "      <td>650.5</td>\n",
       "      <td>254.5</td>\n",
       "      <td>808.0</td>\n",
       "    </tr>\n",
       "    <tr>\n",
       "      <th>3</th>\n",
       "      <td>916</td>\n",
       "      <td>6132</td>\n",
       "      <td>111</td>\n",
       "      <td>637</td>\n",
       "      <td>253</td>\n",
       "      <td>831</td>\n",
       "      <td>39</td>\n",
       "      <td>637</td>\n",
       "      <td>276</td>\n",
       "      <td>831</td>\n",
       "      <td>86.5</td>\n",
       "      <td>650.5</td>\n",
       "      <td>254.5</td>\n",
       "      <td>808.0</td>\n",
       "    </tr>\n",
       "    <tr>\n",
       "      <th>4</th>\n",
       "      <td>1621</td>\n",
       "      <td>6132</td>\n",
       "      <td>60</td>\n",
       "      <td>651</td>\n",
       "      <td>242</td>\n",
       "      <td>819</td>\n",
       "      <td>39</td>\n",
       "      <td>637</td>\n",
       "      <td>276</td>\n",
       "      <td>831</td>\n",
       "      <td>86.5</td>\n",
       "      <td>650.5</td>\n",
       "      <td>254.5</td>\n",
       "      <td>808.0</td>\n",
       "    </tr>\n",
       "  </tbody>\n",
       "</table>\n",
       "</div>"
      ],
      "text/plain": [
       "   userId  itemId  Xmin  Ymin  Xmax  Ymax  Xmin_mm  Ymin_mm  Xmax_mm  Ymax_mm  \\\n",
       "0    1164    6132    62   656   276   803       39      637      276      831   \n",
       "1    1399    6132   184   662   235   740       39      637      276      831   \n",
       "2    1694    6132    63   648   272   830       39      637      276      831   \n",
       "3     916    6132   111   637   253   831       39      637      276      831   \n",
       "4    1621    6132    60   651   242   819       39      637      276      831   \n",
       "\n",
       "   Xmin_mean  Ymin_mean  Xmax_mean  Ymax_mean  \n",
       "0       86.5      650.5      254.5      808.0  \n",
       "1       86.5      650.5      254.5      808.0  \n",
       "2       86.5      650.5      254.5      808.0  \n",
       "3       86.5      650.5      254.5      808.0  \n",
       "4       86.5      650.5      254.5      808.0  "
      ]
     },
     "execution_count": 759,
     "metadata": {},
     "output_type": "execute_result"
    }
   ],
   "source": [
    "full_features.head()"
   ]
  },
  {
   "cell_type": "code",
   "execution_count": 760,
   "metadata": {},
   "outputs": [
    {
     "data": {
      "text/plain": [
       "14"
      ]
     },
     "execution_count": 760,
     "metadata": {},
     "output_type": "execute_result"
    }
   ],
   "source": [
    "del(df_mean)\n",
    "gc.collect()"
   ]
  },
  {
   "cell_type": "markdown",
   "metadata": {},
   "source": [
    "**Средние значения по моему расчету в пределах 0,8стд**"
   ]
  },
  {
   "cell_type": "code",
   "execution_count": 761,
   "metadata": {},
   "outputs": [
    {
     "data": {
      "text/plain": [
       "Index(['Xmin', 'Ymin', 'Xmax', 'Ymax'], dtype='object')"
      ]
     },
     "execution_count": 761,
     "metadata": {},
     "output_type": "execute_result"
    }
   ],
   "source": [
    "df_mymean = full.groupby('itemId').apply(mymean)\n",
    "df_mymean.drop([\"userId\", \"itemId\"], axis=1, inplace=True)\n",
    "df_mymean.columns"
   ]
  },
  {
   "cell_type": "code",
   "execution_count": 762,
   "metadata": {},
   "outputs": [],
   "source": [
    "df_mymean.columns = ['Xmin_mymean', 'Ymin_mymean', 'Xmax_mymean', 'Ymax_mymean']"
   ]
  },
  {
   "cell_type": "code",
   "execution_count": 763,
   "metadata": {},
   "outputs": [
    {
     "data": {
      "text/html": [
       "<div>\n",
       "<style scoped>\n",
       "    .dataframe tbody tr th:only-of-type {\n",
       "        vertical-align: middle;\n",
       "    }\n",
       "\n",
       "    .dataframe tbody tr th {\n",
       "        vertical-align: top;\n",
       "    }\n",
       "\n",
       "    .dataframe thead th {\n",
       "        text-align: right;\n",
       "    }\n",
       "</style>\n",
       "<table border=\"1\" class=\"dataframe\">\n",
       "  <thead>\n",
       "    <tr style=\"text-align: right;\">\n",
       "      <th></th>\n",
       "      <th>Xmin_mymean</th>\n",
       "      <th>Ymin_mymean</th>\n",
       "      <th>Xmax_mymean</th>\n",
       "      <th>Ymax_mymean</th>\n",
       "    </tr>\n",
       "    <tr>\n",
       "      <th>itemId</th>\n",
       "      <th></th>\n",
       "      <th></th>\n",
       "      <th></th>\n",
       "      <th></th>\n",
       "    </tr>\n",
       "  </thead>\n",
       "  <tbody>\n",
       "    <tr>\n",
       "      <th>5</th>\n",
       "      <td>192</td>\n",
       "      <td>917</td>\n",
       "      <td>510</td>\n",
       "      <td>1255</td>\n",
       "    </tr>\n",
       "    <tr>\n",
       "      <th>10</th>\n",
       "      <td>95</td>\n",
       "      <td>559</td>\n",
       "      <td>420</td>\n",
       "      <td>856</td>\n",
       "    </tr>\n",
       "    <tr>\n",
       "      <th>13</th>\n",
       "      <td>69</td>\n",
       "      <td>603</td>\n",
       "      <td>614</td>\n",
       "      <td>969</td>\n",
       "    </tr>\n",
       "    <tr>\n",
       "      <th>18</th>\n",
       "      <td>135</td>\n",
       "      <td>704</td>\n",
       "      <td>729</td>\n",
       "      <td>1071</td>\n",
       "    </tr>\n",
       "    <tr>\n",
       "      <th>19</th>\n",
       "      <td>27</td>\n",
       "      <td>559</td>\n",
       "      <td>112</td>\n",
       "      <td>727</td>\n",
       "    </tr>\n",
       "  </tbody>\n",
       "</table>\n",
       "</div>"
      ],
      "text/plain": [
       "        Xmin_mymean  Ymin_mymean  Xmax_mymean  Ymax_mymean\n",
       "itemId                                                    \n",
       "5               192          917          510         1255\n",
       "10               95          559          420          856\n",
       "13               69          603          614          969\n",
       "18              135          704          729         1071\n",
       "19               27          559          112          727"
      ]
     },
     "execution_count": 763,
     "metadata": {},
     "output_type": "execute_result"
    }
   ],
   "source": [
    "df_mymean.head()"
   ]
  },
  {
   "cell_type": "code",
   "execution_count": 764,
   "metadata": {},
   "outputs": [
    {
     "name": "stdout",
     "output_type": "stream",
     "text": [
      "Sanity check:  0\n"
     ]
    },
    {
     "data": {
      "text/html": [
       "<div>\n",
       "<style scoped>\n",
       "    .dataframe tbody tr th:only-of-type {\n",
       "        vertical-align: middle;\n",
       "    }\n",
       "\n",
       "    .dataframe tbody tr th {\n",
       "        vertical-align: top;\n",
       "    }\n",
       "\n",
       "    .dataframe thead th {\n",
       "        text-align: right;\n",
       "    }\n",
       "</style>\n",
       "<table border=\"1\" class=\"dataframe\">\n",
       "  <thead>\n",
       "    <tr style=\"text-align: right;\">\n",
       "      <th></th>\n",
       "      <th>userId</th>\n",
       "      <th>itemId</th>\n",
       "      <th>Xmin</th>\n",
       "      <th>Ymin</th>\n",
       "      <th>Xmax</th>\n",
       "      <th>Ymax</th>\n",
       "      <th>Xmin_mm</th>\n",
       "      <th>Ymin_mm</th>\n",
       "      <th>Xmax_mm</th>\n",
       "      <th>Ymax_mm</th>\n",
       "      <th>Xmin_mean</th>\n",
       "      <th>Ymin_mean</th>\n",
       "      <th>Xmax_mean</th>\n",
       "      <th>Ymax_mean</th>\n",
       "      <th>Xmin_mymean</th>\n",
       "      <th>Ymin_mymean</th>\n",
       "      <th>Xmax_mymean</th>\n",
       "      <th>Ymax_mymean</th>\n",
       "    </tr>\n",
       "  </thead>\n",
       "  <tbody>\n",
       "    <tr>\n",
       "      <th>0</th>\n",
       "      <td>1164</td>\n",
       "      <td>6132</td>\n",
       "      <td>62</td>\n",
       "      <td>656</td>\n",
       "      <td>276</td>\n",
       "      <td>803</td>\n",
       "      <td>39</td>\n",
       "      <td>637</td>\n",
       "      <td>276</td>\n",
       "      <td>831</td>\n",
       "      <td>86.5</td>\n",
       "      <td>650.5</td>\n",
       "      <td>254.5</td>\n",
       "      <td>808.0</td>\n",
       "      <td>74</td>\n",
       "      <td>651</td>\n",
       "      <td>248</td>\n",
       "      <td>821</td>\n",
       "    </tr>\n",
       "    <tr>\n",
       "      <th>1</th>\n",
       "      <td>1399</td>\n",
       "      <td>6132</td>\n",
       "      <td>184</td>\n",
       "      <td>662</td>\n",
       "      <td>235</td>\n",
       "      <td>740</td>\n",
       "      <td>39</td>\n",
       "      <td>637</td>\n",
       "      <td>276</td>\n",
       "      <td>831</td>\n",
       "      <td>86.5</td>\n",
       "      <td>650.5</td>\n",
       "      <td>254.5</td>\n",
       "      <td>808.0</td>\n",
       "      <td>74</td>\n",
       "      <td>651</td>\n",
       "      <td>248</td>\n",
       "      <td>821</td>\n",
       "    </tr>\n",
       "    <tr>\n",
       "      <th>2</th>\n",
       "      <td>1694</td>\n",
       "      <td>6132</td>\n",
       "      <td>63</td>\n",
       "      <td>648</td>\n",
       "      <td>272</td>\n",
       "      <td>830</td>\n",
       "      <td>39</td>\n",
       "      <td>637</td>\n",
       "      <td>276</td>\n",
       "      <td>831</td>\n",
       "      <td>86.5</td>\n",
       "      <td>650.5</td>\n",
       "      <td>254.5</td>\n",
       "      <td>808.0</td>\n",
       "      <td>74</td>\n",
       "      <td>651</td>\n",
       "      <td>248</td>\n",
       "      <td>821</td>\n",
       "    </tr>\n",
       "    <tr>\n",
       "      <th>3</th>\n",
       "      <td>916</td>\n",
       "      <td>6132</td>\n",
       "      <td>111</td>\n",
       "      <td>637</td>\n",
       "      <td>253</td>\n",
       "      <td>831</td>\n",
       "      <td>39</td>\n",
       "      <td>637</td>\n",
       "      <td>276</td>\n",
       "      <td>831</td>\n",
       "      <td>86.5</td>\n",
       "      <td>650.5</td>\n",
       "      <td>254.5</td>\n",
       "      <td>808.0</td>\n",
       "      <td>74</td>\n",
       "      <td>651</td>\n",
       "      <td>248</td>\n",
       "      <td>821</td>\n",
       "    </tr>\n",
       "    <tr>\n",
       "      <th>4</th>\n",
       "      <td>1621</td>\n",
       "      <td>6132</td>\n",
       "      <td>60</td>\n",
       "      <td>651</td>\n",
       "      <td>242</td>\n",
       "      <td>819</td>\n",
       "      <td>39</td>\n",
       "      <td>637</td>\n",
       "      <td>276</td>\n",
       "      <td>831</td>\n",
       "      <td>86.5</td>\n",
       "      <td>650.5</td>\n",
       "      <td>254.5</td>\n",
       "      <td>808.0</td>\n",
       "      <td>74</td>\n",
       "      <td>651</td>\n",
       "      <td>248</td>\n",
       "      <td>821</td>\n",
       "    </tr>\n",
       "  </tbody>\n",
       "</table>\n",
       "</div>"
      ],
      "text/plain": [
       "   userId  itemId  Xmin  Ymin  Xmax  Ymax  Xmin_mm  Ymin_mm  Xmax_mm  Ymax_mm  \\\n",
       "0    1164    6132    62   656   276   803       39      637      276      831   \n",
       "1    1399    6132   184   662   235   740       39      637      276      831   \n",
       "2    1694    6132    63   648   272   830       39      637      276      831   \n",
       "3     916    6132   111   637   253   831       39      637      276      831   \n",
       "4    1621    6132    60   651   242   819       39      637      276      831   \n",
       "\n",
       "   Xmin_mean  Ymin_mean  Xmax_mean  Ymax_mean  Xmin_mymean  Ymin_mymean  \\\n",
       "0       86.5      650.5      254.5      808.0           74          651   \n",
       "1       86.5      650.5      254.5      808.0           74          651   \n",
       "2       86.5      650.5      254.5      808.0           74          651   \n",
       "3       86.5      650.5      254.5      808.0           74          651   \n",
       "4       86.5      650.5      254.5      808.0           74          651   \n",
       "\n",
       "   Xmax_mymean  Ymax_mymean  \n",
       "0          248          821  \n",
       "1          248          821  \n",
       "2          248          821  \n",
       "3          248          821  \n",
       "4          248          821  "
      ]
     },
     "execution_count": 764,
     "metadata": {},
     "output_type": "execute_result"
    }
   ],
   "source": [
    "full_features = pd.merge(full_features, df_mymean, how='left', left_on= 'itemId', right_index=True, sort=False)\n",
    "#Sanity check\n",
    "print(\"Sanity check: \", sum(full_features.index - full.index))\n",
    "full_features.head()"
   ]
  },
  {
   "cell_type": "code",
   "execution_count": 765,
   "metadata": {},
   "outputs": [
    {
     "data": {
      "text/plain": [
       "37"
      ]
     },
     "execution_count": 765,
     "metadata": {},
     "output_type": "execute_result"
    }
   ],
   "source": [
    "del(df_mymean)\n",
    "gc.collect()"
   ]
  },
  {
   "cell_type": "markdown",
   "metadata": {},
   "source": [
    "**Периметр**"
   ]
  },
  {
   "cell_type": "code",
   "execution_count": 766,
   "metadata": {},
   "outputs": [],
   "source": [
    "full_features[\"perimeter\"] = (full_features[\"Xmax\"] - full_features[\"Xmin\"] + full_features[\"Ymax\"] - full_features[\"Ymin\"])*2\n",
    "full_features[\"perimeter_mm\"] = (full_features[\"Xmax_mm\"] - full_features[\"Xmin_mm\"] + full_features[\"Ymax_mm\"] - full_features[\"Ymin_mm\"])*2"
   ]
  },
  {
   "cell_type": "code",
   "execution_count": 767,
   "metadata": {},
   "outputs": [
    {
     "name": "stdout",
     "output_type": "stream",
     "text": [
      "Sanity check:  0\n"
     ]
    },
    {
     "data": {
      "text/html": [
       "<div>\n",
       "<style scoped>\n",
       "    .dataframe tbody tr th:only-of-type {\n",
       "        vertical-align: middle;\n",
       "    }\n",
       "\n",
       "    .dataframe tbody tr th {\n",
       "        vertical-align: top;\n",
       "    }\n",
       "\n",
       "    .dataframe thead th {\n",
       "        text-align: right;\n",
       "    }\n",
       "</style>\n",
       "<table border=\"1\" class=\"dataframe\">\n",
       "  <thead>\n",
       "    <tr style=\"text-align: right;\">\n",
       "      <th></th>\n",
       "      <th>userId</th>\n",
       "      <th>itemId</th>\n",
       "      <th>Xmin</th>\n",
       "      <th>Ymin</th>\n",
       "      <th>Xmax</th>\n",
       "      <th>Ymax</th>\n",
       "      <th>Xmin_mm</th>\n",
       "      <th>Ymin_mm</th>\n",
       "      <th>Xmax_mm</th>\n",
       "      <th>Ymax_mm</th>\n",
       "      <th>Xmin_mean</th>\n",
       "      <th>Ymin_mean</th>\n",
       "      <th>Xmax_mean</th>\n",
       "      <th>Ymax_mean</th>\n",
       "      <th>Xmin_mymean</th>\n",
       "      <th>Ymin_mymean</th>\n",
       "      <th>Xmax_mymean</th>\n",
       "      <th>Ymax_mymean</th>\n",
       "      <th>perimeter</th>\n",
       "      <th>perimeter_mm</th>\n",
       "    </tr>\n",
       "  </thead>\n",
       "  <tbody>\n",
       "    <tr>\n",
       "      <th>0</th>\n",
       "      <td>1164</td>\n",
       "      <td>6132</td>\n",
       "      <td>62</td>\n",
       "      <td>656</td>\n",
       "      <td>276</td>\n",
       "      <td>803</td>\n",
       "      <td>39</td>\n",
       "      <td>637</td>\n",
       "      <td>276</td>\n",
       "      <td>831</td>\n",
       "      <td>86.5</td>\n",
       "      <td>650.5</td>\n",
       "      <td>254.5</td>\n",
       "      <td>808.0</td>\n",
       "      <td>74</td>\n",
       "      <td>651</td>\n",
       "      <td>248</td>\n",
       "      <td>821</td>\n",
       "      <td>722</td>\n",
       "      <td>862</td>\n",
       "    </tr>\n",
       "    <tr>\n",
       "      <th>1</th>\n",
       "      <td>1399</td>\n",
       "      <td>6132</td>\n",
       "      <td>184</td>\n",
       "      <td>662</td>\n",
       "      <td>235</td>\n",
       "      <td>740</td>\n",
       "      <td>39</td>\n",
       "      <td>637</td>\n",
       "      <td>276</td>\n",
       "      <td>831</td>\n",
       "      <td>86.5</td>\n",
       "      <td>650.5</td>\n",
       "      <td>254.5</td>\n",
       "      <td>808.0</td>\n",
       "      <td>74</td>\n",
       "      <td>651</td>\n",
       "      <td>248</td>\n",
       "      <td>821</td>\n",
       "      <td>258</td>\n",
       "      <td>862</td>\n",
       "    </tr>\n",
       "    <tr>\n",
       "      <th>2</th>\n",
       "      <td>1694</td>\n",
       "      <td>6132</td>\n",
       "      <td>63</td>\n",
       "      <td>648</td>\n",
       "      <td>272</td>\n",
       "      <td>830</td>\n",
       "      <td>39</td>\n",
       "      <td>637</td>\n",
       "      <td>276</td>\n",
       "      <td>831</td>\n",
       "      <td>86.5</td>\n",
       "      <td>650.5</td>\n",
       "      <td>254.5</td>\n",
       "      <td>808.0</td>\n",
       "      <td>74</td>\n",
       "      <td>651</td>\n",
       "      <td>248</td>\n",
       "      <td>821</td>\n",
       "      <td>782</td>\n",
       "      <td>862</td>\n",
       "    </tr>\n",
       "    <tr>\n",
       "      <th>3</th>\n",
       "      <td>916</td>\n",
       "      <td>6132</td>\n",
       "      <td>111</td>\n",
       "      <td>637</td>\n",
       "      <td>253</td>\n",
       "      <td>831</td>\n",
       "      <td>39</td>\n",
       "      <td>637</td>\n",
       "      <td>276</td>\n",
       "      <td>831</td>\n",
       "      <td>86.5</td>\n",
       "      <td>650.5</td>\n",
       "      <td>254.5</td>\n",
       "      <td>808.0</td>\n",
       "      <td>74</td>\n",
       "      <td>651</td>\n",
       "      <td>248</td>\n",
       "      <td>821</td>\n",
       "      <td>672</td>\n",
       "      <td>862</td>\n",
       "    </tr>\n",
       "    <tr>\n",
       "      <th>4</th>\n",
       "      <td>1621</td>\n",
       "      <td>6132</td>\n",
       "      <td>60</td>\n",
       "      <td>651</td>\n",
       "      <td>242</td>\n",
       "      <td>819</td>\n",
       "      <td>39</td>\n",
       "      <td>637</td>\n",
       "      <td>276</td>\n",
       "      <td>831</td>\n",
       "      <td>86.5</td>\n",
       "      <td>650.5</td>\n",
       "      <td>254.5</td>\n",
       "      <td>808.0</td>\n",
       "      <td>74</td>\n",
       "      <td>651</td>\n",
       "      <td>248</td>\n",
       "      <td>821</td>\n",
       "      <td>700</td>\n",
       "      <td>862</td>\n",
       "    </tr>\n",
       "  </tbody>\n",
       "</table>\n",
       "</div>"
      ],
      "text/plain": [
       "   userId  itemId  Xmin  Ymin  Xmax  Ymax  Xmin_mm  Ymin_mm  Xmax_mm  Ymax_mm  \\\n",
       "0    1164    6132    62   656   276   803       39      637      276      831   \n",
       "1    1399    6132   184   662   235   740       39      637      276      831   \n",
       "2    1694    6132    63   648   272   830       39      637      276      831   \n",
       "3     916    6132   111   637   253   831       39      637      276      831   \n",
       "4    1621    6132    60   651   242   819       39      637      276      831   \n",
       "\n",
       "   Xmin_mean  Ymin_mean  Xmax_mean  Ymax_mean  Xmin_mymean  Ymin_mymean  \\\n",
       "0       86.5      650.5      254.5      808.0           74          651   \n",
       "1       86.5      650.5      254.5      808.0           74          651   \n",
       "2       86.5      650.5      254.5      808.0           74          651   \n",
       "3       86.5      650.5      254.5      808.0           74          651   \n",
       "4       86.5      650.5      254.5      808.0           74          651   \n",
       "\n",
       "   Xmax_mymean  Ymax_mymean  perimeter  perimeter_mm  \n",
       "0          248          821        722           862  \n",
       "1          248          821        258           862  \n",
       "2          248          821        782           862  \n",
       "3          248          821        672           862  \n",
       "4          248          821        700           862  "
      ]
     },
     "execution_count": 767,
     "metadata": {},
     "output_type": "execute_result"
    }
   ],
   "source": [
    "print(\"Sanity check: \", sum(full_features.index - full.index))\n",
    "full_features.head()"
   ]
  },
  {
   "cell_type": "markdown",
   "metadata": {},
   "source": [
    "**--статистики по юзерам--**"
   ]
  },
  {
   "cell_type": "markdown",
   "metadata": {},
   "source": [
    "**Средняя mse юзера**"
   ]
  },
  {
   "cell_type": "markdown",
   "metadata": {},
   "source": [
    "ранее мы посчитали среднюю ошибку юзера по трейну. Однако у нас нет ошибок по 191 юзеру из теста. Присвоим им среднюю из общих mse"
   ]
  },
  {
   "cell_type": "code",
   "execution_count": 768,
   "metadata": {},
   "outputs": [
    {
     "data": {
      "text/plain": [
       "userId\n",
       "1019    217615.750\n",
       "671     202095.000\n",
       "388     174108.625\n",
       "344     147222.250\n",
       "533     127838.750\n",
       "Name: mse, dtype: float64"
      ]
     },
     "execution_count": 768,
     "metadata": {},
     "output_type": "execute_result"
    }
   ],
   "source": [
    "user_fails.head()"
   ]
  },
  {
   "cell_type": "markdown",
   "metadata": {},
   "source": [
    "всего у нас уникальных юзеров"
   ]
  },
  {
   "cell_type": "code",
   "execution_count": 769,
   "metadata": {},
   "outputs": [
    {
     "data": {
      "text/plain": [
       "191"
      ]
     },
     "execution_count": 769,
     "metadata": {},
     "output_type": "execute_result"
    }
   ],
   "source": [
    "len(unique_users_test)"
   ]
  },
  {
   "cell_type": "code",
   "execution_count": 770,
   "metadata": {},
   "outputs": [
    {
     "data": {
      "text/plain": [
       "[1, 18, 19, 38, 47, 67, 82, 83, 84, 85]"
      ]
     },
     "execution_count": 770,
     "metadata": {},
     "output_type": "execute_result"
    }
   ],
   "source": [
    "unique_users_test[:10]"
   ]
  },
  {
   "cell_type": "markdown",
   "metadata": {},
   "source": [
    "сделаем новый Series с индексами как уникальные юзеры и значениями - mean всех ошибок"
   ]
  },
  {
   "cell_type": "code",
   "execution_count": 771,
   "metadata": {},
   "outputs": [],
   "source": [
    "additional_users = pd.Series([user_fails.mean()]*len(unique_users_test), index = unique_users_test)\n",
    "user_fails = train_merged.groupby('userId').mean().mse.sort_values(ascending=False)\n",
    "user_fails = user_fails.append(additional_users)"
   ]
  },
  {
   "cell_type": "markdown",
   "metadata": {},
   "source": [
    "sanity check"
   ]
  },
  {
   "cell_type": "code",
   "execution_count": 772,
   "metadata": {},
   "outputs": [
    {
     "data": {
      "text/plain": [
       "(1548,)"
      ]
     },
     "execution_count": 772,
     "metadata": {},
     "output_type": "execute_result"
    }
   ],
   "source": [
    "user_fails.shape"
   ]
  },
  {
   "cell_type": "code",
   "execution_count": 773,
   "metadata": {},
   "outputs": [
    {
     "data": {
      "text/plain": [
       "1548"
      ]
     },
     "execution_count": 773,
     "metadata": {},
     "output_type": "execute_result"
    }
   ],
   "source": [
    "full_features[\"userId\"].nunique()"
   ]
  },
  {
   "cell_type": "code",
   "execution_count": 774,
   "metadata": {},
   "outputs": [],
   "source": [
    "df_user_fails = user_fails.to_frame()\n",
    "df_user_fails.columns = [\"user_mse\"]"
   ]
  },
  {
   "cell_type": "code",
   "execution_count": 775,
   "metadata": {},
   "outputs": [
    {
     "name": "stdout",
     "output_type": "stream",
     "text": [
      "Sanity check:  0\n"
     ]
    },
    {
     "data": {
      "text/html": [
       "<div>\n",
       "<style scoped>\n",
       "    .dataframe tbody tr th:only-of-type {\n",
       "        vertical-align: middle;\n",
       "    }\n",
       "\n",
       "    .dataframe tbody tr th {\n",
       "        vertical-align: top;\n",
       "    }\n",
       "\n",
       "    .dataframe thead th {\n",
       "        text-align: right;\n",
       "    }\n",
       "</style>\n",
       "<table border=\"1\" class=\"dataframe\">\n",
       "  <thead>\n",
       "    <tr style=\"text-align: right;\">\n",
       "      <th></th>\n",
       "      <th>userId</th>\n",
       "      <th>itemId</th>\n",
       "      <th>Xmin</th>\n",
       "      <th>Ymin</th>\n",
       "      <th>Xmax</th>\n",
       "      <th>Ymax</th>\n",
       "      <th>Xmin_mm</th>\n",
       "      <th>Ymin_mm</th>\n",
       "      <th>Xmax_mm</th>\n",
       "      <th>Ymax_mm</th>\n",
       "      <th>...</th>\n",
       "      <th>Ymin_mean</th>\n",
       "      <th>Xmax_mean</th>\n",
       "      <th>Ymax_mean</th>\n",
       "      <th>Xmin_mymean</th>\n",
       "      <th>Ymin_mymean</th>\n",
       "      <th>Xmax_mymean</th>\n",
       "      <th>Ymax_mymean</th>\n",
       "      <th>perimeter</th>\n",
       "      <th>perimeter_mm</th>\n",
       "      <th>user_mse</th>\n",
       "    </tr>\n",
       "  </thead>\n",
       "  <tbody>\n",
       "    <tr>\n",
       "      <th>0</th>\n",
       "      <td>1164</td>\n",
       "      <td>6132</td>\n",
       "      <td>62</td>\n",
       "      <td>656</td>\n",
       "      <td>276</td>\n",
       "      <td>803</td>\n",
       "      <td>39</td>\n",
       "      <td>637</td>\n",
       "      <td>276</td>\n",
       "      <td>831</td>\n",
       "      <td>...</td>\n",
       "      <td>650.5</td>\n",
       "      <td>254.5</td>\n",
       "      <td>808.0</td>\n",
       "      <td>74</td>\n",
       "      <td>651</td>\n",
       "      <td>248</td>\n",
       "      <td>821</td>\n",
       "      <td>722</td>\n",
       "      <td>862</td>\n",
       "      <td>20532.916667</td>\n",
       "    </tr>\n",
       "    <tr>\n",
       "      <th>1</th>\n",
       "      <td>1399</td>\n",
       "      <td>6132</td>\n",
       "      <td>184</td>\n",
       "      <td>662</td>\n",
       "      <td>235</td>\n",
       "      <td>740</td>\n",
       "      <td>39</td>\n",
       "      <td>637</td>\n",
       "      <td>276</td>\n",
       "      <td>831</td>\n",
       "      <td>...</td>\n",
       "      <td>650.5</td>\n",
       "      <td>254.5</td>\n",
       "      <td>808.0</td>\n",
       "      <td>74</td>\n",
       "      <td>651</td>\n",
       "      <td>248</td>\n",
       "      <td>821</td>\n",
       "      <td>258</td>\n",
       "      <td>862</td>\n",
       "      <td>5515.333333</td>\n",
       "    </tr>\n",
       "    <tr>\n",
       "      <th>2</th>\n",
       "      <td>1694</td>\n",
       "      <td>6132</td>\n",
       "      <td>63</td>\n",
       "      <td>648</td>\n",
       "      <td>272</td>\n",
       "      <td>830</td>\n",
       "      <td>39</td>\n",
       "      <td>637</td>\n",
       "      <td>276</td>\n",
       "      <td>831</td>\n",
       "      <td>...</td>\n",
       "      <td>650.5</td>\n",
       "      <td>254.5</td>\n",
       "      <td>808.0</td>\n",
       "      <td>74</td>\n",
       "      <td>651</td>\n",
       "      <td>248</td>\n",
       "      <td>821</td>\n",
       "      <td>782</td>\n",
       "      <td>862</td>\n",
       "      <td>3210.875000</td>\n",
       "    </tr>\n",
       "    <tr>\n",
       "      <th>3</th>\n",
       "      <td>916</td>\n",
       "      <td>6132</td>\n",
       "      <td>111</td>\n",
       "      <td>637</td>\n",
       "      <td>253</td>\n",
       "      <td>831</td>\n",
       "      <td>39</td>\n",
       "      <td>637</td>\n",
       "      <td>276</td>\n",
       "      <td>831</td>\n",
       "      <td>...</td>\n",
       "      <td>650.5</td>\n",
       "      <td>254.5</td>\n",
       "      <td>808.0</td>\n",
       "      <td>74</td>\n",
       "      <td>651</td>\n",
       "      <td>248</td>\n",
       "      <td>821</td>\n",
       "      <td>672</td>\n",
       "      <td>862</td>\n",
       "      <td>9491.250000</td>\n",
       "    </tr>\n",
       "    <tr>\n",
       "      <th>4</th>\n",
       "      <td>1621</td>\n",
       "      <td>6132</td>\n",
       "      <td>60</td>\n",
       "      <td>651</td>\n",
       "      <td>242</td>\n",
       "      <td>819</td>\n",
       "      <td>39</td>\n",
       "      <td>637</td>\n",
       "      <td>276</td>\n",
       "      <td>831</td>\n",
       "      <td>...</td>\n",
       "      <td>650.5</td>\n",
       "      <td>254.5</td>\n",
       "      <td>808.0</td>\n",
       "      <td>74</td>\n",
       "      <td>651</td>\n",
       "      <td>248</td>\n",
       "      <td>821</td>\n",
       "      <td>700</td>\n",
       "      <td>862</td>\n",
       "      <td>21763.150000</td>\n",
       "    </tr>\n",
       "  </tbody>\n",
       "</table>\n",
       "<p>5 rows × 21 columns</p>\n",
       "</div>"
      ],
      "text/plain": [
       "   userId  itemId  Xmin  Ymin  Xmax  Ymax  Xmin_mm  Ymin_mm  Xmax_mm  Ymax_mm  \\\n",
       "0    1164    6132    62   656   276   803       39      637      276      831   \n",
       "1    1399    6132   184   662   235   740       39      637      276      831   \n",
       "2    1694    6132    63   648   272   830       39      637      276      831   \n",
       "3     916    6132   111   637   253   831       39      637      276      831   \n",
       "4    1621    6132    60   651   242   819       39      637      276      831   \n",
       "\n",
       "       ...       Ymin_mean  Xmax_mean  Ymax_mean  Xmin_mymean  Ymin_mymean  \\\n",
       "0      ...           650.5      254.5      808.0           74          651   \n",
       "1      ...           650.5      254.5      808.0           74          651   \n",
       "2      ...           650.5      254.5      808.0           74          651   \n",
       "3      ...           650.5      254.5      808.0           74          651   \n",
       "4      ...           650.5      254.5      808.0           74          651   \n",
       "\n",
       "   Xmax_mymean  Ymax_mymean  perimeter  perimeter_mm      user_mse  \n",
       "0          248          821        722           862  20532.916667  \n",
       "1          248          821        258           862   5515.333333  \n",
       "2          248          821        782           862   3210.875000  \n",
       "3          248          821        672           862   9491.250000  \n",
       "4          248          821        700           862  21763.150000  \n",
       "\n",
       "[5 rows x 21 columns]"
      ]
     },
     "execution_count": 775,
     "metadata": {},
     "output_type": "execute_result"
    }
   ],
   "source": [
    "full_features = pd.merge(full_features, df_user_fails, how='left', left_on= 'userId', right_index=True, sort=False)\n",
    "#Sanity check\n",
    "print(\"Sanity check: \", sum(full_features.index - full.index))\n",
    "full_features.head()"
   ]
  },
  {
   "cell_type": "markdown",
   "metadata": {},
   "source": [
    "Кол-во оценок, совершенное данным юзером"
   ]
  },
  {
   "cell_type": "code",
   "execution_count": 776,
   "metadata": {},
   "outputs": [
    {
     "name": "stdout",
     "output_type": "stream",
     "text": [
      "(1548, 1)\n"
     ]
    },
    {
     "data": {
      "text/html": [
       "<div>\n",
       "<style scoped>\n",
       "    .dataframe tbody tr th:only-of-type {\n",
       "        vertical-align: middle;\n",
       "    }\n",
       "\n",
       "    .dataframe tbody tr th {\n",
       "        vertical-align: top;\n",
       "    }\n",
       "\n",
       "    .dataframe thead th {\n",
       "        text-align: right;\n",
       "    }\n",
       "</style>\n",
       "<table border=\"1\" class=\"dataframe\">\n",
       "  <thead>\n",
       "    <tr style=\"text-align: right;\">\n",
       "      <th></th>\n",
       "      <th>user_activity</th>\n",
       "    </tr>\n",
       "    <tr>\n",
       "      <th>userId</th>\n",
       "      <th></th>\n",
       "    </tr>\n",
       "  </thead>\n",
       "  <tbody>\n",
       "    <tr>\n",
       "      <th>0</th>\n",
       "      <td>3</td>\n",
       "    </tr>\n",
       "    <tr>\n",
       "      <th>1</th>\n",
       "      <td>1</td>\n",
       "    </tr>\n",
       "    <tr>\n",
       "      <th>2</th>\n",
       "      <td>4</td>\n",
       "    </tr>\n",
       "    <tr>\n",
       "      <th>3</th>\n",
       "      <td>20</td>\n",
       "    </tr>\n",
       "    <tr>\n",
       "      <th>5</th>\n",
       "      <td>1</td>\n",
       "    </tr>\n",
       "  </tbody>\n",
       "</table>\n",
       "</div>"
      ],
      "text/plain": [
       "        user_activity\n",
       "userId               \n",
       "0                   3\n",
       "1                   1\n",
       "2                   4\n",
       "3                  20\n",
       "5                   1"
      ]
     },
     "execution_count": 776,
     "metadata": {},
     "output_type": "execute_result"
    }
   ],
   "source": [
    "df_user_activity = full.groupby(\"userId\").count().itemId.to_frame()\n",
    "df_user_activity.columns = [\"user_activity\"]\n",
    "print(df_user_activity.shape)\n",
    "df_user_activity.head()"
   ]
  },
  {
   "cell_type": "code",
   "execution_count": 777,
   "metadata": {},
   "outputs": [
    {
     "name": "stdout",
     "output_type": "stream",
     "text": [
      "Sanity check:  0\n"
     ]
    },
    {
     "data": {
      "text/html": [
       "<div>\n",
       "<style scoped>\n",
       "    .dataframe tbody tr th:only-of-type {\n",
       "        vertical-align: middle;\n",
       "    }\n",
       "\n",
       "    .dataframe tbody tr th {\n",
       "        vertical-align: top;\n",
       "    }\n",
       "\n",
       "    .dataframe thead th {\n",
       "        text-align: right;\n",
       "    }\n",
       "</style>\n",
       "<table border=\"1\" class=\"dataframe\">\n",
       "  <thead>\n",
       "    <tr style=\"text-align: right;\">\n",
       "      <th></th>\n",
       "      <th>userId</th>\n",
       "      <th>itemId</th>\n",
       "      <th>Xmin</th>\n",
       "      <th>Ymin</th>\n",
       "      <th>Xmax</th>\n",
       "      <th>Ymax</th>\n",
       "      <th>Xmin_mm</th>\n",
       "      <th>Ymin_mm</th>\n",
       "      <th>Xmax_mm</th>\n",
       "      <th>Ymax_mm</th>\n",
       "      <th>...</th>\n",
       "      <th>Xmax_mean</th>\n",
       "      <th>Ymax_mean</th>\n",
       "      <th>Xmin_mymean</th>\n",
       "      <th>Ymin_mymean</th>\n",
       "      <th>Xmax_mymean</th>\n",
       "      <th>Ymax_mymean</th>\n",
       "      <th>perimeter</th>\n",
       "      <th>perimeter_mm</th>\n",
       "      <th>user_mse</th>\n",
       "      <th>user_activity</th>\n",
       "    </tr>\n",
       "  </thead>\n",
       "  <tbody>\n",
       "    <tr>\n",
       "      <th>0</th>\n",
       "      <td>1164</td>\n",
       "      <td>6132</td>\n",
       "      <td>62</td>\n",
       "      <td>656</td>\n",
       "      <td>276</td>\n",
       "      <td>803</td>\n",
       "      <td>39</td>\n",
       "      <td>637</td>\n",
       "      <td>276</td>\n",
       "      <td>831</td>\n",
       "      <td>...</td>\n",
       "      <td>254.5</td>\n",
       "      <td>808.0</td>\n",
       "      <td>74</td>\n",
       "      <td>651</td>\n",
       "      <td>248</td>\n",
       "      <td>821</td>\n",
       "      <td>722</td>\n",
       "      <td>862</td>\n",
       "      <td>20532.916667</td>\n",
       "      <td>3</td>\n",
       "    </tr>\n",
       "    <tr>\n",
       "      <th>1</th>\n",
       "      <td>1399</td>\n",
       "      <td>6132</td>\n",
       "      <td>184</td>\n",
       "      <td>662</td>\n",
       "      <td>235</td>\n",
       "      <td>740</td>\n",
       "      <td>39</td>\n",
       "      <td>637</td>\n",
       "      <td>276</td>\n",
       "      <td>831</td>\n",
       "      <td>...</td>\n",
       "      <td>254.5</td>\n",
       "      <td>808.0</td>\n",
       "      <td>74</td>\n",
       "      <td>651</td>\n",
       "      <td>248</td>\n",
       "      <td>821</td>\n",
       "      <td>258</td>\n",
       "      <td>862</td>\n",
       "      <td>5515.333333</td>\n",
       "      <td>7</td>\n",
       "    </tr>\n",
       "    <tr>\n",
       "      <th>2</th>\n",
       "      <td>1694</td>\n",
       "      <td>6132</td>\n",
       "      <td>63</td>\n",
       "      <td>648</td>\n",
       "      <td>272</td>\n",
       "      <td>830</td>\n",
       "      <td>39</td>\n",
       "      <td>637</td>\n",
       "      <td>276</td>\n",
       "      <td>831</td>\n",
       "      <td>...</td>\n",
       "      <td>254.5</td>\n",
       "      <td>808.0</td>\n",
       "      <td>74</td>\n",
       "      <td>651</td>\n",
       "      <td>248</td>\n",
       "      <td>821</td>\n",
       "      <td>782</td>\n",
       "      <td>862</td>\n",
       "      <td>3210.875000</td>\n",
       "      <td>13</td>\n",
       "    </tr>\n",
       "    <tr>\n",
       "      <th>3</th>\n",
       "      <td>916</td>\n",
       "      <td>6132</td>\n",
       "      <td>111</td>\n",
       "      <td>637</td>\n",
       "      <td>253</td>\n",
       "      <td>831</td>\n",
       "      <td>39</td>\n",
       "      <td>637</td>\n",
       "      <td>276</td>\n",
       "      <td>831</td>\n",
       "      <td>...</td>\n",
       "      <td>254.5</td>\n",
       "      <td>808.0</td>\n",
       "      <td>74</td>\n",
       "      <td>651</td>\n",
       "      <td>248</td>\n",
       "      <td>821</td>\n",
       "      <td>672</td>\n",
       "      <td>862</td>\n",
       "      <td>9491.250000</td>\n",
       "      <td>10</td>\n",
       "    </tr>\n",
       "    <tr>\n",
       "      <th>4</th>\n",
       "      <td>1621</td>\n",
       "      <td>6132</td>\n",
       "      <td>60</td>\n",
       "      <td>651</td>\n",
       "      <td>242</td>\n",
       "      <td>819</td>\n",
       "      <td>39</td>\n",
       "      <td>637</td>\n",
       "      <td>276</td>\n",
       "      <td>831</td>\n",
       "      <td>...</td>\n",
       "      <td>254.5</td>\n",
       "      <td>808.0</td>\n",
       "      <td>74</td>\n",
       "      <td>651</td>\n",
       "      <td>248</td>\n",
       "      <td>821</td>\n",
       "      <td>700</td>\n",
       "      <td>862</td>\n",
       "      <td>21763.150000</td>\n",
       "      <td>8</td>\n",
       "    </tr>\n",
       "  </tbody>\n",
       "</table>\n",
       "<p>5 rows × 22 columns</p>\n",
       "</div>"
      ],
      "text/plain": [
       "   userId  itemId  Xmin  Ymin  Xmax  Ymax  Xmin_mm  Ymin_mm  Xmax_mm  Ymax_mm  \\\n",
       "0    1164    6132    62   656   276   803       39      637      276      831   \n",
       "1    1399    6132   184   662   235   740       39      637      276      831   \n",
       "2    1694    6132    63   648   272   830       39      637      276      831   \n",
       "3     916    6132   111   637   253   831       39      637      276      831   \n",
       "4    1621    6132    60   651   242   819       39      637      276      831   \n",
       "\n",
       "       ...        Xmax_mean  Ymax_mean  Xmin_mymean  Ymin_mymean  Xmax_mymean  \\\n",
       "0      ...            254.5      808.0           74          651          248   \n",
       "1      ...            254.5      808.0           74          651          248   \n",
       "2      ...            254.5      808.0           74          651          248   \n",
       "3      ...            254.5      808.0           74          651          248   \n",
       "4      ...            254.5      808.0           74          651          248   \n",
       "\n",
       "   Ymax_mymean  perimeter  perimeter_mm      user_mse  user_activity  \n",
       "0          821        722           862  20532.916667              3  \n",
       "1          821        258           862   5515.333333              7  \n",
       "2          821        782           862   3210.875000             13  \n",
       "3          821        672           862   9491.250000             10  \n",
       "4          821        700           862  21763.150000              8  \n",
       "\n",
       "[5 rows x 22 columns]"
      ]
     },
     "execution_count": 777,
     "metadata": {},
     "output_type": "execute_result"
    }
   ],
   "source": [
    "full_features = pd.merge(full_features, df_user_activity, how='left', left_on= 'userId', right_index=True, sort=False)\n",
    "#Sanity check\n",
    "print(\"Sanity check: \", sum(full_features.index - full.index))\n",
    "full_features.head()"
   ]
  },
  {
   "cell_type": "code",
   "execution_count": 778,
   "metadata": {},
   "outputs": [
    {
     "data": {
      "text/plain": [
       "(8952, 22)"
      ]
     },
     "execution_count": 778,
     "metadata": {},
     "output_type": "execute_result"
    }
   ],
   "source": [
    "full_features.shape"
   ]
  },
  {
   "cell_type": "markdown",
   "metadata": {},
   "source": [
    "**--статистика айтемов--**"
   ]
  },
  {
   "cell_type": "markdown",
   "metadata": {},
   "source": [
    "**количество оценок по данному айтему**"
   ]
  },
  {
   "cell_type": "code",
   "execution_count": 779,
   "metadata": {},
   "outputs": [
    {
     "name": "stdout",
     "output_type": "stream",
     "text": [
      "(1573, 1)\n"
     ]
    },
    {
     "data": {
      "text/html": [
       "<div>\n",
       "<style scoped>\n",
       "    .dataframe tbody tr th:only-of-type {\n",
       "        vertical-align: middle;\n",
       "    }\n",
       "\n",
       "    .dataframe tbody tr th {\n",
       "        vertical-align: top;\n",
       "    }\n",
       "\n",
       "    .dataframe thead th {\n",
       "        text-align: right;\n",
       "    }\n",
       "</style>\n",
       "<table border=\"1\" class=\"dataframe\">\n",
       "  <thead>\n",
       "    <tr style=\"text-align: right;\">\n",
       "      <th></th>\n",
       "      <th>item_checks</th>\n",
       "    </tr>\n",
       "    <tr>\n",
       "      <th>itemId</th>\n",
       "      <th></th>\n",
       "    </tr>\n",
       "  </thead>\n",
       "  <tbody>\n",
       "    <tr>\n",
       "      <th>5</th>\n",
       "      <td>3</td>\n",
       "    </tr>\n",
       "    <tr>\n",
       "      <th>10</th>\n",
       "      <td>3</td>\n",
       "    </tr>\n",
       "    <tr>\n",
       "      <th>13</th>\n",
       "      <td>3</td>\n",
       "    </tr>\n",
       "    <tr>\n",
       "      <th>18</th>\n",
       "      <td>2</td>\n",
       "    </tr>\n",
       "    <tr>\n",
       "      <th>19</th>\n",
       "      <td>3</td>\n",
       "    </tr>\n",
       "  </tbody>\n",
       "</table>\n",
       "</div>"
      ],
      "text/plain": [
       "        item_checks\n",
       "itemId             \n",
       "5                 3\n",
       "10                3\n",
       "13                3\n",
       "18                2\n",
       "19                3"
      ]
     },
     "execution_count": 779,
     "metadata": {},
     "output_type": "execute_result"
    }
   ],
   "source": [
    "df_item_checks = full.groupby(\"itemId\").count().userId.to_frame()\n",
    "df_item_checks.columns = [\"item_checks\"]\n",
    "print(df_item_checks.shape)\n",
    "df_item_checks.head()"
   ]
  },
  {
   "cell_type": "markdown",
   "metadata": {},
   "source": [
    "Sanity check"
   ]
  },
  {
   "cell_type": "code",
   "execution_count": 780,
   "metadata": {},
   "outputs": [
    {
     "data": {
      "text/plain": [
       "1573"
      ]
     },
     "execution_count": 780,
     "metadata": {},
     "output_type": "execute_result"
    }
   ],
   "source": [
    "630+358+585"
   ]
  },
  {
   "cell_type": "code",
   "execution_count": 781,
   "metadata": {},
   "outputs": [
    {
     "name": "stdout",
     "output_type": "stream",
     "text": [
      "Sanity check:  0\n"
     ]
    },
    {
     "data": {
      "text/html": [
       "<div>\n",
       "<style scoped>\n",
       "    .dataframe tbody tr th:only-of-type {\n",
       "        vertical-align: middle;\n",
       "    }\n",
       "\n",
       "    .dataframe tbody tr th {\n",
       "        vertical-align: top;\n",
       "    }\n",
       "\n",
       "    .dataframe thead th {\n",
       "        text-align: right;\n",
       "    }\n",
       "</style>\n",
       "<table border=\"1\" class=\"dataframe\">\n",
       "  <thead>\n",
       "    <tr style=\"text-align: right;\">\n",
       "      <th></th>\n",
       "      <th>userId</th>\n",
       "      <th>itemId</th>\n",
       "      <th>Xmin</th>\n",
       "      <th>Ymin</th>\n",
       "      <th>Xmax</th>\n",
       "      <th>Ymax</th>\n",
       "      <th>Xmin_mm</th>\n",
       "      <th>Ymin_mm</th>\n",
       "      <th>Xmax_mm</th>\n",
       "      <th>Ymax_mm</th>\n",
       "      <th>...</th>\n",
       "      <th>Ymax_mean</th>\n",
       "      <th>Xmin_mymean</th>\n",
       "      <th>Ymin_mymean</th>\n",
       "      <th>Xmax_mymean</th>\n",
       "      <th>Ymax_mymean</th>\n",
       "      <th>perimeter</th>\n",
       "      <th>perimeter_mm</th>\n",
       "      <th>user_mse</th>\n",
       "      <th>user_activity</th>\n",
       "      <th>item_checks</th>\n",
       "    </tr>\n",
       "  </thead>\n",
       "  <tbody>\n",
       "    <tr>\n",
       "      <th>0</th>\n",
       "      <td>1164</td>\n",
       "      <td>6132</td>\n",
       "      <td>62</td>\n",
       "      <td>656</td>\n",
       "      <td>276</td>\n",
       "      <td>803</td>\n",
       "      <td>39</td>\n",
       "      <td>637</td>\n",
       "      <td>276</td>\n",
       "      <td>831</td>\n",
       "      <td>...</td>\n",
       "      <td>808.0</td>\n",
       "      <td>74</td>\n",
       "      <td>651</td>\n",
       "      <td>248</td>\n",
       "      <td>821</td>\n",
       "      <td>722</td>\n",
       "      <td>862</td>\n",
       "      <td>20532.916667</td>\n",
       "      <td>3</td>\n",
       "      <td>6</td>\n",
       "    </tr>\n",
       "    <tr>\n",
       "      <th>1</th>\n",
       "      <td>1399</td>\n",
       "      <td>6132</td>\n",
       "      <td>184</td>\n",
       "      <td>662</td>\n",
       "      <td>235</td>\n",
       "      <td>740</td>\n",
       "      <td>39</td>\n",
       "      <td>637</td>\n",
       "      <td>276</td>\n",
       "      <td>831</td>\n",
       "      <td>...</td>\n",
       "      <td>808.0</td>\n",
       "      <td>74</td>\n",
       "      <td>651</td>\n",
       "      <td>248</td>\n",
       "      <td>821</td>\n",
       "      <td>258</td>\n",
       "      <td>862</td>\n",
       "      <td>5515.333333</td>\n",
       "      <td>7</td>\n",
       "      <td>6</td>\n",
       "    </tr>\n",
       "    <tr>\n",
       "      <th>2</th>\n",
       "      <td>1694</td>\n",
       "      <td>6132</td>\n",
       "      <td>63</td>\n",
       "      <td>648</td>\n",
       "      <td>272</td>\n",
       "      <td>830</td>\n",
       "      <td>39</td>\n",
       "      <td>637</td>\n",
       "      <td>276</td>\n",
       "      <td>831</td>\n",
       "      <td>...</td>\n",
       "      <td>808.0</td>\n",
       "      <td>74</td>\n",
       "      <td>651</td>\n",
       "      <td>248</td>\n",
       "      <td>821</td>\n",
       "      <td>782</td>\n",
       "      <td>862</td>\n",
       "      <td>3210.875000</td>\n",
       "      <td>13</td>\n",
       "      <td>6</td>\n",
       "    </tr>\n",
       "    <tr>\n",
       "      <th>3</th>\n",
       "      <td>916</td>\n",
       "      <td>6132</td>\n",
       "      <td>111</td>\n",
       "      <td>637</td>\n",
       "      <td>253</td>\n",
       "      <td>831</td>\n",
       "      <td>39</td>\n",
       "      <td>637</td>\n",
       "      <td>276</td>\n",
       "      <td>831</td>\n",
       "      <td>...</td>\n",
       "      <td>808.0</td>\n",
       "      <td>74</td>\n",
       "      <td>651</td>\n",
       "      <td>248</td>\n",
       "      <td>821</td>\n",
       "      <td>672</td>\n",
       "      <td>862</td>\n",
       "      <td>9491.250000</td>\n",
       "      <td>10</td>\n",
       "      <td>6</td>\n",
       "    </tr>\n",
       "    <tr>\n",
       "      <th>4</th>\n",
       "      <td>1621</td>\n",
       "      <td>6132</td>\n",
       "      <td>60</td>\n",
       "      <td>651</td>\n",
       "      <td>242</td>\n",
       "      <td>819</td>\n",
       "      <td>39</td>\n",
       "      <td>637</td>\n",
       "      <td>276</td>\n",
       "      <td>831</td>\n",
       "      <td>...</td>\n",
       "      <td>808.0</td>\n",
       "      <td>74</td>\n",
       "      <td>651</td>\n",
       "      <td>248</td>\n",
       "      <td>821</td>\n",
       "      <td>700</td>\n",
       "      <td>862</td>\n",
       "      <td>21763.150000</td>\n",
       "      <td>8</td>\n",
       "      <td>6</td>\n",
       "    </tr>\n",
       "  </tbody>\n",
       "</table>\n",
       "<p>5 rows × 23 columns</p>\n",
       "</div>"
      ],
      "text/plain": [
       "   userId  itemId  Xmin  Ymin  Xmax  Ymax  Xmin_mm  Ymin_mm  Xmax_mm  Ymax_mm  \\\n",
       "0    1164    6132    62   656   276   803       39      637      276      831   \n",
       "1    1399    6132   184   662   235   740       39      637      276      831   \n",
       "2    1694    6132    63   648   272   830       39      637      276      831   \n",
       "3     916    6132   111   637   253   831       39      637      276      831   \n",
       "4    1621    6132    60   651   242   819       39      637      276      831   \n",
       "\n",
       "      ...       Ymax_mean  Xmin_mymean  Ymin_mymean  Xmax_mymean  Ymax_mymean  \\\n",
       "0     ...           808.0           74          651          248          821   \n",
       "1     ...           808.0           74          651          248          821   \n",
       "2     ...           808.0           74          651          248          821   \n",
       "3     ...           808.0           74          651          248          821   \n",
       "4     ...           808.0           74          651          248          821   \n",
       "\n",
       "   perimeter  perimeter_mm      user_mse  user_activity  item_checks  \n",
       "0        722           862  20532.916667              3            6  \n",
       "1        258           862   5515.333333              7            6  \n",
       "2        782           862   3210.875000             13            6  \n",
       "3        672           862   9491.250000             10            6  \n",
       "4        700           862  21763.150000              8            6  \n",
       "\n",
       "[5 rows x 23 columns]"
      ]
     },
     "execution_count": 781,
     "metadata": {},
     "output_type": "execute_result"
    }
   ],
   "source": [
    "full_features = pd.merge(full_features, df_item_checks, how='left', left_on='itemId', right_index=True, sort=False)\n",
    "#Sanity check\n",
    "print(\"Sanity check: \", sum(full_features.index - full.index))\n",
    "full_features.head()"
   ]
  },
  {
   "cell_type": "code",
   "execution_count": null,
   "metadata": {},
   "outputs": [],
   "source": []
  },
  {
   "cell_type": "markdown",
   "metadata": {},
   "source": [
    "**объединенный датасет full_featutes и индекс разделения idx_split готовы. Время строить модели**"
   ]
  },
  {
   "cell_type": "markdown",
   "metadata": {},
   "source": [
    "дропнем userId. Так как фичи извлечены (активность и ошибки), можно попробовать без него. Запишем в датасет full1"
   ]
  },
  {
   "cell_type": "code",
   "execution_count": 782,
   "metadata": {},
   "outputs": [],
   "source": [
    "full1 = full_features.drop(\"userId\", axis=1)"
   ]
  },
  {
   "cell_type": "markdown",
   "metadata": {},
   "source": [
    "ответы содержит train_answers"
   ]
  },
  {
   "cell_type": "code",
   "execution_count": 783,
   "metadata": {},
   "outputs": [
    {
     "data": {
      "text/plain": [
       "Index(['itemId', 'Xmin_true', 'Ymin_true', 'Xmax_true', 'Ymax_true'], dtype='object')"
      ]
     },
     "execution_count": 783,
     "metadata": {},
     "output_type": "execute_result"
    }
   ],
   "source": [
    "train_answers.columns"
   ]
  },
  {
   "cell_type": "code",
   "execution_count": 784,
   "metadata": {},
   "outputs": [],
   "source": [
    "# запомним отдельно для последующей итерации по ним\n",
    "\n",
    "answers_columns = ['Xmin_true', 'Ymin_true', 'Xmax_true', 'Ymax_true']\n",
    "\n",
    "x_train = full_features[:idx_split]\n",
    "x_test = full_features[idx_split:]"
   ]
  },
  {
   "cell_type": "code",
   "execution_count": 785,
   "metadata": {},
   "outputs": [
    {
     "name": "stdout",
     "output_type": "stream",
     "text": [
      "0\n",
      "0\n"
     ]
    }
   ],
   "source": [
    "#Sanity check\n",
    "\n",
    "print(sum(x_train.index - train.index))\n",
    "print(sum(x_test.index - test.index))"
   ]
  },
  {
   "cell_type": "markdown",
   "metadata": {},
   "source": [
    "теперь прикрутим ответы к x_train"
   ]
  },
  {
   "cell_type": "code",
   "execution_count": 786,
   "metadata": {},
   "outputs": [
    {
     "name": "stdout",
     "output_type": "stream",
     "text": [
      "Sanity check:  0\n"
     ]
    },
    {
     "data": {
      "text/html": [
       "<div>\n",
       "<style scoped>\n",
       "    .dataframe tbody tr th:only-of-type {\n",
       "        vertical-align: middle;\n",
       "    }\n",
       "\n",
       "    .dataframe tbody tr th {\n",
       "        vertical-align: top;\n",
       "    }\n",
       "\n",
       "    .dataframe thead th {\n",
       "        text-align: right;\n",
       "    }\n",
       "</style>\n",
       "<table border=\"1\" class=\"dataframe\">\n",
       "  <thead>\n",
       "    <tr style=\"text-align: right;\">\n",
       "      <th></th>\n",
       "      <th>userId</th>\n",
       "      <th>itemId</th>\n",
       "      <th>Xmin</th>\n",
       "      <th>Ymin</th>\n",
       "      <th>Xmax</th>\n",
       "      <th>Ymax</th>\n",
       "      <th>Xmin_mm</th>\n",
       "      <th>Ymin_mm</th>\n",
       "      <th>Xmax_mm</th>\n",
       "      <th>Ymax_mm</th>\n",
       "      <th>...</th>\n",
       "      <th>Ymax_mymean</th>\n",
       "      <th>perimeter</th>\n",
       "      <th>perimeter_mm</th>\n",
       "      <th>user_mse</th>\n",
       "      <th>user_activity</th>\n",
       "      <th>item_checks</th>\n",
       "      <th>Xmin_true</th>\n",
       "      <th>Ymin_true</th>\n",
       "      <th>Xmax_true</th>\n",
       "      <th>Ymax_true</th>\n",
       "    </tr>\n",
       "  </thead>\n",
       "  <tbody>\n",
       "    <tr>\n",
       "      <th>0</th>\n",
       "      <td>1164</td>\n",
       "      <td>6132</td>\n",
       "      <td>62</td>\n",
       "      <td>656</td>\n",
       "      <td>276</td>\n",
       "      <td>803</td>\n",
       "      <td>39</td>\n",
       "      <td>637</td>\n",
       "      <td>276</td>\n",
       "      <td>831</td>\n",
       "      <td>...</td>\n",
       "      <td>821</td>\n",
       "      <td>722</td>\n",
       "      <td>862</td>\n",
       "      <td>20532.916667</td>\n",
       "      <td>3</td>\n",
       "      <td>6</td>\n",
       "      <td>47</td>\n",
       "      <td>650</td>\n",
       "      <td>213</td>\n",
       "      <td>812</td>\n",
       "    </tr>\n",
       "    <tr>\n",
       "      <th>1</th>\n",
       "      <td>1399</td>\n",
       "      <td>6132</td>\n",
       "      <td>184</td>\n",
       "      <td>662</td>\n",
       "      <td>235</td>\n",
       "      <td>740</td>\n",
       "      <td>39</td>\n",
       "      <td>637</td>\n",
       "      <td>276</td>\n",
       "      <td>831</td>\n",
       "      <td>...</td>\n",
       "      <td>821</td>\n",
       "      <td>258</td>\n",
       "      <td>862</td>\n",
       "      <td>5515.333333</td>\n",
       "      <td>7</td>\n",
       "      <td>6</td>\n",
       "      <td>47</td>\n",
       "      <td>650</td>\n",
       "      <td>213</td>\n",
       "      <td>812</td>\n",
       "    </tr>\n",
       "    <tr>\n",
       "      <th>2</th>\n",
       "      <td>1694</td>\n",
       "      <td>6132</td>\n",
       "      <td>63</td>\n",
       "      <td>648</td>\n",
       "      <td>272</td>\n",
       "      <td>830</td>\n",
       "      <td>39</td>\n",
       "      <td>637</td>\n",
       "      <td>276</td>\n",
       "      <td>831</td>\n",
       "      <td>...</td>\n",
       "      <td>821</td>\n",
       "      <td>782</td>\n",
       "      <td>862</td>\n",
       "      <td>3210.875000</td>\n",
       "      <td>13</td>\n",
       "      <td>6</td>\n",
       "      <td>47</td>\n",
       "      <td>650</td>\n",
       "      <td>213</td>\n",
       "      <td>812</td>\n",
       "    </tr>\n",
       "    <tr>\n",
       "      <th>3</th>\n",
       "      <td>916</td>\n",
       "      <td>6132</td>\n",
       "      <td>111</td>\n",
       "      <td>637</td>\n",
       "      <td>253</td>\n",
       "      <td>831</td>\n",
       "      <td>39</td>\n",
       "      <td>637</td>\n",
       "      <td>276</td>\n",
       "      <td>831</td>\n",
       "      <td>...</td>\n",
       "      <td>821</td>\n",
       "      <td>672</td>\n",
       "      <td>862</td>\n",
       "      <td>9491.250000</td>\n",
       "      <td>10</td>\n",
       "      <td>6</td>\n",
       "      <td>47</td>\n",
       "      <td>650</td>\n",
       "      <td>213</td>\n",
       "      <td>812</td>\n",
       "    </tr>\n",
       "    <tr>\n",
       "      <th>4</th>\n",
       "      <td>1621</td>\n",
       "      <td>6132</td>\n",
       "      <td>60</td>\n",
       "      <td>651</td>\n",
       "      <td>242</td>\n",
       "      <td>819</td>\n",
       "      <td>39</td>\n",
       "      <td>637</td>\n",
       "      <td>276</td>\n",
       "      <td>831</td>\n",
       "      <td>...</td>\n",
       "      <td>821</td>\n",
       "      <td>700</td>\n",
       "      <td>862</td>\n",
       "      <td>21763.150000</td>\n",
       "      <td>8</td>\n",
       "      <td>6</td>\n",
       "      <td>47</td>\n",
       "      <td>650</td>\n",
       "      <td>213</td>\n",
       "      <td>812</td>\n",
       "    </tr>\n",
       "  </tbody>\n",
       "</table>\n",
       "<p>5 rows × 27 columns</p>\n",
       "</div>"
      ],
      "text/plain": [
       "   userId  itemId  Xmin  Ymin  Xmax  Ymax  Xmin_mm  Ymin_mm  Xmax_mm  Ymax_mm  \\\n",
       "0    1164    6132    62   656   276   803       39      637      276      831   \n",
       "1    1399    6132   184   662   235   740       39      637      276      831   \n",
       "2    1694    6132    63   648   272   830       39      637      276      831   \n",
       "3     916    6132   111   637   253   831       39      637      276      831   \n",
       "4    1621    6132    60   651   242   819       39      637      276      831   \n",
       "\n",
       "     ...      Ymax_mymean  perimeter  perimeter_mm      user_mse  \\\n",
       "0    ...              821        722           862  20532.916667   \n",
       "1    ...              821        258           862   5515.333333   \n",
       "2    ...              821        782           862   3210.875000   \n",
       "3    ...              821        672           862   9491.250000   \n",
       "4    ...              821        700           862  21763.150000   \n",
       "\n",
       "   user_activity  item_checks  Xmin_true  Ymin_true  Xmax_true  Ymax_true  \n",
       "0              3            6         47        650        213        812  \n",
       "1              7            6         47        650        213        812  \n",
       "2             13            6         47        650        213        812  \n",
       "3             10            6         47        650        213        812  \n",
       "4              8            6         47        650        213        812  \n",
       "\n",
       "[5 rows x 27 columns]"
      ]
     },
     "execution_count": 786,
     "metadata": {},
     "output_type": "execute_result"
    }
   ],
   "source": [
    "x_train = pd.merge(x_train, train_answers, how='left', on='itemId', sort=False)\n",
    "#Sanity check\n",
    "print(\"Sanity check: \", sum(x_train.index - train.index))\n",
    "x_train.head()"
   ]
  },
  {
   "cell_type": "code",
   "execution_count": null,
   "metadata": {},
   "outputs": [],
   "source": []
  },
  {
   "cell_type": "markdown",
   "metadata": {},
   "source": [
    "проверим как работают предсказания"
   ]
  },
  {
   "cell_type": "code",
   "execution_count": 787,
   "metadata": {},
   "outputs": [],
   "source": [
    "clf = LGBMRegressor()\n",
    "\n",
    "y = x_train[\"Xmin_true\"]\n",
    "x = x_train.drop(answers_columns, axis=1)\n",
    "\n",
    "clf.fit(x, y)\n",
    "\n",
    "predictions = clf.predict(x_test)"
   ]
  },
  {
   "cell_type": "code",
   "execution_count": null,
   "metadata": {},
   "outputs": [],
   "source": []
  },
  {
   "cell_type": "code",
   "execution_count": 788,
   "metadata": {},
   "outputs": [],
   "source": [
    "def my_predict(x_train, x_test, x_label):\n",
    "\n",
    "    clf = LGBMRegressor()\n",
    "\n",
    "    y = x_train[x_label]\n",
    "    x = x_train.drop(answers_columns, axis=1)\n",
    "\n",
    "    clf.fit(x, y)\n",
    "\n",
    "    predictions = clf.predict(x_test)\n",
    "    \n",
    "    return predictions"
   ]
  },
  {
   "cell_type": "code",
   "execution_count": 789,
   "metadata": {},
   "outputs": [
    {
     "name": "stdout",
     "output_type": "stream",
     "text": [
      "Предсказываем:  9\n",
      "Предсказываем:  9\n",
      "Предсказываем:  9\n",
      "Предсказываем:  9\n"
     ]
    }
   ],
   "source": [
    "submission_ff = test.copy()\n",
    "\n",
    "for label in answers_columns:\n",
    "    print (\"Предсказываем: \", i)\n",
    "    \n",
    "    predictions = my_predict(x_train, x_test, label)\n",
    "    submission_ff[label] = predictions \n",
    "    "
   ]
  },
  {
   "cell_type": "code",
   "execution_count": 790,
   "metadata": {},
   "outputs": [],
   "source": [
    "submission_ff.drop([\"Xmin\", \"Ymin\", \"Xmax\", \"Ymax\"], axis=1, inplace=True)\n",
    "submission_ff.columns = ['userId', 'itemId', \"Xmin\", \"Ymin\", \"Xmax\", \"Ymax\"]\n",
    "\n",
    "submission_ff_minmax = submission_ff.groupby('itemId').apply(myminmax)\n",
    "submission_ff_minmax.drop('userId', axis=1, inplace=True)\n",
    "submission_ff_minmax = submission_ff_minmax.astype(int)\n",
    "submission_ff_minmax.to_csv('submission_ff_minmax.csv', index=False, header=False)"
   ]
  },
  {
   "cell_type": "code",
   "execution_count": 791,
   "metadata": {},
   "outputs": [],
   "source": [
    "submission_ff_mean = submission_ff.groupby('itemId').mean()\n",
    "submission_ff_mean.drop('userId', axis=1, inplace=True)\n",
    "submission_ff_mean = submission_ff_mean.astype(int)\n",
    "submission_ff_mean.to_csv('submission_ff_mean.csv', index=True, header=False)"
   ]
  },
  {
   "cell_type": "markdown",
   "metadata": {},
   "source": [
    "- mean: 0.5273316\n",
    "- minmax: П: 0.5281104"
   ]
  },
  {
   "cell_type": "code",
   "execution_count": null,
   "metadata": {},
   "outputs": [],
   "source": []
  },
  {
   "cell_type": "code",
   "execution_count": 792,
   "metadata": {
    "scrolled": true
   },
   "outputs": [
    {
     "data": {
      "text/plain": [
       "(8952, 6)"
      ]
     },
     "execution_count": 792,
     "metadata": {},
     "output_type": "execute_result"
    }
   ],
   "source": [
    "full.shape"
   ]
  },
  {
   "cell_type": "code",
   "execution_count": 793,
   "metadata": {},
   "outputs": [
    {
     "data": {
      "text/plain": [
       "(8952, 23)"
      ]
     },
     "execution_count": 793,
     "metadata": {},
     "output_type": "execute_result"
    }
   ],
   "source": [
    "full_features.shape"
   ]
  },
  {
   "cell_type": "code",
   "execution_count": null,
   "metadata": {},
   "outputs": [],
   "source": []
  },
  {
   "cell_type": "markdown",
   "metadata": {},
   "source": [
    "**Добавим фич - как в среднем ошибался юзер по каждой координате**"
   ]
  },
  {
   "cell_type": "code",
   "execution_count": 794,
   "metadata": {},
   "outputs": [],
   "source": [
    "train_merged[\"Xmin_err\"] = train_merged[\"Xmin_true\"] - train_merged[\"Xmin\"]\n",
    "train_merged[\"Xmax_err\"] = train_merged[\"Xmax_true\"] - train_merged[\"Xmax\"]\n",
    "train_merged[\"Ymin_err\"] = train_merged[\"Ymin_true\"] - train_merged[\"Ymin\"]\n",
    "train_merged[\"Ymax_err\"] = train_merged[\"Ymax_true\"] - train_merged[\"Ymax\"]"
   ]
  },
  {
   "cell_type": "code",
   "execution_count": 795,
   "metadata": {},
   "outputs": [
    {
     "data": {
      "text/html": [
       "<div>\n",
       "<style scoped>\n",
       "    .dataframe tbody tr th:only-of-type {\n",
       "        vertical-align: middle;\n",
       "    }\n",
       "\n",
       "    .dataframe tbody tr th {\n",
       "        vertical-align: top;\n",
       "    }\n",
       "\n",
       "    .dataframe thead th {\n",
       "        text-align: right;\n",
       "    }\n",
       "</style>\n",
       "<table border=\"1\" class=\"dataframe\">\n",
       "  <thead>\n",
       "    <tr style=\"text-align: right;\">\n",
       "      <th></th>\n",
       "      <th>Xmin_err</th>\n",
       "      <th>Xmax_err</th>\n",
       "      <th>Ymin_err</th>\n",
       "      <th>Ymax_err</th>\n",
       "    </tr>\n",
       "    <tr>\n",
       "      <th>userId</th>\n",
       "      <th></th>\n",
       "      <th></th>\n",
       "      <th></th>\n",
       "      <th></th>\n",
       "    </tr>\n",
       "  </thead>\n",
       "  <tbody>\n",
       "    <tr>\n",
       "      <th>0</th>\n",
       "      <td>119.500000</td>\n",
       "      <td>20.000000</td>\n",
       "      <td>12.000000</td>\n",
       "      <td>-23.000000</td>\n",
       "    </tr>\n",
       "    <tr>\n",
       "      <th>2</th>\n",
       "      <td>-37.250000</td>\n",
       "      <td>88.250000</td>\n",
       "      <td>-78.000000</td>\n",
       "      <td>-26.750000</td>\n",
       "    </tr>\n",
       "    <tr>\n",
       "      <th>3</th>\n",
       "      <td>29.285714</td>\n",
       "      <td>9.285714</td>\n",
       "      <td>8.357143</td>\n",
       "      <td>-5.714286</td>\n",
       "    </tr>\n",
       "    <tr>\n",
       "      <th>5</th>\n",
       "      <td>-44.000000</td>\n",
       "      <td>-27.000000</td>\n",
       "      <td>-5.000000</td>\n",
       "      <td>-71.000000</td>\n",
       "    </tr>\n",
       "    <tr>\n",
       "      <th>7</th>\n",
       "      <td>103.000000</td>\n",
       "      <td>66.500000</td>\n",
       "      <td>-5.000000</td>\n",
       "      <td>235.000000</td>\n",
       "    </tr>\n",
       "  </tbody>\n",
       "</table>\n",
       "</div>"
      ],
      "text/plain": [
       "          Xmin_err   Xmax_err   Ymin_err    Ymax_err\n",
       "userId                                              \n",
       "0       119.500000  20.000000  12.000000  -23.000000\n",
       "2       -37.250000  88.250000 -78.000000  -26.750000\n",
       "3        29.285714   9.285714   8.357143   -5.714286\n",
       "5       -44.000000 -27.000000  -5.000000  -71.000000\n",
       "7       103.000000  66.500000  -5.000000  235.000000"
      ]
     },
     "execution_count": 795,
     "metadata": {},
     "output_type": "execute_result"
    }
   ],
   "source": [
    "user_fails_spec = train_merged.groupby('userId').mean()\n",
    "user_fails_spec.drop(['itemId', 'Xmin', 'Ymin', 'Xmax', 'Ymax', 'Xmin_true', 'Ymin_true',\n",
    "       'Xmax_true', 'Ymax_true', 'mse', 'iou'], inplace=True, axis=1)\n",
    "user_fails_spec.head()"
   ]
  },
  {
   "cell_type": "markdown",
   "metadata": {},
   "source": [
    "добавим неучтенных юзеров, присвоив среднее по ошибкам"
   ]
  },
  {
   "cell_type": "code",
   "execution_count": 796,
   "metadata": {},
   "outputs": [],
   "source": [
    "user_fails_spec_unique_users = pd.DataFrame(np.nan,unique_users_test,user_fails_spec.columns)\n",
    "user_fails_spec = pd.concat([user_fails_spec, user_fails_spec_unique_users], axis=0, join=\"outer\")\n",
    "user_fails_spec.fillna(user_fails_spec.mean(axis=0), inplace=True)"
   ]
  },
  {
   "cell_type": "code",
   "execution_count": 798,
   "metadata": {},
   "outputs": [
    {
     "data": {
      "text/plain": [
       "(1548, 4)"
      ]
     },
     "execution_count": 798,
     "metadata": {},
     "output_type": "execute_result"
    }
   ],
   "source": [
    "user_fails_spec.shape"
   ]
  },
  {
   "cell_type": "code",
   "execution_count": 801,
   "metadata": {
    "scrolled": true
   },
   "outputs": [
    {
     "name": "stdout",
     "output_type": "stream",
     "text": [
      "Sanity check:  0\n"
     ]
    },
    {
     "data": {
      "text/html": [
       "<div>\n",
       "<style scoped>\n",
       "    .dataframe tbody tr th:only-of-type {\n",
       "        vertical-align: middle;\n",
       "    }\n",
       "\n",
       "    .dataframe tbody tr th {\n",
       "        vertical-align: top;\n",
       "    }\n",
       "\n",
       "    .dataframe thead th {\n",
       "        text-align: right;\n",
       "    }\n",
       "</style>\n",
       "<table border=\"1\" class=\"dataframe\">\n",
       "  <thead>\n",
       "    <tr style=\"text-align: right;\">\n",
       "      <th></th>\n",
       "      <th>userId</th>\n",
       "      <th>itemId</th>\n",
       "      <th>Xmin</th>\n",
       "      <th>Ymin</th>\n",
       "      <th>Xmax</th>\n",
       "      <th>Ymax</th>\n",
       "      <th>Xmin_mm</th>\n",
       "      <th>Ymin_mm</th>\n",
       "      <th>Xmax_mm</th>\n",
       "      <th>Ymax_mm</th>\n",
       "      <th>...</th>\n",
       "      <th>Ymax_mymean</th>\n",
       "      <th>perimeter</th>\n",
       "      <th>perimeter_mm</th>\n",
       "      <th>user_mse</th>\n",
       "      <th>user_activity</th>\n",
       "      <th>item_checks</th>\n",
       "      <th>Xmin_err</th>\n",
       "      <th>Xmax_err</th>\n",
       "      <th>Ymin_err</th>\n",
       "      <th>Ymax_err</th>\n",
       "    </tr>\n",
       "  </thead>\n",
       "  <tbody>\n",
       "    <tr>\n",
       "      <th>0</th>\n",
       "      <td>1164</td>\n",
       "      <td>6132</td>\n",
       "      <td>62</td>\n",
       "      <td>656</td>\n",
       "      <td>276</td>\n",
       "      <td>803</td>\n",
       "      <td>39</td>\n",
       "      <td>637</td>\n",
       "      <td>276</td>\n",
       "      <td>831</td>\n",
       "      <td>...</td>\n",
       "      <td>821</td>\n",
       "      <td>722</td>\n",
       "      <td>862</td>\n",
       "      <td>20532.916667</td>\n",
       "      <td>3</td>\n",
       "      <td>6</td>\n",
       "      <td>-73.333333</td>\n",
       "      <td>29.666667</td>\n",
       "      <td>-80.000000</td>\n",
       "      <td>148.666667</td>\n",
       "    </tr>\n",
       "    <tr>\n",
       "      <th>1</th>\n",
       "      <td>1399</td>\n",
       "      <td>6132</td>\n",
       "      <td>184</td>\n",
       "      <td>662</td>\n",
       "      <td>235</td>\n",
       "      <td>740</td>\n",
       "      <td>39</td>\n",
       "      <td>637</td>\n",
       "      <td>276</td>\n",
       "      <td>831</td>\n",
       "      <td>...</td>\n",
       "      <td>821</td>\n",
       "      <td>258</td>\n",
       "      <td>862</td>\n",
       "      <td>5515.333333</td>\n",
       "      <td>7</td>\n",
       "      <td>6</td>\n",
       "      <td>-117.333333</td>\n",
       "      <td>-26.666667</td>\n",
       "      <td>-19.666667</td>\n",
       "      <td>27.666667</td>\n",
       "    </tr>\n",
       "    <tr>\n",
       "      <th>2</th>\n",
       "      <td>1694</td>\n",
       "      <td>6132</td>\n",
       "      <td>63</td>\n",
       "      <td>648</td>\n",
       "      <td>272</td>\n",
       "      <td>830</td>\n",
       "      <td>39</td>\n",
       "      <td>637</td>\n",
       "      <td>276</td>\n",
       "      <td>831</td>\n",
       "      <td>...</td>\n",
       "      <td>821</td>\n",
       "      <td>782</td>\n",
       "      <td>862</td>\n",
       "      <td>3210.875000</td>\n",
       "      <td>13</td>\n",
       "      <td>6</td>\n",
       "      <td>-54.333333</td>\n",
       "      <td>-42.166667</td>\n",
       "      <td>6.000000</td>\n",
       "      <td>-28.000000</td>\n",
       "    </tr>\n",
       "    <tr>\n",
       "      <th>3</th>\n",
       "      <td>916</td>\n",
       "      <td>6132</td>\n",
       "      <td>111</td>\n",
       "      <td>637</td>\n",
       "      <td>253</td>\n",
       "      <td>831</td>\n",
       "      <td>39</td>\n",
       "      <td>637</td>\n",
       "      <td>276</td>\n",
       "      <td>831</td>\n",
       "      <td>...</td>\n",
       "      <td>821</td>\n",
       "      <td>672</td>\n",
       "      <td>862</td>\n",
       "      <td>9491.250000</td>\n",
       "      <td>10</td>\n",
       "      <td>6</td>\n",
       "      <td>-66.571429</td>\n",
       "      <td>28.285714</td>\n",
       "      <td>-54.285714</td>\n",
       "      <td>78.714286</td>\n",
       "    </tr>\n",
       "    <tr>\n",
       "      <th>4</th>\n",
       "      <td>1621</td>\n",
       "      <td>6132</td>\n",
       "      <td>60</td>\n",
       "      <td>651</td>\n",
       "      <td>242</td>\n",
       "      <td>819</td>\n",
       "      <td>39</td>\n",
       "      <td>637</td>\n",
       "      <td>276</td>\n",
       "      <td>831</td>\n",
       "      <td>...</td>\n",
       "      <td>821</td>\n",
       "      <td>700</td>\n",
       "      <td>862</td>\n",
       "      <td>21763.150000</td>\n",
       "      <td>8</td>\n",
       "      <td>6</td>\n",
       "      <td>-63.600000</td>\n",
       "      <td>75.600000</td>\n",
       "      <td>-97.800000</td>\n",
       "      <td>136.000000</td>\n",
       "    </tr>\n",
       "  </tbody>\n",
       "</table>\n",
       "<p>5 rows × 27 columns</p>\n",
       "</div>"
      ],
      "text/plain": [
       "   userId  itemId  Xmin  Ymin  Xmax  Ymax  Xmin_mm  Ymin_mm  Xmax_mm  Ymax_mm  \\\n",
       "0    1164    6132    62   656   276   803       39      637      276      831   \n",
       "1    1399    6132   184   662   235   740       39      637      276      831   \n",
       "2    1694    6132    63   648   272   830       39      637      276      831   \n",
       "3     916    6132   111   637   253   831       39      637      276      831   \n",
       "4    1621    6132    60   651   242   819       39      637      276      831   \n",
       "\n",
       "      ...      Ymax_mymean  perimeter  perimeter_mm      user_mse  \\\n",
       "0     ...              821        722           862  20532.916667   \n",
       "1     ...              821        258           862   5515.333333   \n",
       "2     ...              821        782           862   3210.875000   \n",
       "3     ...              821        672           862   9491.250000   \n",
       "4     ...              821        700           862  21763.150000   \n",
       "\n",
       "   user_activity  item_checks    Xmin_err   Xmax_err   Ymin_err    Ymax_err  \n",
       "0              3            6  -73.333333  29.666667 -80.000000  148.666667  \n",
       "1              7            6 -117.333333 -26.666667 -19.666667   27.666667  \n",
       "2             13            6  -54.333333 -42.166667   6.000000  -28.000000  \n",
       "3             10            6  -66.571429  28.285714 -54.285714   78.714286  \n",
       "4              8            6  -63.600000  75.600000 -97.800000  136.000000  \n",
       "\n",
       "[5 rows x 27 columns]"
      ]
     },
     "execution_count": 801,
     "metadata": {},
     "output_type": "execute_result"
    }
   ],
   "source": [
    "full_features = pd.merge(full_features, user_fails_spec, how='left', left_on= 'userId', right_index=True, sort=False)\n",
    "#Sanity check\n",
    "print(\"Sanity check: \", sum(full_features.index - full.index))\n",
    "full_features.head()"
   ]
  },
  {
   "cell_type": "code",
   "execution_count": null,
   "metadata": {},
   "outputs": [],
   "source": []
  },
  {
   "cell_type": "markdown",
   "metadata": {},
   "source": [
    "**и обучим модель еще раз на новых фичах**"
   ]
  },
  {
   "cell_type": "code",
   "execution_count": 803,
   "metadata": {},
   "outputs": [
    {
     "data": {
      "text/plain": [
       "['Xmin_true', 'Ymin_true', 'Xmax_true', 'Ymax_true']"
      ]
     },
     "execution_count": 803,
     "metadata": {},
     "output_type": "execute_result"
    }
   ],
   "source": [
    "answers_columns"
   ]
  },
  {
   "cell_type": "code",
   "execution_count": 805,
   "metadata": {},
   "outputs": [],
   "source": [
    "x_train = full_features[:idx_split]\n",
    "x_test = full_features[idx_split:]"
   ]
  },
  {
   "cell_type": "code",
   "execution_count": 806,
   "metadata": {},
   "outputs": [
    {
     "name": "stdout",
     "output_type": "stream",
     "text": [
      "0\n",
      "0\n"
     ]
    }
   ],
   "source": [
    "#Sanity check\n",
    "\n",
    "print(sum(x_train.index - train.index))\n",
    "print(sum(x_test.index - test.index))"
   ]
  },
  {
   "cell_type": "code",
   "execution_count": 807,
   "metadata": {},
   "outputs": [
    {
     "name": "stdout",
     "output_type": "stream",
     "text": [
      "Sanity check:  0\n"
     ]
    },
    {
     "data": {
      "text/html": [
       "<div>\n",
       "<style scoped>\n",
       "    .dataframe tbody tr th:only-of-type {\n",
       "        vertical-align: middle;\n",
       "    }\n",
       "\n",
       "    .dataframe tbody tr th {\n",
       "        vertical-align: top;\n",
       "    }\n",
       "\n",
       "    .dataframe thead th {\n",
       "        text-align: right;\n",
       "    }\n",
       "</style>\n",
       "<table border=\"1\" class=\"dataframe\">\n",
       "  <thead>\n",
       "    <tr style=\"text-align: right;\">\n",
       "      <th></th>\n",
       "      <th>userId</th>\n",
       "      <th>itemId</th>\n",
       "      <th>Xmin</th>\n",
       "      <th>Ymin</th>\n",
       "      <th>Xmax</th>\n",
       "      <th>Ymax</th>\n",
       "      <th>Xmin_mm</th>\n",
       "      <th>Ymin_mm</th>\n",
       "      <th>Xmax_mm</th>\n",
       "      <th>Ymax_mm</th>\n",
       "      <th>...</th>\n",
       "      <th>user_activity</th>\n",
       "      <th>item_checks</th>\n",
       "      <th>Xmin_err</th>\n",
       "      <th>Xmax_err</th>\n",
       "      <th>Ymin_err</th>\n",
       "      <th>Ymax_err</th>\n",
       "      <th>Xmin_true</th>\n",
       "      <th>Ymin_true</th>\n",
       "      <th>Xmax_true</th>\n",
       "      <th>Ymax_true</th>\n",
       "    </tr>\n",
       "  </thead>\n",
       "  <tbody>\n",
       "    <tr>\n",
       "      <th>0</th>\n",
       "      <td>1164</td>\n",
       "      <td>6132</td>\n",
       "      <td>62</td>\n",
       "      <td>656</td>\n",
       "      <td>276</td>\n",
       "      <td>803</td>\n",
       "      <td>39</td>\n",
       "      <td>637</td>\n",
       "      <td>276</td>\n",
       "      <td>831</td>\n",
       "      <td>...</td>\n",
       "      <td>3</td>\n",
       "      <td>6</td>\n",
       "      <td>-73.333333</td>\n",
       "      <td>29.666667</td>\n",
       "      <td>-80.000000</td>\n",
       "      <td>148.666667</td>\n",
       "      <td>47</td>\n",
       "      <td>650</td>\n",
       "      <td>213</td>\n",
       "      <td>812</td>\n",
       "    </tr>\n",
       "    <tr>\n",
       "      <th>1</th>\n",
       "      <td>1399</td>\n",
       "      <td>6132</td>\n",
       "      <td>184</td>\n",
       "      <td>662</td>\n",
       "      <td>235</td>\n",
       "      <td>740</td>\n",
       "      <td>39</td>\n",
       "      <td>637</td>\n",
       "      <td>276</td>\n",
       "      <td>831</td>\n",
       "      <td>...</td>\n",
       "      <td>7</td>\n",
       "      <td>6</td>\n",
       "      <td>-117.333333</td>\n",
       "      <td>-26.666667</td>\n",
       "      <td>-19.666667</td>\n",
       "      <td>27.666667</td>\n",
       "      <td>47</td>\n",
       "      <td>650</td>\n",
       "      <td>213</td>\n",
       "      <td>812</td>\n",
       "    </tr>\n",
       "    <tr>\n",
       "      <th>2</th>\n",
       "      <td>1694</td>\n",
       "      <td>6132</td>\n",
       "      <td>63</td>\n",
       "      <td>648</td>\n",
       "      <td>272</td>\n",
       "      <td>830</td>\n",
       "      <td>39</td>\n",
       "      <td>637</td>\n",
       "      <td>276</td>\n",
       "      <td>831</td>\n",
       "      <td>...</td>\n",
       "      <td>13</td>\n",
       "      <td>6</td>\n",
       "      <td>-54.333333</td>\n",
       "      <td>-42.166667</td>\n",
       "      <td>6.000000</td>\n",
       "      <td>-28.000000</td>\n",
       "      <td>47</td>\n",
       "      <td>650</td>\n",
       "      <td>213</td>\n",
       "      <td>812</td>\n",
       "    </tr>\n",
       "    <tr>\n",
       "      <th>3</th>\n",
       "      <td>916</td>\n",
       "      <td>6132</td>\n",
       "      <td>111</td>\n",
       "      <td>637</td>\n",
       "      <td>253</td>\n",
       "      <td>831</td>\n",
       "      <td>39</td>\n",
       "      <td>637</td>\n",
       "      <td>276</td>\n",
       "      <td>831</td>\n",
       "      <td>...</td>\n",
       "      <td>10</td>\n",
       "      <td>6</td>\n",
       "      <td>-66.571429</td>\n",
       "      <td>28.285714</td>\n",
       "      <td>-54.285714</td>\n",
       "      <td>78.714286</td>\n",
       "      <td>47</td>\n",
       "      <td>650</td>\n",
       "      <td>213</td>\n",
       "      <td>812</td>\n",
       "    </tr>\n",
       "    <tr>\n",
       "      <th>4</th>\n",
       "      <td>1621</td>\n",
       "      <td>6132</td>\n",
       "      <td>60</td>\n",
       "      <td>651</td>\n",
       "      <td>242</td>\n",
       "      <td>819</td>\n",
       "      <td>39</td>\n",
       "      <td>637</td>\n",
       "      <td>276</td>\n",
       "      <td>831</td>\n",
       "      <td>...</td>\n",
       "      <td>8</td>\n",
       "      <td>6</td>\n",
       "      <td>-63.600000</td>\n",
       "      <td>75.600000</td>\n",
       "      <td>-97.800000</td>\n",
       "      <td>136.000000</td>\n",
       "      <td>47</td>\n",
       "      <td>650</td>\n",
       "      <td>213</td>\n",
       "      <td>812</td>\n",
       "    </tr>\n",
       "  </tbody>\n",
       "</table>\n",
       "<p>5 rows × 31 columns</p>\n",
       "</div>"
      ],
      "text/plain": [
       "   userId  itemId  Xmin  Ymin  Xmax  Ymax  Xmin_mm  Ymin_mm  Xmax_mm  Ymax_mm  \\\n",
       "0    1164    6132    62   656   276   803       39      637      276      831   \n",
       "1    1399    6132   184   662   235   740       39      637      276      831   \n",
       "2    1694    6132    63   648   272   830       39      637      276      831   \n",
       "3     916    6132   111   637   253   831       39      637      276      831   \n",
       "4    1621    6132    60   651   242   819       39      637      276      831   \n",
       "\n",
       "     ...      user_activity  item_checks    Xmin_err   Xmax_err   Ymin_err  \\\n",
       "0    ...                  3            6  -73.333333  29.666667 -80.000000   \n",
       "1    ...                  7            6 -117.333333 -26.666667 -19.666667   \n",
       "2    ...                 13            6  -54.333333 -42.166667   6.000000   \n",
       "3    ...                 10            6  -66.571429  28.285714 -54.285714   \n",
       "4    ...                  8            6  -63.600000  75.600000 -97.800000   \n",
       "\n",
       "     Ymax_err  Xmin_true  Ymin_true  Xmax_true  Ymax_true  \n",
       "0  148.666667         47        650        213        812  \n",
       "1   27.666667         47        650        213        812  \n",
       "2  -28.000000         47        650        213        812  \n",
       "3   78.714286         47        650        213        812  \n",
       "4  136.000000         47        650        213        812  \n",
       "\n",
       "[5 rows x 31 columns]"
      ]
     },
     "execution_count": 807,
     "metadata": {},
     "output_type": "execute_result"
    }
   ],
   "source": [
    "x_train = pd.merge(x_train, train_answers, how='left', on='itemId', sort=False)\n",
    "#Sanity check\n",
    "print(\"Sanity check: \", sum(x_train.index - train.index))\n",
    "x_train.head()"
   ]
  },
  {
   "cell_type": "code",
   "execution_count": null,
   "metadata": {},
   "outputs": [],
   "source": []
  },
  {
   "cell_type": "code",
   "execution_count": 808,
   "metadata": {},
   "outputs": [
    {
     "name": "stdout",
     "output_type": "stream",
     "text": [
      "Предсказываем:  Xmin_true\n",
      "Предсказываем:  Ymin_true\n",
      "Предсказываем:  Xmax_true\n",
      "Предсказываем:  Ymax_true\n"
     ]
    }
   ],
   "source": [
    "submission_ff = test.copy()\n",
    "\n",
    "for label in answers_columns:\n",
    "    print (\"Предсказываем: \", label)\n",
    "    \n",
    "    predictions = my_predict(x_train, x_test, label)\n",
    "    submission_ff[label] = predictions \n",
    "    \n",
    "submission_ff.drop([\"Xmin\", \"Ymin\", \"Xmax\", \"Ymax\"], axis=1, inplace=True)\n",
    "submission_ff.columns = ['userId', 'itemId', \"Xmin\", \"Ymin\", \"Xmax\", \"Ymax\"]\n",
    "\n",
    "submission_ff_minmax = submission_ff.groupby('itemId').apply(myminmax)\n",
    "submission_ff_minmax.drop('userId', axis=1, inplace=True)\n",
    "submission_ff_minmax = submission_ff_minmax.astype(int)\n",
    "submission_ff_minmax.to_csv('submission_ff_errors_minmax.csv', index=False, header=False) "
   ]
  },
  {
   "cell_type": "markdown",
   "metadata": {},
   "source": [
    "**вписать сюда что получилось**"
   ]
  },
  {
   "cell_type": "markdown",
   "metadata": {},
   "source": [
    "**Пишем предиктор с кросс-валидацией**"
   ]
  },
  {
   "cell_type": "code",
   "execution_count": 830,
   "metadata": {},
   "outputs": [],
   "source": [
    "param = {\n",
    "   \"objective\" : \"regression\",\n",
    "    \"metric\" : \"rmse\",\n",
    "    \"boosting\": 'gbdt',\n",
    "    \"max_depth\" : -1,\n",
    "    \"num_leaves\" : 300,\n",
    "    \"learning_rate\" : 0.01,\n",
    "    \"bagging_freq\": 5,\n",
    "    \"bagging_fraction\" : 0.4,\n",
    "    \"feature_fraction\" : 0.05,\n",
    "    \"min_data_in_leaf\": 80,\n",
    "    \"min_sum_heassian_in_leaf\": 10,\n",
    "    \"tree_learner\": \"serial\",\n",
    "    \"boost_from_average\": \"false\",\n",
    "    \"bagging_seed\" : 10,\n",
    "    \"verbosity\" : 500,\n",
    "    \"random_state\" : 1337,\n",
    "}"
   ]
  },
  {
   "cell_type": "code",
   "execution_count": 833,
   "metadata": {},
   "outputs": [],
   "source": [
    "def my_predict(x_train, x_test, x_label):\n",
    "\n",
    "    clf = LGBMRegressor()\n",
    "\n",
    "    y = x_train[x_label]\n",
    "    x = x_train.drop(answers_columns, axis=1)\n",
    "\n",
    "    clf.fit(x, y)\n",
    "\n",
    "    predictions = clf.predict(x_test)\n",
    "    \n",
    "    return predictions\n",
    "\n",
    "\n",
    "def my_predict_regression(train, test, target):\n",
    "\n",
    "    result=np.zeros(test.shape[0])\n",
    "\n",
    "    rskf = RepeatedStratifiedKFold(n_splits=5, n_repeats=2, random_state=1337) #5 / 5\n",
    "    \n",
    "    for counter,(train_index, valid_index) in enumerate(rskf.split(train, train[target]),1):\n",
    "        print (\"current folder: \", counter)\n",
    "\n",
    "        #Train data\n",
    "        t=train.iloc[train_index]\n",
    "        \n",
    "        trn_data = lgb.Dataset(t.drop(target,axis=1), label=t[target])\n",
    "\n",
    "        #Validation data\n",
    "        v=train.iloc[valid_index]\n",
    "        val_data = lgb.Dataset(v.drop(target,axis=1), label=v[target])\n",
    "\n",
    "        #Training\n",
    "        model = lgb.train(param, trn_data, 1000000, valid_sets = [val_data], verbose_eval=2000, early_stopping_rounds = 3) #1000\n",
    "        result += model.predict(test)\n",
    "\n",
    "    return result/counter"
   ]
  },
  {
   "cell_type": "code",
   "execution_count": 817,
   "metadata": {},
   "outputs": [],
   "source": []
  },
  {
   "cell_type": "code",
   "execution_count": 832,
   "metadata": {
    "scrolled": true
   },
   "outputs": [
    {
     "name": "stdout",
     "output_type": "stream",
     "text": [
      "Предсказываем:  Xmin_true\n",
      "current folder:  1\n",
      "Training until validation scores don't improve for 3 rounds.\n"
     ]
    },
    {
     "name": "stderr",
     "output_type": "stream",
     "text": [
      "D:\\python\\Anaconda3\\envs\\kaggle\\lib\\site-packages\\sklearn\\model_selection\\_split.py:652: Warning: The least populated class in y has only 3 members, which is too few. The minimum number of members in any class cannot be less than n_splits=5.\n",
      "  % (min_groups, self.n_splits)), Warning)\n"
     ]
    },
    {
     "name": "stdout",
     "output_type": "stream",
     "text": [
      "Early stopping, best iteration is:\n",
      "[568]\tvalid_0's rmse: 61.7792\n",
      "current folder:  2\n",
      "Training until validation scores don't improve for 3 rounds.\n",
      "Early stopping, best iteration is:\n",
      "[568]\tvalid_0's rmse: 61.2641\n",
      "current folder:  3\n",
      "Training until validation scores don't improve for 3 rounds.\n",
      "Early stopping, best iteration is:\n",
      "[667]\tvalid_0's rmse: 58.9611\n",
      "current folder:  4\n",
      "Training until validation scores don't improve for 3 rounds.\n",
      "Early stopping, best iteration is:\n",
      "[712]\tvalid_0's rmse: 57.8372\n",
      "current folder:  5\n",
      "Training until validation scores don't improve for 3 rounds.\n",
      "Early stopping, best iteration is:\n",
      "[291]\tvalid_0's rmse: 64.0957\n"
     ]
    },
    {
     "name": "stderr",
     "output_type": "stream",
     "text": [
      "D:\\python\\Anaconda3\\envs\\kaggle\\lib\\site-packages\\sklearn\\model_selection\\_split.py:652: Warning: The least populated class in y has only 3 members, which is too few. The minimum number of members in any class cannot be less than n_splits=5.\n",
      "  % (min_groups, self.n_splits)), Warning)\n"
     ]
    },
    {
     "name": "stdout",
     "output_type": "stream",
     "text": [
      "current folder:  6\n",
      "Training until validation scores don't improve for 3 rounds.\n",
      "Early stopping, best iteration is:\n",
      "[607]\tvalid_0's rmse: 62.4183\n",
      "current folder:  7\n",
      "Training until validation scores don't improve for 3 rounds.\n",
      "Early stopping, best iteration is:\n",
      "[439]\tvalid_0's rmse: 62.7664\n",
      "current folder:  8\n",
      "Training until validation scores don't improve for 3 rounds.\n",
      "Early stopping, best iteration is:\n",
      "[607]\tvalid_0's rmse: 59.5179\n",
      "current folder:  9\n",
      "Training until validation scores don't improve for 3 rounds.\n",
      "Early stopping, best iteration is:\n",
      "[538]\tvalid_0's rmse: 60.2756\n",
      "current folder:  10\n",
      "Training until validation scores don't improve for 3 rounds.\n",
      "Early stopping, best iteration is:\n",
      "[568]\tvalid_0's rmse: 59.273\n",
      "current folder:  11\n",
      "Training until validation scores don't improve for 3 rounds."
     ]
    },
    {
     "name": "stderr",
     "output_type": "stream",
     "text": [
      "D:\\python\\Anaconda3\\envs\\kaggle\\lib\\site-packages\\sklearn\\model_selection\\_split.py:652: Warning: The least populated class in y has only 3 members, which is too few. The minimum number of members in any class cannot be less than n_splits=5.\n",
      "  % (min_groups, self.n_splits)), Warning)\n"
     ]
    },
    {
     "name": "stdout",
     "output_type": "stream",
     "text": [
      "\n",
      "Early stopping, best iteration is:\n",
      "[756]\tvalid_0's rmse: 60.9792\n",
      "current folder:  12\n",
      "Training until validation scores don't improve for 3 rounds.\n",
      "Early stopping, best iteration is:\n",
      "[538]\tvalid_0's rmse: 60.8188\n",
      "current folder:  13\n",
      "Training until validation scores don't improve for 3 rounds.\n",
      "Early stopping, best iteration is:\n",
      "[400]\tvalid_0's rmse: 63.4643\n",
      "current folder:  14\n",
      "Training until validation scores don't improve for 3 rounds.\n",
      "Early stopping, best iteration is:\n",
      "[668]\tvalid_0's rmse: 58.2859\n",
      "current folder:  15\n",
      "Training until validation scores don't improve for 3 rounds.\n",
      "Early stopping, best iteration is:\n",
      "[464]\tvalid_0's rmse: 59.9465\n",
      "current folder:  16\n",
      "Training until validation scores don't improve for 3 rounds.\n"
     ]
    },
    {
     "name": "stderr",
     "output_type": "stream",
     "text": [
      "D:\\python\\Anaconda3\\envs\\kaggle\\lib\\site-packages\\sklearn\\model_selection\\_split.py:652: Warning: The least populated class in y has only 3 members, which is too few. The minimum number of members in any class cannot be less than n_splits=5.\n",
      "  % (min_groups, self.n_splits)), Warning)\n"
     ]
    },
    {
     "name": "stdout",
     "output_type": "stream",
     "text": [
      "Early stopping, best iteration is:\n",
      "[538]\tvalid_0's rmse: 62.1391\n",
      "current folder:  17\n",
      "Training until validation scores don't improve for 3 rounds.\n",
      "Early stopping, best iteration is:\n",
      "[538]\tvalid_0's rmse: 61.4097\n",
      "current folder:  18\n",
      "Training until validation scores don't improve for 3 rounds.\n",
      "Early stopping, best iteration is:\n",
      "[790]\tvalid_0's rmse: 57.9572\n",
      "current folder:  19\n",
      "Training until validation scores don't improve for 3 rounds.\n",
      "Early stopping, best iteration is:\n",
      "[560]\tvalid_0's rmse: 60.9915\n",
      "current folder:  20\n",
      "Training until validation scores don't improve for 3 rounds.\n",
      "Early stopping, best iteration is:\n",
      "[439]\tvalid_0's rmse: 61.6274\n",
      "current folder:  21\n",
      "Training until validation scores don't improve for 3 rounds.\n"
     ]
    },
    {
     "name": "stderr",
     "output_type": "stream",
     "text": [
      "D:\\python\\Anaconda3\\envs\\kaggle\\lib\\site-packages\\sklearn\\model_selection\\_split.py:652: Warning: The least populated class in y has only 3 members, which is too few. The minimum number of members in any class cannot be less than n_splits=5.\n",
      "  % (min_groups, self.n_splits)), Warning)\n"
     ]
    },
    {
     "name": "stdout",
     "output_type": "stream",
     "text": [
      "Early stopping, best iteration is:\n",
      "[667]\tvalid_0's rmse: 62.363\n",
      "current folder:  22\n",
      "Training until validation scores don't improve for 3 rounds.\n",
      "Early stopping, best iteration is:\n",
      "[538]\tvalid_0's rmse: 60.0676\n",
      "current folder:  23\n",
      "Training until validation scores don't improve for 3 rounds.\n",
      "Early stopping, best iteration is:\n",
      "[400]\tvalid_0's rmse: 62.8697\n",
      "current folder:  24\n",
      "Training until validation scores don't improve for 3 rounds.\n",
      "Early stopping, best iteration is:\n",
      "[538]\tvalid_0's rmse: 60.9766\n",
      "current folder:  25\n",
      "Training until validation scores don't improve for 3 rounds.\n",
      "Early stopping, best iteration is:\n",
      "[511]\tvalid_0's rmse: 59.4486\n",
      "Предсказываем:  Ymin_true\n"
     ]
    },
    {
     "name": "stderr",
     "output_type": "stream",
     "text": [
      "D:\\python\\Anaconda3\\envs\\kaggle\\lib\\site-packages\\sklearn\\model_selection\\_split.py:652: Warning: The least populated class in y has only 3 members, which is too few. The minimum number of members in any class cannot be less than n_splits=5.\n",
      "  % (min_groups, self.n_splits)), Warning)\n"
     ]
    },
    {
     "name": "stdout",
     "output_type": "stream",
     "text": [
      "current folder:  1\n",
      "Training until validation scores don't improve for 3 rounds.\n",
      "Early stopping, best iteration is:\n",
      "[506]\tvalid_0's rmse: 89.9663\n",
      "current folder:  2\n",
      "Training until validation scores don't improve for 3 rounds.\n",
      "Early stopping, best iteration is:\n",
      "[567]\tvalid_0's rmse: 79.8424\n",
      "current folder:  3\n",
      "Training until validation scores don't improve for 3 rounds.\n",
      "Early stopping, best iteration is:\n",
      "[600]\tvalid_0's rmse: 82.907\n",
      "current folder:  4\n",
      "Training until validation scores don't improve for 3 rounds.\n",
      "Early stopping, best iteration is:\n",
      "[537]\tvalid_0's rmse: 84.1767\n",
      "current folder:  5\n",
      "Training until validation scores don't improve for 3 rounds.\n",
      "Early stopping, best iteration is:\n",
      "[506]\tvalid_0's rmse: 88.5968\n"
     ]
    },
    {
     "name": "stderr",
     "output_type": "stream",
     "text": [
      "D:\\python\\Anaconda3\\envs\\kaggle\\lib\\site-packages\\sklearn\\model_selection\\_split.py:652: Warning: The least populated class in y has only 3 members, which is too few. The minimum number of members in any class cannot be less than n_splits=5.\n",
      "  % (min_groups, self.n_splits)), Warning)\n"
     ]
    },
    {
     "name": "stdout",
     "output_type": "stream",
     "text": [
      "current folder:  6\n",
      "Training until validation scores don't improve for 3 rounds.\n",
      "Early stopping, best iteration is:\n",
      "[567]\tvalid_0's rmse: 83.3474\n",
      "current folder:  7\n",
      "Training until validation scores don't improve for 3 rounds.\n",
      "Early stopping, best iteration is:\n",
      "[506]\tvalid_0's rmse: 87.699\n",
      "current folder:  8\n",
      "Training until validation scores don't improve for 3 rounds.\n",
      "Early stopping, best iteration is:\n",
      "[567]\tvalid_0's rmse: 85.0591\n",
      "current folder:  9\n",
      "Training until validation scores don't improve for 3 rounds.\n",
      "Early stopping, best iteration is:\n",
      "[601]\tvalid_0's rmse: 79.6268\n",
      "current folder:  10\n",
      "Training until validation scores don't improve for 3 rounds.\n",
      "Early stopping, best iteration is:\n",
      "[496]\tvalid_0's rmse: 87.1854\n"
     ]
    },
    {
     "name": "stderr",
     "output_type": "stream",
     "text": [
      "D:\\python\\Anaconda3\\envs\\kaggle\\lib\\site-packages\\sklearn\\model_selection\\_split.py:652: Warning: The least populated class in y has only 3 members, which is too few. The minimum number of members in any class cannot be less than n_splits=5.\n",
      "  % (min_groups, self.n_splits)), Warning)\n"
     ]
    },
    {
     "name": "stdout",
     "output_type": "stream",
     "text": [
      "current folder:  11\n",
      "Training until validation scores don't improve for 3 rounds.\n",
      "Early stopping, best iteration is:\n",
      "[567]\tvalid_0's rmse: 81.3965\n",
      "current folder:  12\n",
      "Training until validation scores don't improve for 3 rounds.\n",
      "Early stopping, best iteration is:\n",
      "[567]\tvalid_0's rmse: 82.6711\n",
      "current folder:  13\n",
      "Training until validation scores don't improve for 3 rounds.\n",
      "Early stopping, best iteration is:\n",
      "[506]\tvalid_0's rmse: 87.4649\n",
      "current folder:  14\n",
      "Training until validation scores don't improve for 3 rounds.\n",
      "Early stopping, best iteration is:\n",
      "[601]\tvalid_0's rmse: 80.9607\n",
      "current folder:  15\n",
      "Training until validation scores don't improve for 3 rounds.\n",
      "Early stopping, best iteration is:\n",
      "[506]\tvalid_0's rmse: 88.2165\n"
     ]
    },
    {
     "name": "stderr",
     "output_type": "stream",
     "text": [
      "D:\\python\\Anaconda3\\envs\\kaggle\\lib\\site-packages\\sklearn\\model_selection\\_split.py:652: Warning: The least populated class in y has only 3 members, which is too few. The minimum number of members in any class cannot be less than n_splits=5.\n",
      "  % (min_groups, self.n_splits)), Warning)\n"
     ]
    },
    {
     "name": "stdout",
     "output_type": "stream",
     "text": [
      "current folder:  16\n",
      "Training until validation scores don't improve for 3 rounds.\n",
      "Early stopping, best iteration is:\n",
      "[744]\tvalid_0's rmse: 68.6559\n",
      "current folder:  17\n",
      "Training until validation scores don't improve for 3 rounds.\n",
      "Early stopping, best iteration is:\n",
      "[673]\tvalid_0's rmse: 74.7817\n",
      "current folder:  18\n",
      "Training until validation scores don't improve for 3 rounds.\n",
      "Early stopping, best iteration is:\n",
      "[673]\tvalid_0's rmse: 73.3876\n",
      "current folder:  19\n",
      "Training until validation scores don't improve for 3 rounds.\n",
      "Early stopping, best iteration is:\n",
      "[600]\tvalid_0's rmse: 81.4128\n",
      "current folder:  20\n",
      "Training until validation scores don't improve for 3 rounds.\n",
      "Early stopping, best iteration is:\n",
      "[600]\tvalid_0's rmse: 77.6331\n"
     ]
    },
    {
     "name": "stderr",
     "output_type": "stream",
     "text": [
      "D:\\python\\Anaconda3\\envs\\kaggle\\lib\\site-packages\\sklearn\\model_selection\\_split.py:652: Warning: The least populated class in y has only 3 members, which is too few. The minimum number of members in any class cannot be less than n_splits=5.\n",
      "  % (min_groups, self.n_splits)), Warning)\n"
     ]
    },
    {
     "name": "stdout",
     "output_type": "stream",
     "text": [
      "current folder:  21\n",
      "Training until validation scores don't improve for 3 rounds.\n",
      "Early stopping, best iteration is:\n",
      "[600]\tvalid_0's rmse: 82.1302\n",
      "current folder:  22\n",
      "Training until validation scores don't improve for 3 rounds.\n",
      "Early stopping, best iteration is:\n",
      "[567]\tvalid_0's rmse: 83.1793\n",
      "current folder:  23\n",
      "Training until validation scores don't improve for 3 rounds.\n",
      "Early stopping, best iteration is:\n",
      "[506]\tvalid_0's rmse: 90.1698\n",
      "current folder:  24\n",
      "Training until validation scores don't improve for 3 rounds.\n",
      "Early stopping, best iteration is:\n",
      "[567]\tvalid_0's rmse: 80.2809\n",
      "current folder:  25\n",
      "Training until validation scores don't improve for 3 rounds.\n",
      "Early stopping, best iteration is:\n",
      "[600]\tvalid_0's rmse: 77.8805\n",
      "Предсказываем:  Xmax_true\n"
     ]
    },
    {
     "name": "stderr",
     "output_type": "stream",
     "text": [
      "D:\\python\\Anaconda3\\envs\\kaggle\\lib\\site-packages\\sklearn\\model_selection\\_split.py:652: Warning: The least populated class in y has only 3 members, which is too few. The minimum number of members in any class cannot be less than n_splits=5.\n",
      "  % (min_groups, self.n_splits)), Warning)\n"
     ]
    },
    {
     "name": "stdout",
     "output_type": "stream",
     "text": [
      "current folder:  1\n",
      "Training until validation scores don't improve for 3 rounds.\n",
      "Early stopping, best iteration is:\n",
      "[537]\tvalid_0's rmse: 97.4435\n",
      "current folder:  2\n",
      "Training until validation scores don't improve for 3 rounds.\n",
      "Early stopping, best iteration is:\n",
      "[537]\tvalid_0's rmse: 96.0524\n",
      "current folder:  3\n",
      "Training until validation scores don't improve for 3 rounds.\n",
      "Early stopping, best iteration is:\n",
      "[537]\tvalid_0's rmse: 96.6874\n",
      "current folder:  4\n",
      "Training until validation scores don't improve for 3 rounds.\n",
      "Early stopping, best iteration is:\n",
      "[609]\tvalid_0's rmse: 93.0364\n",
      "current folder:  5\n",
      "Training until validation scores don't improve for 3 rounds.\n",
      "Early stopping, best iteration is:\n",
      "[825]\tvalid_0's rmse: 83.1212\n"
     ]
    },
    {
     "name": "stderr",
     "output_type": "stream",
     "text": [
      "D:\\python\\Anaconda3\\envs\\kaggle\\lib\\site-packages\\sklearn\\model_selection\\_split.py:652: Warning: The least populated class in y has only 3 members, which is too few. The minimum number of members in any class cannot be less than n_splits=5.\n",
      "  % (min_groups, self.n_splits)), Warning)\n"
     ]
    },
    {
     "name": "stdout",
     "output_type": "stream",
     "text": [
      "current folder:  6\n",
      "Training until validation scores don't improve for 3 rounds.\n",
      "Early stopping, best iteration is:\n",
      "[600]\tvalid_0's rmse: 95.5614\n",
      "current folder:  7\n",
      "Training until validation scores don't improve for 3 rounds.\n",
      "Early stopping, best iteration is:\n",
      "[600]\tvalid_0's rmse: 93.2681\n",
      "current folder:  8\n",
      "Training until validation scores don't improve for 3 rounds.\n",
      "Early stopping, best iteration is:\n",
      "[538]\tvalid_0's rmse: 96.0405\n",
      "current folder:  9\n",
      "Training until validation scores don't improve for 3 rounds.\n",
      "Early stopping, best iteration is:\n",
      "[537]\tvalid_0's rmse: 95.9032\n",
      "current folder:  10\n",
      "Training until validation scores don't improve for 3 rounds.\n",
      "Early stopping, best iteration is:\n",
      "[673]\tvalid_0's rmse: 85.9516\n"
     ]
    },
    {
     "name": "stderr",
     "output_type": "stream",
     "text": [
      "D:\\python\\Anaconda3\\envs\\kaggle\\lib\\site-packages\\sklearn\\model_selection\\_split.py:652: Warning: The least populated class in y has only 3 members, which is too few. The minimum number of members in any class cannot be less than n_splits=5.\n",
      "  % (min_groups, self.n_splits)), Warning)\n"
     ]
    },
    {
     "name": "stdout",
     "output_type": "stream",
     "text": [
      "current folder:  11\n",
      "Training until validation scores don't improve for 3 rounds.\n",
      "Early stopping, best iteration is:\n",
      "[511]\tvalid_0's rmse: 98.6571\n",
      "current folder:  12\n",
      "Training until validation scores don't improve for 3 rounds.\n",
      "Early stopping, best iteration is:\n",
      "[580]\tvalid_0's rmse: 93.1339\n",
      "current folder:  13\n",
      "Training until validation scores don't improve for 3 rounds.\n",
      "Early stopping, best iteration is:\n",
      "[537]\tvalid_0's rmse: 95.8742\n",
      "current folder:  14\n",
      "Training until validation scores don't improve for 3 rounds.\n",
      "Early stopping, best iteration is:\n",
      "[600]\tvalid_0's rmse: 94.3776\n",
      "current folder:  15\n",
      "Training until validation scores don't improve for 3 rounds.\n",
      "Early stopping, best iteration is:\n",
      "[580]\tvalid_0's rmse: 92.9665\n"
     ]
    },
    {
     "name": "stderr",
     "output_type": "stream",
     "text": [
      "D:\\python\\Anaconda3\\envs\\kaggle\\lib\\site-packages\\sklearn\\model_selection\\_split.py:652: Warning: The least populated class in y has only 3 members, which is too few. The minimum number of members in any class cannot be less than n_splits=5.\n",
      "  % (min_groups, self.n_splits)), Warning)\n"
     ]
    },
    {
     "name": "stdout",
     "output_type": "stream",
     "text": [
      "current folder:  16\n",
      "Training until validation scores don't improve for 3 rounds.\n",
      "Early stopping, best iteration is:\n",
      "[600]\tvalid_0's rmse: 91.7294\n",
      "current folder:  17\n",
      "Training until validation scores don't improve for 3 rounds.\n",
      "Early stopping, best iteration is:\n",
      "[537]\tvalid_0's rmse: 99.2447\n",
      "current folder:  18\n",
      "Training until validation scores don't improve for 3 rounds.\n",
      "Early stopping, best iteration is:\n",
      "[537]\tvalid_0's rmse: 98.1809\n",
      "current folder:  19\n",
      "Training until validation scores don't improve for 3 rounds.\n",
      "Early stopping, best iteration is:\n",
      "[791]\tvalid_0's rmse: 81.0485\n",
      "current folder:  20\n",
      "Training until validation scores don't improve for 3 rounds.\n",
      "Early stopping, best iteration is:\n",
      "[601]\tvalid_0's rmse: 92.0389\n"
     ]
    },
    {
     "name": "stderr",
     "output_type": "stream",
     "text": [
      "D:\\python\\Anaconda3\\envs\\kaggle\\lib\\site-packages\\sklearn\\model_selection\\_split.py:652: Warning: The least populated class in y has only 3 members, which is too few. The minimum number of members in any class cannot be less than n_splits=5.\n",
      "  % (min_groups, self.n_splits)), Warning)\n"
     ]
    },
    {
     "name": "stdout",
     "output_type": "stream",
     "text": [
      "current folder:  21\n",
      "Training until validation scores don't improve for 3 rounds.\n",
      "Early stopping, best iteration is:\n",
      "[537]\tvalid_0's rmse: 98.2585\n",
      "current folder:  22\n",
      "Training until validation scores don't improve for 3 rounds.\n",
      "Early stopping, best iteration is:\n",
      "[580]\tvalid_0's rmse: 93.8528\n",
      "current folder:  23\n",
      "Training until validation scores don't improve for 3 rounds.\n",
      "Early stopping, best iteration is:\n",
      "[600]\tvalid_0's rmse: 92.1467\n",
      "current folder:  24\n",
      "Training until validation scores don't improve for 3 rounds.\n",
      "Early stopping, best iteration is:\n",
      "[580]\tvalid_0's rmse: 92.4653\n",
      "current folder:  25\n",
      "Training until validation scores don't improve for 3 rounds.\n",
      "Early stopping, best iteration is:\n",
      "[580]\tvalid_0's rmse: 91.808\n",
      "Предсказываем:  Ymax_true\n"
     ]
    },
    {
     "name": "stderr",
     "output_type": "stream",
     "text": [
      "D:\\python\\Anaconda3\\envs\\kaggle\\lib\\site-packages\\sklearn\\model_selection\\_split.py:652: Warning: The least populated class in y has only 3 members, which is too few. The minimum number of members in any class cannot be less than n_splits=5.\n",
      "  % (min_groups, self.n_splits)), Warning)\n"
     ]
    },
    {
     "name": "stdout",
     "output_type": "stream",
     "text": [
      "current folder:  1\n",
      "Training until validation scores don't improve for 3 rounds.\n",
      "Early stopping, best iteration is:\n",
      "[537]\tvalid_0's rmse: 100.004\n",
      "current folder:  2\n",
      "Training until validation scores don't improve for 3 rounds.\n",
      "Early stopping, best iteration is:\n",
      "[567]\tvalid_0's rmse: 99.0554\n",
      "current folder:  3\n",
      "Training until validation scores don't improve for 3 rounds.\n",
      "Early stopping, best iteration is:\n",
      "[537]\tvalid_0's rmse: 95.3355\n",
      "current folder:  4\n",
      "Training until validation scores don't improve for 3 rounds.\n",
      "Early stopping, best iteration is:\n",
      "[567]\tvalid_0's rmse: 98.3532\n",
      "current folder:  5\n",
      "Training until validation scores don't improve for 3 rounds.\n",
      "Early stopping, best iteration is:\n",
      "[610]\tvalid_0's rmse: 94.8807\n"
     ]
    },
    {
     "name": "stderr",
     "output_type": "stream",
     "text": [
      "D:\\python\\Anaconda3\\envs\\kaggle\\lib\\site-packages\\sklearn\\model_selection\\_split.py:652: Warning: The least populated class in y has only 3 members, which is too few. The minimum number of members in any class cannot be less than n_splits=5.\n",
      "  % (min_groups, self.n_splits)), Warning)\n"
     ]
    },
    {
     "name": "stdout",
     "output_type": "stream",
     "text": [
      "current folder:  6\n",
      "Training until validation scores don't improve for 3 rounds.\n",
      "Early stopping, best iteration is:\n",
      "[609]\tvalid_0's rmse: 91.4731\n",
      "current folder:  7\n",
      "Training until validation scores don't improve for 3 rounds.\n",
      "Early stopping, best iteration is:\n",
      "[537]\tvalid_0's rmse: 101.359\n",
      "current folder:  8\n",
      "Training until validation scores don't improve for 3 rounds.\n",
      "Early stopping, best iteration is:\n",
      "[567]\tvalid_0's rmse: 98.8412\n",
      "current folder:  9\n",
      "Training until validation scores don't improve for 3 rounds.\n",
      "Early stopping, best iteration is:\n",
      "[610]\tvalid_0's rmse: 95.7764\n",
      "current folder:  10\n",
      "Training until validation scores don't improve for 3 rounds.\n",
      "Early stopping, best iteration is:\n",
      "[537]\tvalid_0's rmse: 98.9904\n"
     ]
    },
    {
     "name": "stderr",
     "output_type": "stream",
     "text": [
      "D:\\python\\Anaconda3\\envs\\kaggle\\lib\\site-packages\\sklearn\\model_selection\\_split.py:652: Warning: The least populated class in y has only 3 members, which is too few. The minimum number of members in any class cannot be less than n_splits=5.\n",
      "  % (min_groups, self.n_splits)), Warning)\n"
     ]
    },
    {
     "name": "stdout",
     "output_type": "stream",
     "text": [
      "current folder:  11\n",
      "Training until validation scores don't improve for 3 rounds.\n",
      "Early stopping, best iteration is:\n",
      "[567]\tvalid_0's rmse: 95.1356\n",
      "current folder:  12\n",
      "Training until validation scores don't improve for 3 rounds.\n",
      "Early stopping, best iteration is:\n",
      "[537]\tvalid_0's rmse: 102.639\n",
      "current folder:  13\n",
      "Training until validation scores don't improve for 3 rounds.\n",
      "Early stopping, best iteration is:\n",
      "[537]\tvalid_0's rmse: 99.6044\n",
      "current folder:  14\n",
      "Training until validation scores don't improve for 3 rounds.\n",
      "Early stopping, best iteration is:\n",
      "[744]\tvalid_0's rmse: 85.8058\n",
      "current folder:  15\n",
      "Training until validation scores don't improve for 3 rounds.\n",
      "Early stopping, best iteration is:\n",
      "[567]\tvalid_0's rmse: 94.6636\n"
     ]
    },
    {
     "name": "stderr",
     "output_type": "stream",
     "text": [
      "D:\\python\\Anaconda3\\envs\\kaggle\\lib\\site-packages\\sklearn\\model_selection\\_split.py:652: Warning: The least populated class in y has only 3 members, which is too few. The minimum number of members in any class cannot be less than n_splits=5.\n",
      "  % (min_groups, self.n_splits)), Warning)\n"
     ]
    },
    {
     "name": "stdout",
     "output_type": "stream",
     "text": [
      "current folder:  16\n",
      "Training until validation scores don't improve for 3 rounds.\n",
      "Early stopping, best iteration is:\n",
      "[567]\tvalid_0's rmse: 97.0408\n",
      "current folder:  17\n",
      "Training until validation scores don't improve for 3 rounds.\n",
      "Early stopping, best iteration is:\n",
      "[668]\tvalid_0's rmse: 89.2633\n",
      "current folder:  18\n",
      "Training until validation scores don't improve for 3 rounds.\n",
      "Early stopping, best iteration is:\n",
      "[537]\tvalid_0's rmse: 100.922\n",
      "current folder:  19\n",
      "Training until validation scores don't improve for 3 rounds.\n",
      "Early stopping, best iteration is:\n",
      "[480]\tvalid_0's rmse: 106.299\n",
      "current folder:  20\n",
      "Training until validation scores don't improve for 3 rounds.\n",
      "Early stopping, best iteration is:\n",
      "[537]\tvalid_0's rmse: 97.8473\n"
     ]
    },
    {
     "name": "stderr",
     "output_type": "stream",
     "text": [
      "D:\\python\\Anaconda3\\envs\\kaggle\\lib\\site-packages\\sklearn\\model_selection\\_split.py:652: Warning: The least populated class in y has only 3 members, which is too few. The minimum number of members in any class cannot be less than n_splits=5.\n",
      "  % (min_groups, self.n_splits)), Warning)\n"
     ]
    },
    {
     "name": "stdout",
     "output_type": "stream",
     "text": [
      "current folder:  21\n",
      "Training until validation scores don't improve for 3 rounds.\n",
      "Early stopping, best iteration is:\n",
      "[567]\tvalid_0's rmse: 95.6993\n",
      "current folder:  22\n",
      "Training until validation scores don't improve for 3 rounds.\n",
      "Early stopping, best iteration is:\n",
      "[673]\tvalid_0's rmse: 90.8902\n",
      "current folder:  23\n",
      "Training until validation scores don't improve for 3 rounds.\n",
      "Early stopping, best iteration is:\n",
      "[668]\tvalid_0's rmse: 88.0294\n",
      "current folder:  24\n",
      "Training until validation scores don't improve for 3 rounds.\n",
      "Early stopping, best iteration is:\n",
      "[744]\tvalid_0's rmse: 87.9981\n",
      "current folder:  25\n",
      "Training until validation scores don't improve for 3 rounds.\n",
      "Early stopping, best iteration is:\n",
      "[674]\tvalid_0's rmse: 88.6988\n"
     ]
    }
   ],
   "source": [
    "submission_ff = test.copy()\n",
    "\n",
    "for label in answers_columns:\n",
    "    print (\"Предсказываем: \", label)\n",
    "    \n",
    "    predictions = my_predict_regression(x_train, x_test, label)\n",
    "    submission_ff[label] = predictions \n",
    "    \n",
    "submission_ff.drop([\"Xmin\", \"Ymin\", \"Xmax\", \"Ymax\"], axis=1, inplace=True)\n",
    "submission_ff.columns = ['userId', 'itemId', \"Xmin\", \"Ymin\", \"Xmax\", \"Ymax\"]\n",
    "\n",
    "submission_ff_minmax = submission_ff.groupby('itemId').apply(myminmax)\n",
    "submission_ff_minmax.drop('userId', axis=1, inplace=True)\n",
    "submission_ff_minmax = submission_ff_minmax.astype(int)\n",
    "submission_ff_minmax.to_csv('submission_ff_errors_trained3.csv', index=False, header=False) "
   ]
  },
  {
   "cell_type": "code",
   "execution_count": null,
   "metadata": {},
   "outputs": [],
   "source": []
  },
  {
   "cell_type": "code",
   "execution_count": null,
   "metadata": {},
   "outputs": [],
   "source": []
  },
  {
   "cell_type": "markdown",
   "metadata": {},
   "source": [
    "поменять my_predict на что-то с кросс-валидацией"
   ]
  },
  {
   "cell_type": "markdown",
   "metadata": {},
   "source": [
    "Как провалидироваться на трейне?"
   ]
  },
  {
   "cell_type": "markdown",
   "metadata": {},
   "source": [
    "подобрать фичи и по гридсерчу - параметры дереьвев"
   ]
  }
 ],
 "metadata": {
  "kernelspec": {
   "display_name": "Python 3",
   "language": "python",
   "name": "python3"
  },
  "language_info": {
   "codemirror_mode": {
    "name": "ipython",
    "version": 3
   },
   "file_extension": ".py",
   "mimetype": "text/x-python",
   "name": "python",
   "nbconvert_exporter": "python",
   "pygments_lexer": "ipython3",
   "version": "3.7.2"
  }
 },
 "nbformat": 4,
 "nbformat_minor": 2
}
