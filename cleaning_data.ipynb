{
 "cells": [
  {
   "cell_type": "code",
   "execution_count": 1,
   "metadata": {},
   "outputs": [],
   "source": [
    "%matplotlib inline\n",
    "import matplotlib as mpl\n",
    "import matplotlib.pyplot as plt\n",
    "mpl.rc('axes', labelsize=14)\n",
    "mpl.rc('xtick', labelsize=12)\n",
    "mpl.rc('ytick', labelsize=12)\n",
    "from sklearn.model_selection import train_test_split\n",
    "import numpy as np\n",
    "import pandas as pd\n",
    "import os\n",
    "np.random.seed(42)"
   ]
  },
  {
   "cell_type": "code",
   "execution_count": 2,
   "metadata": {},
   "outputs": [],
   "source": [
    "# сейвим картинки\n",
    "PROJECT_ROOT_DIR = \".\"\n",
    "CHAPTER_ID = \"exitimg\"\n",
    "IMAGES_PATH = os.path.join(PROJECT_ROOT_DIR, \"images\", CHAPTER_ID)\n",
    "\n",
    "def save_fig(fig_id, tight_layout=True, fig_extension=\"png\", resolution=300):\n",
    "    path = os.path.join(IMAGES_PATH, fig_id + \".\" + fig_extension)\n",
    "    print(\"Saving figure\", fig_id)\n",
    "    if tight_layout:\n",
    "        plt.tight_layout()\n",
    "    plt.savefig(path, format=fig_extension, dpi=resolution)\n",
    "\n",
    "# игнорим минорные ворнинги SciPy\n",
    "import warnings\n",
    "warnings.filterwarnings(action=\"ignore\", message=\"^internal gelsd\")"
   ]
  },
  {
   "cell_type": "code",
   "execution_count": 3,
   "metadata": {},
   "outputs": [],
   "source": [
    "# трансформеры\n",
    "from sklearn.pipeline import Pipeline\n",
    "from sklearn.preprocessing import StandardScaler\n",
    "from sklearn.preprocessing import FunctionTransformer\n",
    "\n",
    "# трансформируем pd в np\n",
    "def PdtoNp(some_data):\n",
    "    return some_data.values"
   ]
  },
  {
   "cell_type": "code",
   "execution_count": 4,
   "metadata": {},
   "outputs": [],
   "source": [
    "# стандартизируем перегоняем в пандас и стандартизируем масштаб\n",
    "transform_pipeline = Pipeline([\n",
    "        ('pd_to_np', FunctionTransformer(PdtoNp, validate=False)),\n",
    "        ('std_scaler', StandardScaler()),\n",
    "    ])"
   ]
  },
  {
   "cell_type": "code",
   "execution_count": 5,
   "metadata": {},
   "outputs": [],
   "source": [
    "def area(box):\n",
    "    return (box[2] - box[0]) * (box[3] - box[1])\n",
    "\n",
    "\n",
    "def intersection_over_union(boxes):\n",
    "    assert(len(boxes) == 8)\n",
    "    boxA = boxes[:4].values\n",
    "    boxB = boxes[4:].values\n",
    "    \n",
    "    boxAArea = area(boxA)\n",
    "    boxBArea = area(boxB)\n",
    "    \n",
    "    if (boxAArea == 0 or boxBArea == 0):\n",
    "        return 0\n",
    "        \n",
    "    xA = max(boxA[0], boxB[0])\n",
    "    yA = max(boxA[1], boxB[1])\n",
    "    xB = min(boxA[2], boxB[2])\n",
    "    yB = min(boxA[3], boxB[3])\n",
    "\n",
    "    interArea = max(0, xB - xA) * max(0, yB - yA)\n",
    "\n",
    "    \n",
    "    iou = interArea / float(boxAArea + boxBArea - interArea)\n",
    "    return iou"
   ]
  },
  {
   "cell_type": "code",
   "execution_count": 6,
   "metadata": {},
   "outputs": [],
   "source": [
    "votes = pd.read_csv(\"final_data/train_data.csv\")"
   ]
  },
  {
   "cell_type": "code",
   "execution_count": 7,
   "metadata": {},
   "outputs": [],
   "source": [
    "answers = pd.read_csv(\"final_data/train_answers.csv\")"
   ]
  },
  {
   "cell_type": "code",
   "execution_count": 8,
   "metadata": {},
   "outputs": [],
   "source": [
    "clear_votes = pd.read_csv(\"final_data/test_data.csv\")"
   ]
  },
  {
   "cell_type": "code",
   "execution_count": 9,
   "metadata": {},
   "outputs": [],
   "source": [
    "quorum = votes.groupby(\"itemId\")[['Xmin','Ymin', 'Xmax', 'Ymax']].mean().reset_index()"
   ]
  },
  {
   "cell_type": "code",
   "execution_count": 10,
   "metadata": {},
   "outputs": [],
   "source": [
    "data = quorum.merge(answers, on=[\"itemId\"])"
   ]
  },
  {
   "cell_type": "code",
   "execution_count": 11,
   "metadata": {},
   "outputs": [],
   "source": [
    "data[\"iou\"] = data[['Xmin','Ymin', 'Xmax', 'Ymax', 'Xmin_true',\\\n",
    "      'Ymin_true', 'Xmax_true','Ymax_true']].apply(intersection_over_union, axis=1)"
   ]
  },
  {
   "cell_type": "code",
   "execution_count": 12,
   "metadata": {},
   "outputs": [
    {
     "data": {
      "text/plain": [
       "0.5058725791429202"
      ]
     },
     "execution_count": 12,
     "metadata": {},
     "output_type": "execute_result"
    }
   ],
   "source": [
    "data[\"iou\"].mean()"
   ]
  },
  {
   "cell_type": "code",
   "execution_count": 13,
   "metadata": {},
   "outputs": [],
   "source": [
    "# делаем новые признаки\n",
    "def syntesator(pd_massive):\n",
    "    pd_massive['Xstart'] = pd_massive[['Xmax','Xmin']].apply(max, axis=1)\n",
    "    pd_massive['Xstop'] = pd_massive[['Xmax','Xmin']].apply(min, axis=1)\n",
    "    pd_massive['width'] = pd_massive['Xstart'] - votes['Xstop']\n",
    "    pd_massive['Ystart'] = pd_massive[['Ymax','Ymin']].apply(max, axis=1)\n",
    "    pd_massive['Ystop'] = pd_massive[['Ymax','Ymin']].apply(min, axis=1)\n",
    "    pd_massive['height'] = pd_massive['Ystart'] - votes['Ystop']\n",
    "    return pd_massive"
   ]
  },
  {
   "cell_type": "code",
   "execution_count": 14,
   "metadata": {},
   "outputs": [],
   "source": [
    "votes = syntesator(votes)\n",
    "clear_votes = syntesator(clear_votes)"
   ]
  },
  {
   "cell_type": "code",
   "execution_count": 15,
   "metadata": {},
   "outputs": [],
   "source": [
    "answers['Xstart_true'] = answers[['Xmax_true','Xmin_true']].apply(max, axis=1)\n",
    "answers['Xstop_true'] = answers[['Xmax_true','Xmin_true']].apply(min, axis=1)\n",
    "answers['width_true'] = answers['Xstart_true'] - answers['Xstop_true']\n",
    "answers['Ystart_true'] = answers[['Ymax_true','Ymin_true']].apply(max, axis=1)\n",
    "answers['Ystop_true'] = answers[['Ymax_true','Ymin_true']].apply(min, axis=1)\n",
    "answers['height_true'] = answers['Ystart_true'] - answers['Ystop_true']"
   ]
  },
  {
   "cell_type": "code",
   "execution_count": 16,
   "metadata": {},
   "outputs": [
    {
     "name": "stdout",
     "output_type": "stream",
     "text": [
      "Sanity check:  0\n"
     ]
    }
   ],
   "source": [
    "# собираем весь сет данных в один массив\n",
    "full_set = votes.merge(answers, how='left', on='itemId', sort=False)\n",
    "print(\"Sanity check: \", sum(full_set.index - votes.index))"
   ]
  },
  {
   "cell_type": "code",
   "execution_count": 17,
   "metadata": {},
   "outputs": [
    {
     "name": "stdout",
     "output_type": "stream",
     "text": [
      "<class 'pandas.core.frame.DataFrame'>\n",
      "Int64Index: 5337 entries, 0 to 5336\n",
      "Data columns (total 23 columns):\n",
      "userId         5337 non-null int64\n",
      "itemId         5337 non-null int64\n",
      "Xmin           5337 non-null int64\n",
      "Ymin           5337 non-null int64\n",
      "Xmax           5337 non-null int64\n",
      "Ymax           5337 non-null int64\n",
      "Xstart         5337 non-null int64\n",
      "Xstop          5337 non-null int64\n",
      "width          5337 non-null int64\n",
      "Ystart         5337 non-null int64\n",
      "Ystop          5337 non-null int64\n",
      "height         5337 non-null int64\n",
      "Xmin_true      5337 non-null int64\n",
      "Ymin_true      5337 non-null int64\n",
      "Xmax_true      5337 non-null int64\n",
      "Ymax_true      5337 non-null int64\n",
      "Xstart_true    5337 non-null int64\n",
      "Xstop_true     5337 non-null int64\n",
      "width_true     5337 non-null int64\n",
      "Ystart_true    5337 non-null int64\n",
      "Ystop_true     5337 non-null int64\n",
      "height_true    5337 non-null int64\n",
      "iou            5337 non-null float64\n",
      "dtypes: float64(1), int64(22)\n",
      "memory usage: 1000.7 KB\n"
     ]
    }
   ],
   "source": [
    "# полный сет с iou\n",
    "full_set_quorum = full_set.copy()\n",
    "full_set_quorum[\"iou\"] = full_set[['Xmin','Ymin', 'Xmax', 'Ymax', 'Xmin_true',\\\n",
    "      'Ymin_true', 'Xmax_true','Ymax_true']].apply(intersection_over_union, axis=1)\n",
    "full_set_quorum.info()"
   ]
  },
  {
   "cell_type": "code",
   "execution_count": 18,
   "metadata": {},
   "outputs": [
    {
     "name": "stdout",
     "output_type": "stream",
     "text": [
      "(5337, 10)\n",
      "(5337,)\n"
     ]
    }
   ],
   "source": [
    "# делаем тестовые выборки\n",
    "X = full_set.drop(['userId', 'itemId', 'Xmin_true','Ymin_true', 'Xmax_true', 'Ymax_true', 'Xstart_true',\n",
    "                                       'Xstop_true', 'width_true', 'Ystart_true', 'Ystop_true', 'height_true'], axis=1)\n",
    "y = full_set_quorum[\"iou\"]\n",
    "print(X.shape)\n",
    "print(y.shape)\n",
    "N, d = X.shape"
   ]
  },
  {
   "cell_type": "code",
   "execution_count": 19,
   "metadata": {},
   "outputs": [
    {
     "name": "stdout",
     "output_type": "stream",
     "text": [
      "4002 1335\n"
     ]
    }
   ],
   "source": [
    "from sklearn.model_selection import train_test_split\n",
    "X_train, X_test, y_train, y_test = train_test_split(X, y, test_size = 0.25, random_state = 42)\n",
    "N_train, _ = X_train.shape \n",
    "N_test,  _ = X_test.shape \n",
    "print(N_train, N_test)"
   ]
  },
  {
   "cell_type": "code",
   "execution_count": 20,
   "metadata": {},
   "outputs": [
    {
     "name": "stderr",
     "output_type": "stream",
     "text": [
      "C:\\Users\\Konstantin.mne\\Anaconda3\\lib\\site-packages\\sklearn\\utils\\validation.py:595: DataConversionWarning: Data with input dtype int64 was converted to float64 by StandardScaler.\n",
      "  warnings.warn(msg, DataConversionWarning)\n",
      "C:\\Users\\Konstantin.mne\\Anaconda3\\lib\\site-packages\\sklearn\\utils\\validation.py:595: DataConversionWarning: Data with input dtype int64 was converted to float64 by StandardScaler.\n",
      "  warnings.warn(msg, DataConversionWarning)\n",
      "C:\\Users\\Konstantin.mne\\Anaconda3\\lib\\site-packages\\sklearn\\utils\\validation.py:595: DataConversionWarning: Data with input dtype int64 was converted to float64 by StandardScaler.\n",
      "  warnings.warn(msg, DataConversionWarning)\n",
      "C:\\Users\\Konstantin.mne\\Anaconda3\\lib\\site-packages\\sklearn\\utils\\validation.py:595: DataConversionWarning: Data with input dtype int64 was converted to float64 by StandardScaler.\n",
      "  warnings.warn(msg, DataConversionWarning)\n"
     ]
    }
   ],
   "source": [
    "X_train = transform_pipeline.fit_transform(X_train)\n",
    "X_test = transform_pipeline.fit_transform(X_test)"
   ]
  },
  {
   "cell_type": "code",
   "execution_count": 21,
   "metadata": {},
   "outputs": [],
   "source": [
    "# базовые модели\n",
    "from sklearn.tree import DecisionTreeRegressor\n",
    "from sklearn.linear_model import LinearRegression\n",
    "from sklearn.ensemble import RandomForestRegressor\n",
    "from sklearn.metrics import mean_squared_error\n",
    "from sklearn.model_selection import cross_val_score\n",
    "def display_scores(scores):\n",
    "    print(\"Scores:\", scores)\n",
    "    print(\"Mean:\", scores.mean())\n",
    "    print(\"Standard deviation:\", scores.std())\n",
    "def plot_feature_importances(model, data):\n",
    "    n_features = data.shape[1]\n",
    "    plt.barh(range(n_features), model.feature_importances_, align=\"center\")\n",
    "    plt.xlabel(\"importance\")\n",
    "    plt.ylabel(\"feature\")"
   ]
  },
  {
   "cell_type": "code",
   "execution_count": 22,
   "metadata": {},
   "outputs": [
    {
     "data": {
      "text/plain": [
       "DecisionTreeRegressor(criterion='mse', max_depth=None, max_features=None,\n",
       "           max_leaf_nodes=None, min_impurity_decrease=0.0,\n",
       "           min_impurity_split=None, min_samples_leaf=1,\n",
       "           min_samples_split=2, min_weight_fraction_leaf=0.0,\n",
       "           presort=False, random_state=42, splitter='best')"
      ]
     },
     "execution_count": 22,
     "metadata": {},
     "output_type": "execute_result"
    }
   ],
   "source": [
    "tree_reg = DecisionTreeRegressor(random_state=42)\n",
    "tree_reg.fit(X_train, y_train)"
   ]
  },
  {
   "cell_type": "code",
   "execution_count": 23,
   "metadata": {},
   "outputs": [],
   "source": [
    "tree_scores = cross_val_score(tree_reg, X_train, y_train,\n",
    "                         scoring=\"neg_mean_squared_error\", cv=10)\n",
    "tree_rmse_scores = np.sqrt(-tree_scores)"
   ]
  },
  {
   "cell_type": "code",
   "execution_count": 24,
   "metadata": {},
   "outputs": [
    {
     "name": "stdout",
     "output_type": "stream",
     "text": [
      "Scores: [0.17837198 0.17660838 0.19796352 0.18695243 0.18477339 0.19569657\n",
      " 0.19013837 0.18669347 0.19219971 0.20201229]\n",
      "Mean: 0.18914101096258187\n",
      "Standard deviation: 0.007744208859485251\n"
     ]
    },
    {
     "data": {
      "text/plain": [
       "count    10.000000\n",
       "mean      0.189141\n",
       "std       0.008163\n",
       "min       0.176608\n",
       "25%       0.185253\n",
       "50%       0.188545\n",
       "75%       0.194822\n",
       "max       0.202012\n",
       "dtype: float64"
      ]
     },
     "execution_count": 24,
     "metadata": {},
     "output_type": "execute_result"
    }
   ],
   "source": [
    "display_scores(tree_rmse_scores)\n",
    "pd.Series(np.sqrt(-tree_scores)).describe()"
   ]
  },
  {
   "cell_type": "code",
   "execution_count": 25,
   "metadata": {},
   "outputs": [
    {
     "data": {
      "text/plain": [
       "LinearRegression(copy_X=True, fit_intercept=True, n_jobs=None,\n",
       "         normalize=False)"
      ]
     },
     "execution_count": 25,
     "metadata": {},
     "output_type": "execute_result"
    }
   ],
   "source": [
    "lin_reg = LinearRegression()\n",
    "lin_reg.fit(X_train, y_train)"
   ]
  },
  {
   "cell_type": "code",
   "execution_count": 26,
   "metadata": {},
   "outputs": [
    {
     "name": "stdout",
     "output_type": "stream",
     "text": [
      "Scores: [0.1655147  0.16895988 0.16273489 0.17041143 0.17079565 0.16643754\n",
      " 0.17185896 0.1793827  0.16951575 0.16900303]\n",
      "Mean: 0.1694614533851344\n",
      "Standard deviation: 0.004210627772206555\n"
     ]
    },
    {
     "data": {
      "text/plain": [
       "count    10.000000\n",
       "mean      0.169461\n",
       "std       0.004438\n",
       "min       0.162735\n",
       "25%       0.167068\n",
       "50%       0.169259\n",
       "75%       0.170700\n",
       "max       0.179383\n",
       "dtype: float64"
      ]
     },
     "execution_count": 26,
     "metadata": {},
     "output_type": "execute_result"
    }
   ],
   "source": [
    "lin_scores = cross_val_score(lin_reg, X_train, y_train,\n",
    "                             scoring=\"neg_mean_squared_error\", cv=10)\n",
    "lin_rmse_scores = np.sqrt(-lin_scores)\n",
    "display_scores(lin_rmse_scores)\n",
    "pd.Series(np.sqrt(-lin_scores)).describe()"
   ]
  },
  {
   "cell_type": "code",
   "execution_count": 27,
   "metadata": {},
   "outputs": [
    {
     "data": {
      "text/plain": [
       "RandomForestRegressor(bootstrap=True, criterion='mse', max_depth=None,\n",
       "           max_features='auto', max_leaf_nodes=None,\n",
       "           min_impurity_decrease=0.0, min_impurity_split=None,\n",
       "           min_samples_leaf=1, min_samples_split=2,\n",
       "           min_weight_fraction_leaf=0.0, n_estimators=10, n_jobs=None,\n",
       "           oob_score=False, random_state=42, verbose=0, warm_start=False)"
      ]
     },
     "execution_count": 27,
     "metadata": {},
     "output_type": "execute_result"
    }
   ],
   "source": [
    "forest_reg = RandomForestRegressor(n_estimators=10, random_state=42)\n",
    "forest_reg.fit(X_train, y_train)"
   ]
  },
  {
   "cell_type": "code",
   "execution_count": 28,
   "metadata": {},
   "outputs": [
    {
     "name": "stdout",
     "output_type": "stream",
     "text": [
      "Scores: [0.14720531 0.14171782 0.13090429 0.13502636 0.13923757 0.13770909\n",
      " 0.1402078  0.14549244 0.14776964 0.14472409]\n",
      "Mean: 0.14099944089911612\n",
      "Standard deviation: 0.005206452257693672\n"
     ]
    },
    {
     "data": {
      "text/plain": [
       "count    10.000000\n",
       "mean      0.140999\n",
       "std       0.005488\n",
       "min       0.130904\n",
       "25%       0.138091\n",
       "50%       0.140963\n",
       "75%       0.145300\n",
       "max       0.147770\n",
       "dtype: float64"
      ]
     },
     "execution_count": 28,
     "metadata": {},
     "output_type": "execute_result"
    }
   ],
   "source": [
    "forest_scores = cross_val_score(forest_reg, X_train, y_train,\n",
    "                                scoring=\"neg_mean_squared_error\", cv=10)\n",
    "forest_rmse_scores = np.sqrt(-forest_scores)\n",
    "display_scores(forest_rmse_scores)\n",
    "pd.Series(np.sqrt(-forest_scores)).describe()"
   ]
  },
  {
   "cell_type": "code",
   "execution_count": 29,
   "metadata": {},
   "outputs": [
    {
     "data": {
      "text/plain": [
       "GridSearchCV(cv=5, error_score='raise-deprecating',\n",
       "       estimator=RandomForestRegressor(bootstrap=True, criterion='mse', max_depth=None,\n",
       "           max_features='auto', max_leaf_nodes=None,\n",
       "           min_impurity_decrease=0.0, min_impurity_split=None,\n",
       "           min_samples_leaf=1, min_samples_split=2,\n",
       "           min_weight_fraction_leaf=0.0, n_estimators=10, n_jobs=None,\n",
       "           oob_score=False, random_state=42, verbose=0, warm_start=False),\n",
       "       fit_params=None, iid='warn', n_jobs=None,\n",
       "       param_grid=[{'n_estimators': [3, 10, 30], 'max_features': [2, 4, 6, 8]}, {'bootstrap': [False], 'n_estimators': [3, 10], 'max_features': [2, 3, 4]}],\n",
       "       pre_dispatch='2*n_jobs', refit=True, return_train_score=True,\n",
       "       scoring='neg_mean_squared_error', verbose=0)"
      ]
     },
     "execution_count": 29,
     "metadata": {},
     "output_type": "execute_result"
    }
   ],
   "source": [
    "# протестим сеты из 18 гиперпараметрах. 6 прогонов, итого 90 раундов. Решающие деревья\n",
    "from sklearn.model_selection import GridSearchCV\n",
    "\n",
    "param_grid = [\n",
    "    {'n_estimators': [3, 10, 30], 'max_features': [2, 4, 6, 8]},\n",
    "    {'bootstrap': [False], 'n_estimators': [3, 10], 'max_features': [2, 3, 4]},\n",
    "  ]\n",
    "\n",
    "grid_search = GridSearchCV(forest_reg, param_grid, cv=5,\n",
    "                           scoring='neg_mean_squared_error', return_train_score=True)\n",
    "grid_search.fit(X_train, y_train)"
   ]
  },
  {
   "cell_type": "code",
   "execution_count": 30,
   "metadata": {},
   "outputs": [
    {
     "data": {
      "text/plain": [
       "{'max_features': 2, 'n_estimators': 30}"
      ]
     },
     "execution_count": 30,
     "metadata": {},
     "output_type": "execute_result"
    }
   ],
   "source": [
    "grid_search.best_params_"
   ]
  },
  {
   "cell_type": "code",
   "execution_count": 31,
   "metadata": {},
   "outputs": [
    {
     "data": {
      "text/plain": [
       "RandomForestRegressor(bootstrap=True, criterion='mse', max_depth=None,\n",
       "           max_features=2, max_leaf_nodes=None, min_impurity_decrease=0.0,\n",
       "           min_impurity_split=None, min_samples_leaf=1,\n",
       "           min_samples_split=2, min_weight_fraction_leaf=0.0,\n",
       "           n_estimators=30, n_jobs=None, oob_score=False, random_state=42,\n",
       "           verbose=0, warm_start=False)"
      ]
     },
     "execution_count": 31,
     "metadata": {},
     "output_type": "execute_result"
    }
   ],
   "source": [
    "grid_search.best_estimator_"
   ]
  },
  {
   "cell_type": "code",
   "execution_count": 32,
   "metadata": {},
   "outputs": [
    {
     "name": "stdout",
     "output_type": "stream",
     "text": [
      "0.16033745160592705 {'max_features': 2, 'n_estimators': 3}\n",
      "0.14272252401631397 {'max_features': 2, 'n_estimators': 10}\n",
      "0.13777941338440816 {'max_features': 2, 'n_estimators': 30}\n",
      "0.15924654734152405 {'max_features': 4, 'n_estimators': 3}\n",
      "0.14325977835644887 {'max_features': 4, 'n_estimators': 10}\n",
      "0.13837801888589538 {'max_features': 4, 'n_estimators': 30}\n",
      "0.1583761755530193 {'max_features': 6, 'n_estimators': 3}\n",
      "0.14319313764282052 {'max_features': 6, 'n_estimators': 10}\n",
      "0.13854510589249433 {'max_features': 6, 'n_estimators': 30}\n",
      "0.15682177651126025 {'max_features': 8, 'n_estimators': 3}\n",
      "0.14322006997947842 {'max_features': 8, 'n_estimators': 10}\n",
      "0.1393314942423791 {'max_features': 8, 'n_estimators': 30}\n",
      "0.1579051730087793 {'bootstrap': False, 'max_features': 2, 'n_estimators': 3}\n",
      "0.14362522275265077 {'bootstrap': False, 'max_features': 2, 'n_estimators': 10}\n",
      "0.15602855847099267 {'bootstrap': False, 'max_features': 3, 'n_estimators': 3}\n",
      "0.14200553665346172 {'bootstrap': False, 'max_features': 3, 'n_estimators': 10}\n",
      "0.1569556126554456 {'bootstrap': False, 'max_features': 4, 'n_estimators': 3}\n",
      "0.14420142071041875 {'bootstrap': False, 'max_features': 4, 'n_estimators': 10}\n"
     ]
    }
   ],
   "source": [
    "cvres = grid_search.cv_results_\n",
    "for mean_score, params in zip(cvres[\"mean_test_score\"], cvres[\"params\"]):\n",
    "    print(np.sqrt(-mean_score), params)"
   ]
  },
  {
   "cell_type": "code",
   "execution_count": 33,
   "metadata": {},
   "outputs": [
    {
     "data": {
      "text/plain": [
       "array([0.12299292, 0.06832801, 0.08341329, 0.07151884, 0.08551166,\n",
       "       0.13242403, 0.15026922, 0.0743397 , 0.06730511, 0.14389723])"
      ]
     },
     "execution_count": 33,
     "metadata": {},
     "output_type": "execute_result"
    }
   ],
   "source": [
    "# относительная значимость\n",
    "importance_for_rand_forest = grid_search.best_estimator_.feature_importances_\n",
    "importance_for_rand_forest"
   ]
  },
  {
   "cell_type": "code",
   "execution_count": 34,
   "metadata": {},
   "outputs": [
    {
     "data": {
      "image/png": "[encoded data removed]",
      "text/plain": [
       "<Figure size 432x288 with 1 Axes>"
      ]
     },
     "metadata": {
      "needs_background": "light"
     },
     "output_type": "display_data"
    }
   ],
   "source": [
    "plot_feature_importances(grid_search.best_estimator_, X_train)"
   ]
  },
  {
   "cell_type": "code",
   "execution_count": 35,
   "metadata": {},
   "outputs": [
    {
     "data": {
      "text/html": [
       "<div>\n",
       "<style scoped>\n",
       "    .dataframe tbody tr th:only-of-type {\n",
       "        vertical-align: middle;\n",
       "    }\n",
       "\n",
       "    .dataframe tbody tr th {\n",
       "        vertical-align: top;\n",
       "    }\n",
       "\n",
       "    .dataframe thead th {\n",
       "        text-align: right;\n",
       "    }\n",
       "</style>\n",
       "<table border=\"1\" class=\"dataframe\">\n",
       "  <thead>\n",
       "    <tr style=\"text-align: right;\">\n",
       "      <th></th>\n",
       "      <th>Xmin</th>\n",
       "      <th>Ymin</th>\n",
       "      <th>Xmax</th>\n",
       "      <th>Ymax</th>\n",
       "      <th>Xstart</th>\n",
       "      <th>Xstop</th>\n",
       "      <th>width</th>\n",
       "      <th>Ystart</th>\n",
       "      <th>Ystop</th>\n",
       "      <th>height</th>\n",
       "    </tr>\n",
       "  </thead>\n",
       "  <tbody>\n",
       "    <tr>\n",
       "      <th>0</th>\n",
       "      <td>62</td>\n",
       "      <td>656</td>\n",
       "      <td>276</td>\n",
       "      <td>803</td>\n",
       "      <td>276</td>\n",
       "      <td>62</td>\n",
       "      <td>214</td>\n",
       "      <td>803</td>\n",
       "      <td>656</td>\n",
       "      <td>147</td>\n",
       "    </tr>\n",
       "  </tbody>\n",
       "</table>\n",
       "</div>"
      ],
      "text/plain": [
       "   Xmin  Ymin  Xmax  Ymax  Xstart  Xstop  width  Ystart  Ystop  height\n",
       "0    62   656   276   803     276     62    214     803    656     147"
      ]
     },
     "execution_count": 35,
     "metadata": {},
     "output_type": "execute_result"
    }
   ],
   "source": [
    "X.head(1)"
   ]
  },
  {
   "cell_type": "code",
   "execution_count": 36,
   "metadata": {},
   "outputs": [
    {
     "name": "stdout",
     "output_type": "stream",
     "text": [
      "(5337, 4)\n",
      "(5337,)\n"
     ]
    }
   ],
   "source": [
    "# далее попробуем сократить кол-во решающих параметров\n",
    "X1 = full_set.drop(['itemId', 'userId', 'Xmin_true','Ymin_true', \n",
    "                    'Xmax_true', 'Ymax_true', 'Xstart_true', 'Xstop_true', 'width_true', 'Ystart_true', \n",
    "                    'Ystop_true', 'height_true', 'Xstart', 'Xstop', 'Ystart', 'Ystop', 'height', 'width'], axis=1)\n",
    "print(X1.shape)\n",
    "print(y.shape)\n",
    "N, d = X1.shape"
   ]
  },
  {
   "cell_type": "code",
   "execution_count": 37,
   "metadata": {},
   "outputs": [
    {
     "name": "stdout",
     "output_type": "stream",
     "text": [
      "4002 1335\n"
     ]
    }
   ],
   "source": [
    "X1_train, X1_test, y_train, y_test = train_test_split(X1, y, test_size = 0.25, random_state = 42)\n",
    "N1_train, _ = X1_train.shape \n",
    "print(N1_train, N_test)"
   ]
  },
  {
   "cell_type": "code",
   "execution_count": 38,
   "metadata": {},
   "outputs": [
    {
     "name": "stderr",
     "output_type": "stream",
     "text": [
      "C:\\Users\\Konstantin.mne\\Anaconda3\\lib\\site-packages\\sklearn\\utils\\validation.py:595: DataConversionWarning: Data with input dtype int64 was converted to float64 by StandardScaler.\n",
      "  warnings.warn(msg, DataConversionWarning)\n",
      "C:\\Users\\Konstantin.mne\\Anaconda3\\lib\\site-packages\\sklearn\\utils\\validation.py:595: DataConversionWarning: Data with input dtype int64 was converted to float64 by StandardScaler.\n",
      "  warnings.warn(msg, DataConversionWarning)\n",
      "C:\\Users\\Konstantin.mne\\Anaconda3\\lib\\site-packages\\sklearn\\utils\\validation.py:595: DataConversionWarning: Data with input dtype int64 was converted to float64 by StandardScaler.\n",
      "  warnings.warn(msg, DataConversionWarning)\n",
      "C:\\Users\\Konstantin.mne\\Anaconda3\\lib\\site-packages\\sklearn\\utils\\validation.py:595: DataConversionWarning: Data with input dtype int64 was converted to float64 by StandardScaler.\n",
      "  warnings.warn(msg, DataConversionWarning)\n"
     ]
    }
   ],
   "source": [
    "X1_train = transform_pipeline.fit_transform(X1_train)\n",
    "X1_test = transform_pipeline.fit_transform(X1_test)"
   ]
  },
  {
   "cell_type": "code",
   "execution_count": 39,
   "metadata": {},
   "outputs": [
    {
     "data": {
      "text/plain": [
       "RandomForestRegressor(bootstrap=True, criterion='mse', max_depth=None,\n",
       "           max_features='auto', max_leaf_nodes=None,\n",
       "           min_impurity_decrease=0.0, min_impurity_split=None,\n",
       "           min_samples_leaf=1, min_samples_split=2,\n",
       "           min_weight_fraction_leaf=0.0, n_estimators=10, n_jobs=None,\n",
       "           oob_score=False, random_state=42, verbose=0, warm_start=False)"
      ]
     },
     "execution_count": 39,
     "metadata": {},
     "output_type": "execute_result"
    }
   ],
   "source": [
    "synt_forest_reg = RandomForestRegressor(n_estimators=10, random_state=42)\n",
    "synt_forest_reg.fit(X1_train, y_train)"
   ]
  },
  {
   "cell_type": "code",
   "execution_count": 40,
   "metadata": {},
   "outputs": [
    {
     "name": "stdout",
     "output_type": "stream",
     "text": [
      "Scores: [0.15201817 0.14482293 0.13647615 0.14900834 0.14331686 0.14163985\n",
      " 0.14994623 0.15507898 0.15763877 0.15220878]\n",
      "Mean: 0.14821550537386474\n",
      "Standard deviation: 0.006216861100993657\n"
     ]
    },
    {
     "data": {
      "text/plain": [
       "count    10.000000\n",
       "mean      0.148216\n",
       "std       0.006553\n",
       "min       0.136476\n",
       "25%       0.143693\n",
       "50%       0.149477\n",
       "75%       0.152161\n",
       "max       0.157639\n",
       "dtype: float64"
      ]
     },
     "execution_count": 40,
     "metadata": {},
     "output_type": "execute_result"
    }
   ],
   "source": [
    "synt_forest_scores = cross_val_score(synt_forest_reg, X1_train, y_train,\n",
    "                                scoring=\"neg_mean_squared_error\", cv=10)\n",
    "synt_forest_rmse_scores = np.sqrt(-synt_forest_scores)\n",
    "display_scores(synt_forest_rmse_scores)\n",
    "pd.Series(np.sqrt(-synt_forest_scores)).describe()"
   ]
  },
  {
   "cell_type": "code",
   "execution_count": 41,
   "metadata": {},
   "outputs": [
    {
     "data": {
      "text/plain": [
       "GridSearchCV(cv=5, error_score='raise-deprecating',\n",
       "       estimator=RandomForestRegressor(bootstrap=True, criterion='mse', max_depth=None,\n",
       "           max_features='auto', max_leaf_nodes=None,\n",
       "           min_impurity_decrease=0.0, min_impurity_split=None,\n",
       "           min_samples_leaf=1, min_samples_split=2,\n",
       "           min_weight_fraction_leaf=0.0, n_estimators=10, n_jobs=None,\n",
       "           oob_score=False, random_state=42, verbose=0, warm_start=False),\n",
       "       fit_params=None, iid='warn', n_jobs=None,\n",
       "       param_grid=[{'n_estimators': [3, 10, 30], 'max_features': [2, 3, 4]}, {'bootstrap': [False], 'n_estimators': [3, 10], 'max_features': [2, 3, 4]}],\n",
       "       pre_dispatch='2*n_jobs', refit=True, return_train_score=True,\n",
       "       scoring='neg_mean_squared_error', verbose=0)"
      ]
     },
     "execution_count": 41,
     "metadata": {},
     "output_type": "execute_result"
    }
   ],
   "source": [
    "synt_param_grid = [\n",
    "    {'n_estimators': [3, 10, 30], 'max_features': [2, 3, 4]},\n",
    "    {'bootstrap': [False], 'n_estimators': [3, 10], 'max_features': [2, 3, 4]},\n",
    "  ]\n",
    "synt_grid_search = GridSearchCV(synt_forest_reg, synt_param_grid, cv=5,\n",
    "                           scoring='neg_mean_squared_error', return_train_score=True)\n",
    "synt_grid_search.fit(X1_train, y_train)"
   ]
  },
  {
   "cell_type": "code",
   "execution_count": 42,
   "metadata": {},
   "outputs": [
    {
     "data": {
      "text/plain": [
       "{'max_features': 2, 'n_estimators': 30}"
      ]
     },
     "execution_count": 42,
     "metadata": {},
     "output_type": "execute_result"
    }
   ],
   "source": [
    "synt_grid_search.best_params_"
   ]
  },
  {
   "cell_type": "code",
   "execution_count": 43,
   "metadata": {},
   "outputs": [
    {
     "data": {
      "text/plain": [
       "RandomForestRegressor(bootstrap=True, criterion='mse', max_depth=None,\n",
       "           max_features=2, max_leaf_nodes=None, min_impurity_decrease=0.0,\n",
       "           min_impurity_split=None, min_samples_leaf=1,\n",
       "           min_samples_split=2, min_weight_fraction_leaf=0.0,\n",
       "           n_estimators=30, n_jobs=None, oob_score=False, random_state=42,\n",
       "           verbose=0, warm_start=False)"
      ]
     },
     "execution_count": 43,
     "metadata": {},
     "output_type": "execute_result"
    }
   ],
   "source": [
    "synt_grid_search.best_estimator_"
   ]
  },
  {
   "cell_type": "code",
   "execution_count": 44,
   "metadata": {},
   "outputs": [
    {
     "data": {
      "text/plain": [
       "array([0.33028705, 0.18276862, 0.28092229, 0.20602204])"
      ]
     },
     "execution_count": 44,
     "metadata": {},
     "output_type": "execute_result"
    }
   ],
   "source": [
    "importance_for_synt_rand_forest = synt_grid_search.best_estimator_.feature_importances_\n",
    "importance_for_synt_rand_forest"
   ]
  },
  {
   "cell_type": "code",
   "execution_count": 45,
   "metadata": {},
   "outputs": [
    {
     "data": {
      "image/png": "[encoded data removed]",
      "text/plain": [
       "<Figure size 432x288 with 1 Axes>"
      ]
     },
     "metadata": {
      "needs_background": "light"
     },
     "output_type": "display_data"
    }
   ],
   "source": [
    "plot_feature_importances(synt_grid_search.best_estimator_, X1_train)"
   ]
  },
  {
   "cell_type": "code",
   "execution_count": 46,
   "metadata": {},
   "outputs": [
    {
     "data": {
      "text/html": [
       "<div>\n",
       "<style scoped>\n",
       "    .dataframe tbody tr th:only-of-type {\n",
       "        vertical-align: middle;\n",
       "    }\n",
       "\n",
       "    .dataframe tbody tr th {\n",
       "        vertical-align: top;\n",
       "    }\n",
       "\n",
       "    .dataframe thead th {\n",
       "        text-align: right;\n",
       "    }\n",
       "</style>\n",
       "<table border=\"1\" class=\"dataframe\">\n",
       "  <thead>\n",
       "    <tr style=\"text-align: right;\">\n",
       "      <th></th>\n",
       "      <th>Xmin</th>\n",
       "      <th>Ymin</th>\n",
       "      <th>Xmax</th>\n",
       "      <th>Ymax</th>\n",
       "    </tr>\n",
       "  </thead>\n",
       "  <tbody>\n",
       "    <tr>\n",
       "      <th>0</th>\n",
       "      <td>62</td>\n",
       "      <td>656</td>\n",
       "      <td>276</td>\n",
       "      <td>803</td>\n",
       "    </tr>\n",
       "  </tbody>\n",
       "</table>\n",
       "</div>"
      ],
      "text/plain": [
       "   Xmin  Ymin  Xmax  Ymax\n",
       "0    62   656   276   803"
      ]
     },
     "execution_count": 46,
     "metadata": {},
     "output_type": "execute_result"
    }
   ],
   "source": [
    "X1.head(1)"
   ]
  },
  {
   "cell_type": "markdown",
   "metadata": {},
   "source": [
    "Получилось хуже, к базовой модели:"
   ]
  },
  {
   "cell_type": "code",
   "execution_count": 47,
   "metadata": {},
   "outputs": [
    {
     "name": "stderr",
     "output_type": "stream",
     "text": [
      "C:\\Users\\Konstantin.mne\\Anaconda3\\lib\\site-packages\\sklearn\\utils\\validation.py:595: DataConversionWarning: Data with input dtype int64 was converted to float64 by StandardScaler.\n",
      "  warnings.warn(msg, DataConversionWarning)\n",
      "C:\\Users\\Konstantin.mne\\Anaconda3\\lib\\site-packages\\sklearn\\utils\\validation.py:595: DataConversionWarning: Data with input dtype int64 was converted to float64 by StandardScaler.\n",
      "  warnings.warn(msg, DataConversionWarning)\n"
     ]
    }
   ],
   "source": [
    "X_full = transform_pipeline.fit_transform(X)\n",
    "prediction = grid_search.best_estimator_.predict(X_full)"
   ]
  },
  {
   "cell_type": "code",
   "execution_count": 48,
   "metadata": {},
   "outputs": [],
   "source": [
    "# добавим в полный сет предсказания\n",
    "full_set['prediction'] = prediction"
   ]
  },
  {
   "cell_type": "code",
   "execution_count": 49,
   "metadata": {},
   "outputs": [
    {
     "name": "stdout",
     "output_type": "stream",
     "text": [
      "<class 'pandas.core.frame.DataFrame'>\n",
      "Int64Index: 728 entries, 0 to 5323\n",
      "Data columns (total 23 columns):\n",
      "userId         728 non-null int64\n",
      "itemId         728 non-null int64\n",
      "Xmin           728 non-null int64\n",
      "Ymin           728 non-null int64\n",
      "Xmax           728 non-null int64\n",
      "Ymax           728 non-null int64\n",
      "Xstart         728 non-null int64\n",
      "Xstop          728 non-null int64\n",
      "width          728 non-null int64\n",
      "Ystart         728 non-null int64\n",
      "Ystop          728 non-null int64\n",
      "height         728 non-null int64\n",
      "Xmin_true      728 non-null int64\n",
      "Ymin_true      728 non-null int64\n",
      "Xmax_true      728 non-null int64\n",
      "Ymax_true      728 non-null int64\n",
      "Xstart_true    728 non-null int64\n",
      "Xstop_true     728 non-null int64\n",
      "width_true     728 non-null int64\n",
      "Ystart_true    728 non-null int64\n",
      "Ystop_true     728 non-null int64\n",
      "height_true    728 non-null int64\n",
      "prediction     728 non-null float64\n",
      "dtypes: float64(1), int64(22)\n",
      "memory usage: 136.5 KB\n"
     ]
    }
   ],
   "source": [
    "# дропнем предсказания хуже 0.6\n",
    "iou_drop = full_set[full_set['prediction']<0.6]\n",
    "droped_full_set = full_set.drop(iou_drop.index, axis=0)\n",
    "droped_full_set.info()"
   ]
  },
  {
   "cell_type": "code",
   "execution_count": 50,
   "metadata": {},
   "outputs": [],
   "source": [
    "# посмотрим какой iou\n",
    "droped_full_set = droped_full_set.drop(['userId', 'Xstart', 'Xstop', 'width', 'Ystart', 'Ystop', 'height', \n",
    "                                        'Xstart_true', 'Xstop_true', 'width_true', 'Ystart_true', \n",
    "                                        'Ystop_true', 'height_true', 'prediction'], axis=1)"
   ]
  },
  {
   "cell_type": "code",
   "execution_count": 51,
   "metadata": {},
   "outputs": [],
   "source": [
    "droped_full_set[\"iou\"] = droped_full_set[['Xmin','Ymin', 'Xmax', 'Ymax', 'Xmin_true', \n",
    "                                          'Ymin_true', 'Xmax_true','Ymax_true']].apply(intersection_over_union, axis=1)"
   ]
  },
  {
   "cell_type": "code",
   "execution_count": 52,
   "metadata": {},
   "outputs": [
    {
     "data": {
      "text/plain": [
       "0.7033917622417505"
      ]
     },
     "execution_count": 52,
     "metadata": {},
     "output_type": "execute_result"
    }
   ],
   "source": [
    "droped_full_set[\"iou\"].mean()"
   ]
  },
  {
   "cell_type": "code",
   "execution_count": 53,
   "metadata": {},
   "outputs": [
    {
     "data": {
      "text/html": [
       "<div>\n",
       "<style scoped>\n",
       "    .dataframe tbody tr th:only-of-type {\n",
       "        vertical-align: middle;\n",
       "    }\n",
       "\n",
       "    .dataframe tbody tr th {\n",
       "        vertical-align: top;\n",
       "    }\n",
       "\n",
       "    .dataframe thead th {\n",
       "        text-align: right;\n",
       "    }\n",
       "</style>\n",
       "<table border=\"1\" class=\"dataframe\">\n",
       "  <thead>\n",
       "    <tr style=\"text-align: right;\">\n",
       "      <th></th>\n",
       "      <th>Xmin</th>\n",
       "      <th>Ymin</th>\n",
       "      <th>Xmax</th>\n",
       "      <th>Ymax</th>\n",
       "      <th>Xstart</th>\n",
       "      <th>Xstop</th>\n",
       "      <th>width</th>\n",
       "      <th>Ystart</th>\n",
       "      <th>Ystop</th>\n",
       "      <th>height</th>\n",
       "    </tr>\n",
       "  </thead>\n",
       "  <tbody>\n",
       "    <tr>\n",
       "      <th>0</th>\n",
       "      <td>86</td>\n",
       "      <td>640</td>\n",
       "      <td>242</td>\n",
       "      <td>743</td>\n",
       "      <td>242</td>\n",
       "      <td>86</td>\n",
       "      <td>180.0</td>\n",
       "      <td>743</td>\n",
       "      <td>640</td>\n",
       "      <td>87.0</td>\n",
       "    </tr>\n",
       "  </tbody>\n",
       "</table>\n",
       "</div>"
      ],
      "text/plain": [
       "   Xmin  Ymin  Xmax  Ymax  Xstart  Xstop  width  Ystart  Ystop  height\n",
       "0    86   640   242   743     242     86  180.0     743    640    87.0"
      ]
     },
     "execution_count": 53,
     "metadata": {},
     "output_type": "execute_result"
    }
   ],
   "source": [
    "X_full_test = clear_votes.drop(['userId', 'itemId'], axis=1)\n",
    "X_full_test.head(1)"
   ]
  },
  {
   "cell_type": "code",
   "execution_count": 54,
   "metadata": {},
   "outputs": [],
   "source": [
    "# на тесте\n",
    "X_full_test = transform_pipeline.fit_transform(X_full_test)"
   ]
  },
  {
   "cell_type": "code",
   "execution_count": 55,
   "metadata": {},
   "outputs": [],
   "source": [
    "prediction_test = grid_search.best_estimator_.predict(X_full_test)"
   ]
  },
  {
   "cell_type": "code",
   "execution_count": 56,
   "metadata": {},
   "outputs": [
    {
     "name": "stdout",
     "output_type": "stream",
     "text": [
      "<class 'pandas.core.frame.DataFrame'>\n",
      "Int64Index: 728 entries, 0 to 5323\n",
      "Data columns (total 10 columns):\n",
      "itemId       728 non-null int64\n",
      "Xmin         728 non-null int64\n",
      "Ymin         728 non-null int64\n",
      "Xmax         728 non-null int64\n",
      "Ymax         728 non-null int64\n",
      "Xmin_true    728 non-null int64\n",
      "Ymin_true    728 non-null int64\n",
      "Xmax_true    728 non-null int64\n",
      "Ymax_true    728 non-null int64\n",
      "iou          728 non-null float64\n",
      "dtypes: float64(1), int64(9)\n",
      "memory usage: 62.6 KB\n"
     ]
    }
   ],
   "source": [
    "clear_votes['prediction'] = prediction_test\n",
    "iou_drop_test = clear_votes[clear_votes['prediction']<0.6]\n",
    "droped_clear_votes = clear_votes.drop(iou_drop_test.index, axis=0)\n",
    "droped_full_set.info()"
   ]
  },
  {
   "cell_type": "code",
   "execution_count": 57,
   "metadata": {},
   "outputs": [],
   "source": [
    "droped_clear_votes = droped_clear_votes.drop(['userId', 'Xstart', 'Xstop', 'width', 'Ystart', 'Ystop', 'height', \n",
    "                                        'prediction'], axis=1)"
   ]
  },
  {
   "cell_type": "code",
   "execution_count": 58,
   "metadata": {},
   "outputs": [],
   "source": [
    "droped_clear_votes.to_csv('final_data/submission.csv', index=False, header=False)"
   ]
  },
  {
   "cell_type": "markdown",
   "metadata": {},
   "source": [
    "Увы, это не входит в условия задачи в конкурсе - мы там предсказываем координаты углов.\n",
    "В принципе идею можно развивать дальше и на основе предсказанного iou предсказывать координаты"
   ]
  },
  {
   "cell_type": "code",
   "execution_count": null,
   "metadata": {},
   "outputs": [],
   "source": []
  }
 ],
 "metadata": {
  "kernelspec": {
   "display_name": "Python 3",
   "language": "python",
   "name": "python3"
  },
  "language_info": {
   "codemirror_mode": {
    "name": "ipython",
    "version": 3
   },
   "file_extension": ".py",
   "mimetype": "text/x-python",
   "name": "python",
   "nbconvert_exporter": "python",
   "pygments_lexer": "ipython3",
   "version": "3.7.2"
  }
 },
 "nbformat": 4,
 "nbformat_minor": 2
}
